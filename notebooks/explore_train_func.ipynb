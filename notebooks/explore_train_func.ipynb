{
 "cells": [
  {
   "cell_type": "code",
   "id": "initial_id",
   "metadata": {
    "collapsed": true,
    "ExecuteTime": {
     "end_time": "2025-05-21T06:52:41.563734Z",
     "start_time": "2025-05-21T06:52:41.529557Z"
    }
   },
   "source": [
    "%load_ext autoreload\n",
    "%autoreload 2\n",
    "\n",
    "import pandas as pd\n",
    "# pd.set_option('display.datetime_format', '%Y-%m-%d %H:%M:%S')\n",
    "\n",
    "from code.evaluation import (compute_horizon_degradation_metrics,\n",
    "                             plot_forecast_degradation,\n",
    "                             plot_selected_horizons,\n",
    "                             plot_forecast_trajectory,\n",
    "                             compute_forecast_metrics)\n",
    "\n",
    "from code.data_utils import clean_actual_data, clean_forecast_data"
   ],
   "outputs": [
    {
     "name": "stdout",
     "output_type": "stream",
     "text": [
      "The autoreload extension is already loaded. To reload it, use:\n",
      "  %reload_ext autoreload\n"
     ]
    }
   ],
   "execution_count": 25
  },
  {
   "metadata": {
    "ExecuteTime": {
     "end_time": "2025-05-21T06:52:41.917499Z",
     "start_time": "2025-05-21T06:52:41.687232Z"
    }
   },
   "cell_type": "code",
   "source": [
    "actual = pd.read_csv(r'../data/raw/actual_load.csv')\n",
    "forecast = pd.read_csv(r'../data/raw/forecast_load.csv')"
   ],
   "id": "217faf17e6de5e25",
   "outputs": [],
   "execution_count": 26
  },
  {
   "metadata": {
    "ExecuteTime": {
     "end_time": "2025-05-21T06:53:06.136599Z",
     "start_time": "2025-05-21T06:52:42.005214Z"
    }
   },
   "cell_type": "code",
   "source": [
    "actual_df = clean_actual_data(actual)\n",
    "forecast_df = clean_forecast_data(forecast)"
   ],
   "id": "2202892950308a1",
   "outputs": [],
   "execution_count": 27
  },
  {
   "metadata": {
    "ExecuteTime": {
     "end_time": "2025-05-21T06:53:06.358073Z",
     "start_time": "2025-05-21T06:53:06.279525Z"
    }
   },
   "cell_type": "code",
   "source": "(forecast_df.shape[0])/actual_df.shape[0]",
   "id": "35db6c3fe40f973a",
   "outputs": [
    {
     "data": {
      "text/plain": [
       "24.0"
      ]
     },
     "execution_count": 28,
     "metadata": {},
     "output_type": "execute_result"
    }
   ],
   "execution_count": 28
  },
  {
   "metadata": {
    "ExecuteTime": {
     "end_time": "2025-05-21T06:53:06.597531Z",
     "start_time": "2025-05-21T06:53:06.541422Z"
    }
   },
   "cell_type": "code",
   "source": "actual_df",
   "id": "ba026eac2ff064b2",
   "outputs": [
    {
     "data": {
      "text/plain": [
       "               timestamp        load\n",
       "0    2025-04-21 00:00:00  81048.8000\n",
       "1    2025-04-21 00:05:00  81350.1250\n",
       "2    2025-04-21 00:10:01  81709.6200\n",
       "3    2025-04-21 00:15:00  81796.1400\n",
       "4    2025-04-21 00:20:00  82089.3750\n",
       "...                  ...         ...\n",
       "8215 2025-05-19 12:40:00  82672.5859\n",
       "8216 2025-05-19 12:45:00  82533.6100\n",
       "8217 2025-05-19 12:50:00  82968.9500\n",
       "8218 2025-05-19 12:55:00  82591.1100\n",
       "8219 2025-05-19 13:00:00  82704.3700\n",
       "\n",
       "[8220 rows x 2 columns]"
      ],
      "text/html": [
       "<div>\n",
       "<style scoped>\n",
       "    .dataframe tbody tr th:only-of-type {\n",
       "        vertical-align: middle;\n",
       "    }\n",
       "\n",
       "    .dataframe tbody tr th {\n",
       "        vertical-align: top;\n",
       "    }\n",
       "\n",
       "    .dataframe thead th {\n",
       "        text-align: right;\n",
       "    }\n",
       "</style>\n",
       "<table border=\"1\" class=\"dataframe\">\n",
       "  <thead>\n",
       "    <tr style=\"text-align: right;\">\n",
       "      <th></th>\n",
       "      <th>timestamp</th>\n",
       "      <th>load</th>\n",
       "    </tr>\n",
       "  </thead>\n",
       "  <tbody>\n",
       "    <tr>\n",
       "      <th>0</th>\n",
       "      <td>2025-04-21 00:00:00</td>\n",
       "      <td>81048.8000</td>\n",
       "    </tr>\n",
       "    <tr>\n",
       "      <th>1</th>\n",
       "      <td>2025-04-21 00:05:00</td>\n",
       "      <td>81350.1250</td>\n",
       "    </tr>\n",
       "    <tr>\n",
       "      <th>2</th>\n",
       "      <td>2025-04-21 00:10:01</td>\n",
       "      <td>81709.6200</td>\n",
       "    </tr>\n",
       "    <tr>\n",
       "      <th>3</th>\n",
       "      <td>2025-04-21 00:15:00</td>\n",
       "      <td>81796.1400</td>\n",
       "    </tr>\n",
       "    <tr>\n",
       "      <th>4</th>\n",
       "      <td>2025-04-21 00:20:00</td>\n",
       "      <td>82089.3750</td>\n",
       "    </tr>\n",
       "    <tr>\n",
       "      <th>...</th>\n",
       "      <td>...</td>\n",
       "      <td>...</td>\n",
       "    </tr>\n",
       "    <tr>\n",
       "      <th>8215</th>\n",
       "      <td>2025-05-19 12:40:00</td>\n",
       "      <td>82672.5859</td>\n",
       "    </tr>\n",
       "    <tr>\n",
       "      <th>8216</th>\n",
       "      <td>2025-05-19 12:45:00</td>\n",
       "      <td>82533.6100</td>\n",
       "    </tr>\n",
       "    <tr>\n",
       "      <th>8217</th>\n",
       "      <td>2025-05-19 12:50:00</td>\n",
       "      <td>82968.9500</td>\n",
       "    </tr>\n",
       "    <tr>\n",
       "      <th>8218</th>\n",
       "      <td>2025-05-19 12:55:00</td>\n",
       "      <td>82591.1100</td>\n",
       "    </tr>\n",
       "    <tr>\n",
       "      <th>8219</th>\n",
       "      <td>2025-05-19 13:00:00</td>\n",
       "      <td>82704.3700</td>\n",
       "    </tr>\n",
       "  </tbody>\n",
       "</table>\n",
       "<p>8220 rows × 2 columns</p>\n",
       "</div>"
      ]
     },
     "execution_count": 29,
     "metadata": {},
     "output_type": "execute_result"
    }
   ],
   "execution_count": 29
  },
  {
   "metadata": {
    "ExecuteTime": {
     "end_time": "2025-05-21T06:53:06.934368Z",
     "start_time": "2025-05-21T06:53:06.863383Z"
    }
   },
   "cell_type": "code",
   "source": "forecast_df",
   "id": "47f5514465f698dc",
   "outputs": [
    {
     "data": {
      "text/plain": [
       "                 issued_at         target_time  forecast_load  horizon\n",
       "0      2025-04-21 00:00:00 2025-04-21 00:00:00        80874.0        0\n",
       "1      2025-04-21 00:00:00 2025-04-21 00:05:00        80893.0        1\n",
       "2      2025-04-21 00:00:00 2025-04-21 00:10:00        80895.0        2\n",
       "3      2025-04-21 00:00:00 2025-04-21 00:15:00        80882.0        3\n",
       "4      2025-04-21 00:00:00 2025-04-21 00:20:00        80848.0        4\n",
       "...                    ...                 ...            ...      ...\n",
       "197275 2025-05-19 12:55:00 2025-05-19 14:30:00        84585.0       19\n",
       "197276 2025-05-19 12:55:00 2025-05-19 14:35:00        84671.0       20\n",
       "197277 2025-05-19 12:55:00 2025-05-19 14:40:00        84753.0       21\n",
       "197278 2025-05-19 12:55:00 2025-05-19 14:45:00        84834.0       22\n",
       "197279 2025-05-19 12:55:00 2025-05-19 14:50:00        84916.0       23\n",
       "\n",
       "[197280 rows x 4 columns]"
      ],
      "text/html": [
       "<div>\n",
       "<style scoped>\n",
       "    .dataframe tbody tr th:only-of-type {\n",
       "        vertical-align: middle;\n",
       "    }\n",
       "\n",
       "    .dataframe tbody tr th {\n",
       "        vertical-align: top;\n",
       "    }\n",
       "\n",
       "    .dataframe thead th {\n",
       "        text-align: right;\n",
       "    }\n",
       "</style>\n",
       "<table border=\"1\" class=\"dataframe\">\n",
       "  <thead>\n",
       "    <tr style=\"text-align: right;\">\n",
       "      <th></th>\n",
       "      <th>issued_at</th>\n",
       "      <th>target_time</th>\n",
       "      <th>forecast_load</th>\n",
       "      <th>horizon</th>\n",
       "    </tr>\n",
       "  </thead>\n",
       "  <tbody>\n",
       "    <tr>\n",
       "      <th>0</th>\n",
       "      <td>2025-04-21 00:00:00</td>\n",
       "      <td>2025-04-21 00:00:00</td>\n",
       "      <td>80874.0</td>\n",
       "      <td>0</td>\n",
       "    </tr>\n",
       "    <tr>\n",
       "      <th>1</th>\n",
       "      <td>2025-04-21 00:00:00</td>\n",
       "      <td>2025-04-21 00:05:00</td>\n",
       "      <td>80893.0</td>\n",
       "      <td>1</td>\n",
       "    </tr>\n",
       "    <tr>\n",
       "      <th>2</th>\n",
       "      <td>2025-04-21 00:00:00</td>\n",
       "      <td>2025-04-21 00:10:00</td>\n",
       "      <td>80895.0</td>\n",
       "      <td>2</td>\n",
       "    </tr>\n",
       "    <tr>\n",
       "      <th>3</th>\n",
       "      <td>2025-04-21 00:00:00</td>\n",
       "      <td>2025-04-21 00:15:00</td>\n",
       "      <td>80882.0</td>\n",
       "      <td>3</td>\n",
       "    </tr>\n",
       "    <tr>\n",
       "      <th>4</th>\n",
       "      <td>2025-04-21 00:00:00</td>\n",
       "      <td>2025-04-21 00:20:00</td>\n",
       "      <td>80848.0</td>\n",
       "      <td>4</td>\n",
       "    </tr>\n",
       "    <tr>\n",
       "      <th>...</th>\n",
       "      <td>...</td>\n",
       "      <td>...</td>\n",
       "      <td>...</td>\n",
       "      <td>...</td>\n",
       "    </tr>\n",
       "    <tr>\n",
       "      <th>197275</th>\n",
       "      <td>2025-05-19 12:55:00</td>\n",
       "      <td>2025-05-19 14:30:00</td>\n",
       "      <td>84585.0</td>\n",
       "      <td>19</td>\n",
       "    </tr>\n",
       "    <tr>\n",
       "      <th>197276</th>\n",
       "      <td>2025-05-19 12:55:00</td>\n",
       "      <td>2025-05-19 14:35:00</td>\n",
       "      <td>84671.0</td>\n",
       "      <td>20</td>\n",
       "    </tr>\n",
       "    <tr>\n",
       "      <th>197277</th>\n",
       "      <td>2025-05-19 12:55:00</td>\n",
       "      <td>2025-05-19 14:40:00</td>\n",
       "      <td>84753.0</td>\n",
       "      <td>21</td>\n",
       "    </tr>\n",
       "    <tr>\n",
       "      <th>197278</th>\n",
       "      <td>2025-05-19 12:55:00</td>\n",
       "      <td>2025-05-19 14:45:00</td>\n",
       "      <td>84834.0</td>\n",
       "      <td>22</td>\n",
       "    </tr>\n",
       "    <tr>\n",
       "      <th>197279</th>\n",
       "      <td>2025-05-19 12:55:00</td>\n",
       "      <td>2025-05-19 14:50:00</td>\n",
       "      <td>84916.0</td>\n",
       "      <td>23</td>\n",
       "    </tr>\n",
       "  </tbody>\n",
       "</table>\n",
       "<p>197280 rows × 4 columns</p>\n",
       "</div>"
      ]
     },
     "execution_count": 30,
     "metadata": {},
     "output_type": "execute_result"
    }
   ],
   "execution_count": 30
  },
  {
   "metadata": {
    "ExecuteTime": {
     "end_time": "2025-05-21T06:53:53.085789Z",
     "start_time": "2025-05-21T06:53:53.052866Z"
    }
   },
   "cell_type": "code",
   "source": "actual_df['timestamp'] = pd.to_datetime(actual_df['timestamp'], format='%m/%d/%Y %I:%M:%S %p')",
   "id": "9efefe3ce2144aee",
   "outputs": [],
   "execution_count": 31
  },
  {
   "metadata": {
    "ExecuteTime": {
     "end_time": "2025-05-21T06:53:55.773114Z",
     "start_time": "2025-05-21T06:53:55.740568Z"
    }
   },
   "cell_type": "code",
   "source": "actual_df.dtypes",
   "id": "e568f9e3973cc257",
   "outputs": [
    {
     "data": {
      "text/plain": [
       "timestamp    datetime64[ns]\n",
       "load                float64\n",
       "dtype: object"
      ]
     },
     "execution_count": 32,
     "metadata": {},
     "output_type": "execute_result"
    }
   ],
   "execution_count": 32
  },
  {
   "metadata": {
    "ExecuteTime": {
     "end_time": "2025-05-21T06:54:08.123656Z",
     "start_time": "2025-05-21T06:54:08.090764Z"
    }
   },
   "cell_type": "code",
   "source": "actual_df",
   "id": "eca5d51da3cabd7d",
   "outputs": [
    {
     "data": {
      "text/plain": [
       "               timestamp        load\n",
       "0    2025-04-21 00:00:00  81048.8000\n",
       "1    2025-04-21 00:05:00  81350.1250\n",
       "2    2025-04-21 00:10:01  81709.6200\n",
       "3    2025-04-21 00:15:00  81796.1400\n",
       "4    2025-04-21 00:20:00  82089.3750\n",
       "...                  ...         ...\n",
       "8215 2025-05-19 12:40:00  82672.5859\n",
       "8216 2025-05-19 12:45:00  82533.6100\n",
       "8217 2025-05-19 12:50:00  82968.9500\n",
       "8218 2025-05-19 12:55:00  82591.1100\n",
       "8219 2025-05-19 13:00:00  82704.3700\n",
       "\n",
       "[8220 rows x 2 columns]"
      ],
      "text/html": [
       "<div>\n",
       "<style scoped>\n",
       "    .dataframe tbody tr th:only-of-type {\n",
       "        vertical-align: middle;\n",
       "    }\n",
       "\n",
       "    .dataframe tbody tr th {\n",
       "        vertical-align: top;\n",
       "    }\n",
       "\n",
       "    .dataframe thead th {\n",
       "        text-align: right;\n",
       "    }\n",
       "</style>\n",
       "<table border=\"1\" class=\"dataframe\">\n",
       "  <thead>\n",
       "    <tr style=\"text-align: right;\">\n",
       "      <th></th>\n",
       "      <th>timestamp</th>\n",
       "      <th>load</th>\n",
       "    </tr>\n",
       "  </thead>\n",
       "  <tbody>\n",
       "    <tr>\n",
       "      <th>0</th>\n",
       "      <td>2025-04-21 00:00:00</td>\n",
       "      <td>81048.8000</td>\n",
       "    </tr>\n",
       "    <tr>\n",
       "      <th>1</th>\n",
       "      <td>2025-04-21 00:05:00</td>\n",
       "      <td>81350.1250</td>\n",
       "    </tr>\n",
       "    <tr>\n",
       "      <th>2</th>\n",
       "      <td>2025-04-21 00:10:01</td>\n",
       "      <td>81709.6200</td>\n",
       "    </tr>\n",
       "    <tr>\n",
       "      <th>3</th>\n",
       "      <td>2025-04-21 00:15:00</td>\n",
       "      <td>81796.1400</td>\n",
       "    </tr>\n",
       "    <tr>\n",
       "      <th>4</th>\n",
       "      <td>2025-04-21 00:20:00</td>\n",
       "      <td>82089.3750</td>\n",
       "    </tr>\n",
       "    <tr>\n",
       "      <th>...</th>\n",
       "      <td>...</td>\n",
       "      <td>...</td>\n",
       "    </tr>\n",
       "    <tr>\n",
       "      <th>8215</th>\n",
       "      <td>2025-05-19 12:40:00</td>\n",
       "      <td>82672.5859</td>\n",
       "    </tr>\n",
       "    <tr>\n",
       "      <th>8216</th>\n",
       "      <td>2025-05-19 12:45:00</td>\n",
       "      <td>82533.6100</td>\n",
       "    </tr>\n",
       "    <tr>\n",
       "      <th>8217</th>\n",
       "      <td>2025-05-19 12:50:00</td>\n",
       "      <td>82968.9500</td>\n",
       "    </tr>\n",
       "    <tr>\n",
       "      <th>8218</th>\n",
       "      <td>2025-05-19 12:55:00</td>\n",
       "      <td>82591.1100</td>\n",
       "    </tr>\n",
       "    <tr>\n",
       "      <th>8219</th>\n",
       "      <td>2025-05-19 13:00:00</td>\n",
       "      <td>82704.3700</td>\n",
       "    </tr>\n",
       "  </tbody>\n",
       "</table>\n",
       "<p>8220 rows × 2 columns</p>\n",
       "</div>"
      ]
     },
     "execution_count": 33,
     "metadata": {},
     "output_type": "execute_result"
    }
   ],
   "execution_count": 33
  },
  {
   "metadata": {
    "ExecuteTime": {
     "end_time": "2025-05-21T06:54:14.031862Z",
     "start_time": "2025-05-21T06:54:13.996663Z"
    }
   },
   "cell_type": "code",
   "source": "forecast_df",
   "id": "a484764e1071108e",
   "outputs": [
    {
     "data": {
      "text/plain": [
       "                 issued_at         target_time  forecast_load  horizon\n",
       "0      2025-04-21 00:00:00 2025-04-21 00:00:00        80874.0        0\n",
       "1      2025-04-21 00:00:00 2025-04-21 00:05:00        80893.0        1\n",
       "2      2025-04-21 00:00:00 2025-04-21 00:10:00        80895.0        2\n",
       "3      2025-04-21 00:00:00 2025-04-21 00:15:00        80882.0        3\n",
       "4      2025-04-21 00:00:00 2025-04-21 00:20:00        80848.0        4\n",
       "...                    ...                 ...            ...      ...\n",
       "197275 2025-05-19 12:55:00 2025-05-19 14:30:00        84585.0       19\n",
       "197276 2025-05-19 12:55:00 2025-05-19 14:35:00        84671.0       20\n",
       "197277 2025-05-19 12:55:00 2025-05-19 14:40:00        84753.0       21\n",
       "197278 2025-05-19 12:55:00 2025-05-19 14:45:00        84834.0       22\n",
       "197279 2025-05-19 12:55:00 2025-05-19 14:50:00        84916.0       23\n",
       "\n",
       "[197280 rows x 4 columns]"
      ],
      "text/html": [
       "<div>\n",
       "<style scoped>\n",
       "    .dataframe tbody tr th:only-of-type {\n",
       "        vertical-align: middle;\n",
       "    }\n",
       "\n",
       "    .dataframe tbody tr th {\n",
       "        vertical-align: top;\n",
       "    }\n",
       "\n",
       "    .dataframe thead th {\n",
       "        text-align: right;\n",
       "    }\n",
       "</style>\n",
       "<table border=\"1\" class=\"dataframe\">\n",
       "  <thead>\n",
       "    <tr style=\"text-align: right;\">\n",
       "      <th></th>\n",
       "      <th>issued_at</th>\n",
       "      <th>target_time</th>\n",
       "      <th>forecast_load</th>\n",
       "      <th>horizon</th>\n",
       "    </tr>\n",
       "  </thead>\n",
       "  <tbody>\n",
       "    <tr>\n",
       "      <th>0</th>\n",
       "      <td>2025-04-21 00:00:00</td>\n",
       "      <td>2025-04-21 00:00:00</td>\n",
       "      <td>80874.0</td>\n",
       "      <td>0</td>\n",
       "    </tr>\n",
       "    <tr>\n",
       "      <th>1</th>\n",
       "      <td>2025-04-21 00:00:00</td>\n",
       "      <td>2025-04-21 00:05:00</td>\n",
       "      <td>80893.0</td>\n",
       "      <td>1</td>\n",
       "    </tr>\n",
       "    <tr>\n",
       "      <th>2</th>\n",
       "      <td>2025-04-21 00:00:00</td>\n",
       "      <td>2025-04-21 00:10:00</td>\n",
       "      <td>80895.0</td>\n",
       "      <td>2</td>\n",
       "    </tr>\n",
       "    <tr>\n",
       "      <th>3</th>\n",
       "      <td>2025-04-21 00:00:00</td>\n",
       "      <td>2025-04-21 00:15:00</td>\n",
       "      <td>80882.0</td>\n",
       "      <td>3</td>\n",
       "    </tr>\n",
       "    <tr>\n",
       "      <th>4</th>\n",
       "      <td>2025-04-21 00:00:00</td>\n",
       "      <td>2025-04-21 00:20:00</td>\n",
       "      <td>80848.0</td>\n",
       "      <td>4</td>\n",
       "    </tr>\n",
       "    <tr>\n",
       "      <th>...</th>\n",
       "      <td>...</td>\n",
       "      <td>...</td>\n",
       "      <td>...</td>\n",
       "      <td>...</td>\n",
       "    </tr>\n",
       "    <tr>\n",
       "      <th>197275</th>\n",
       "      <td>2025-05-19 12:55:00</td>\n",
       "      <td>2025-05-19 14:30:00</td>\n",
       "      <td>84585.0</td>\n",
       "      <td>19</td>\n",
       "    </tr>\n",
       "    <tr>\n",
       "      <th>197276</th>\n",
       "      <td>2025-05-19 12:55:00</td>\n",
       "      <td>2025-05-19 14:35:00</td>\n",
       "      <td>84671.0</td>\n",
       "      <td>20</td>\n",
       "    </tr>\n",
       "    <tr>\n",
       "      <th>197277</th>\n",
       "      <td>2025-05-19 12:55:00</td>\n",
       "      <td>2025-05-19 14:40:00</td>\n",
       "      <td>84753.0</td>\n",
       "      <td>21</td>\n",
       "    </tr>\n",
       "    <tr>\n",
       "      <th>197278</th>\n",
       "      <td>2025-05-19 12:55:00</td>\n",
       "      <td>2025-05-19 14:45:00</td>\n",
       "      <td>84834.0</td>\n",
       "      <td>22</td>\n",
       "    </tr>\n",
       "    <tr>\n",
       "      <th>197279</th>\n",
       "      <td>2025-05-19 12:55:00</td>\n",
       "      <td>2025-05-19 14:50:00</td>\n",
       "      <td>84916.0</td>\n",
       "      <td>23</td>\n",
       "    </tr>\n",
       "  </tbody>\n",
       "</table>\n",
       "<p>197280 rows × 4 columns</p>\n",
       "</div>"
      ]
     },
     "execution_count": 34,
     "metadata": {},
     "output_type": "execute_result"
    }
   ],
   "execution_count": 34
  },
  {
   "metadata": {
    "ExecuteTime": {
     "end_time": "2025-05-21T06:48:28.767437Z",
     "start_time": "2025-05-21T06:48:28.736017Z"
    }
   },
   "cell_type": "code",
   "source": "forecast_df.dtypes",
   "id": "fccce99e584062bc",
   "outputs": [
    {
     "data": {
      "text/plain": [
       "issued_at          datetime64[ns]\n",
       "target_time        datetime64[ns]\n",
       "forecast_load             float64\n",
       "horizon                     int64\n",
       "issued_at_str              object\n",
       "target_time_str            object\n",
       "dtype: object"
      ]
     },
     "execution_count": 23,
     "metadata": {},
     "output_type": "execute_result"
    }
   ],
   "execution_count": 23
  },
  {
   "metadata": {
    "ExecuteTime": {
     "end_time": "2025-05-21T07:01:39.472178Z",
     "start_time": "2025-05-21T07:01:38.943382Z"
    }
   },
   "cell_type": "code",
   "source": [
    "\n",
    "\n",
    "actual_df.to_csv(r'../data/processed/actual_load.csv', index=False)\n",
    "forecast_df.to_csv(r'../data/processed/forecast_load.csv', index=False)"
   ],
   "id": "e3887df32811bff9",
   "outputs": [],
   "execution_count": 35
  },
  {
   "metadata": {
    "ExecuteTime": {
     "end_time": "2025-05-21T06:43:59.541979Z",
     "start_time": "2025-05-21T06:43:59.539420Z"
    }
   },
   "cell_type": "code",
   "source": "",
   "id": "3a4941a7ee822c1e",
   "outputs": [],
   "execution_count": null
  }
 ],
 "metadata": {
  "kernelspec": {
   "display_name": "Python 3",
   "language": "python",
   "name": "python3"
  },
  "language_info": {
   "codemirror_mode": {
    "name": "ipython",
    "version": 2
   },
   "file_extension": ".py",
   "mimetype": "text/x-python",
   "name": "python",
   "nbconvert_exporter": "python",
   "pygments_lexer": "ipython2",
   "version": "2.7.6"
  }
 },
 "nbformat": 4,
 "nbformat_minor": 5
}
