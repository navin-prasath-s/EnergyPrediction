{
 "cells": [
  {
   "metadata": {},
   "cell_type": "code",
   "source": [
    "# /html/body/app-root/main/dm-feed-main/div/div/div/section/dm-feed-list/div[2]/main/dm-frequently-accessed/div/div[2]/div[3]/div[2]/ul/li/span[2]/span[3]/dm-feed-download-link/a\n",
    "\n",
    "# /html/body/app-root/main/dm-feed-main/div/div/div/section/dm-feed-list/div[2]/main/dm-frequently-accessed/div/div[2]/div[4]/div[2]/ul/li[3]/span[2]/span[3]/dm-feed-download-link/a"
   ],
   "id": "6e744edda8c8d08",
   "outputs": [],
   "execution_count": null
  },
  {
   "metadata": {},
   "cell_type": "code",
   "source": [
    "from selenium import webdriver\n",
    "from selenium.webdriver.chrome.options import Options\n",
    "from selenium.webdriver.common.by import By\n",
    "import time\n",
    "from datetime import datetime, timezone\n",
    "\n",
    "utc_time = datetime.now(timezone.utc)\n",
    "filename_time = utc_time.strftime(\"%Y%m%d_%H%M\")\n",
    "\n",
    "download_dir = r'D:\\ML\\EnergyPrediction\\data\\raw'\n",
    "website = 'https://dataminer2.pjm.com/list'\n",
    "actual = '/html/body/app-root/main/dm-feed-main/div/div/div/section/dm-feed-list/div[2]/main/dm-frequently-accessed/div/div[2]/div[3]/div[2]/ul/li/span[2]/span[3]/dm-feed-download-link/a'\n",
    "forcast = '/html/body/app-root/main/dm-feed-main/div/div/div/section/dm-feed-list/div[2]/main/dm-frequently-accessed/div/div[2]/div[4]/div[2]/ul/li[3]/span[2]/span[3]/dm-feed-download-link/a'\n",
    "\n",
    "options = Options()\n",
    "options.headless = True\n",
    "\n",
    "prefs = {'download.default_directory': download_dir}\n",
    "options.add_experimental_option('prefs', prefs)\n",
    "driver = webdriver.Chrome(options=options)\n",
    "\n",
    "\n",
    "driver.get(website)\n",
    "time.sleep(5)\n",
    "\n",
    "csv_button_instant = driver.find_element(By.XPATH, actual)\n",
    "csv_button_instant.click()\n",
    "\n",
    "csv_button_forecast = driver.find_element(By.XPATH, forcast)\n",
    "csv_button_forecast.click()\n",
    "\n",
    "time.sleep(5)\n",
    "driver.quit()\n",
    "\n",
    "# TODO: Add time to filename,\n",
    "# TODO: Rename files to standard format"
   ],
   "id": "c5548e2187c047b1",
   "outputs": [],
   "execution_count": null
  },
  {
   "metadata": {},
   "cell_type": "code",
   "source": "",
   "id": "62d9072f376be36f",
   "outputs": [],
   "execution_count": null
  }
 ],
 "metadata": {
  "kernelspec": {
   "display_name": "Python 3",
   "language": "python",
   "name": "python3"
  },
  "language_info": {
   "codemirror_mode": {
    "name": "ipython",
    "version": 2
   },
   "file_extension": ".py",
   "mimetype": "text/x-python",
   "name": "python",
   "nbconvert_exporter": "python",
   "pygments_lexer": "ipython2",
   "version": "2.7.6"
  }
 },
 "nbformat": 4,
 "nbformat_minor": 5
}
