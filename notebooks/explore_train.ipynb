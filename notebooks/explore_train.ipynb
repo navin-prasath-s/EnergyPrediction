{
 "cells": [
  {
   "cell_type": "code",
   "id": "initial_id",
   "metadata": {
    "collapsed": true,
    "ExecuteTime": {
     "end_time": "2025-05-21T05:47:38.234184Z",
     "start_time": "2025-05-21T05:47:38.198763Z"
    }
   },
   "source": [
    "%load_ext autoreload\n",
    "%autoreload 2\n",
    "\n",
    "import pandas as pd\n",
    "# pd.set_option('display.datetime_format', '%Y-%m-%d %H:%M:%S')\n",
    "\n",
    "from code.evaluation import (compute_horizon_degradation_metrics,\n",
    "                             plot_forecast_degradation,\n",
    "                             plot_selected_horizons,\n",
    "                             plot_forecast_trajectory,\n",
    "                             compute_forecast_metrics)\n",
    "\n",
    "from code.data_utils import clean_actual_data, clean_forecast_data"
   ],
   "outputs": [
    {
     "name": "stdout",
     "output_type": "stream",
     "text": [
      "The autoreload extension is already loaded. To reload it, use:\n",
      "  %reload_ext autoreload\n"
     ]
    }
   ],
   "execution_count": 154
  },
  {
   "metadata": {
    "ExecuteTime": {
     "end_time": "2025-05-21T05:47:38.355379Z",
     "start_time": "2025-05-21T05:47:38.324700Z"
    }
   },
   "cell_type": "code",
   "source": [
    "def parse_datetime(date):\n",
    "    formats = ['%m/%d/%Y %I:%M:%S %p', '%m-%d-%Y %H:%M']\n",
    "    # Format 1: '5/13/2025 12:00:00 AM'\n",
    "    # Format 2: '05-12-2025 23:55'\n",
    "    date = str(date).strip()\n",
    "    for fmt in formats:\n",
    "        try:\n",
    "            return pd.to_datetime(date, format=fmt)\n",
    "        except ValueError:\n",
    "            continue\n",
    "    return pd.NaT"
   ],
   "id": "7e1dab8a21aeb29",
   "outputs": [],
   "execution_count": 155
  },
  {
   "metadata": {
    "ExecuteTime": {
     "end_time": "2025-05-21T05:47:38.676365Z",
     "start_time": "2025-05-21T05:47:38.447071Z"
    }
   },
   "cell_type": "code",
   "source": [
    "actual = pd.read_csv(r'../data/raw/actual_load.csv')\n",
    "forecast = pd.read_csv(r'../data/raw/forecast_load.csv')"
   ],
   "id": "d3460d1f880b194b",
   "outputs": [],
   "execution_count": 156
  },
  {
   "metadata": {
    "ExecuteTime": {
     "end_time": "2025-05-21T05:47:38.793561Z",
     "start_time": "2025-05-21T05:47:38.762954Z"
    }
   },
   "cell_type": "code",
   "source": "actual = actual[actual['area'] == 'PJM RTO']",
   "id": "27383acecbbf2c69",
   "outputs": [],
   "execution_count": 157
  },
  {
   "metadata": {
    "ExecuteTime": {
     "end_time": "2025-05-21T05:47:38.908198Z",
     "start_time": "2025-05-21T05:47:38.879099Z"
    }
   },
   "cell_type": "code",
   "source": "actual = actual[['datetime_beginning_utc', 'instantaneous_load']]",
   "id": "996670e49b9d1258",
   "outputs": [],
   "execution_count": 158
  },
  {
   "metadata": {
    "ExecuteTime": {
     "end_time": "2025-05-21T05:47:39.034239Z",
     "start_time": "2025-05-21T05:47:39.002657Z"
    }
   },
   "cell_type": "code",
   "source": [
    "actual = actual.rename(columns={\n",
    "        'datetime_beginning_utc': 'timestamp',\n",
    "        'instantaneous_load': 'load'\n",
    "    })"
   ],
   "id": "a72e372c69ab2fd",
   "outputs": [],
   "execution_count": 159
  },
  {
   "metadata": {
    "ExecuteTime": {
     "end_time": "2025-05-21T05:47:39.616543Z",
     "start_time": "2025-05-21T05:47:39.141989Z"
    }
   },
   "cell_type": "code",
   "source": "actual['timestamp'] = actual['timestamp'].apply(parse_datetime)",
   "id": "cfdfcbcae94db900",
   "outputs": [],
   "execution_count": 160
  },
  {
   "metadata": {
    "ExecuteTime": {
     "end_time": "2025-05-21T05:47:39.735320Z",
     "start_time": "2025-05-21T05:47:39.704240Z"
    }
   },
   "cell_type": "code",
   "source": [
    "# sort by timestamp\n",
    "actual = actual.sort_values(by='timestamp').reset_index(drop=True)"
   ],
   "id": "d07423e280bc3bd1",
   "outputs": [],
   "execution_count": 161
  },
  {
   "metadata": {
    "ExecuteTime": {
     "end_time": "2025-05-21T05:47:39.872416Z",
     "start_time": "2025-05-21T05:47:39.825741Z"
    }
   },
   "cell_type": "code",
   "source": "forecast = forecast[forecast['forecast_area'] == 'RTO_COMBINED']",
   "id": "b493abf9175061ad",
   "outputs": [],
   "execution_count": 162
  },
  {
   "metadata": {
    "ExecuteTime": {
     "end_time": "2025-05-21T05:47:39.999739Z",
     "start_time": "2025-05-21T05:47:39.965741Z"
    }
   },
   "cell_type": "code",
   "source": "forecast = forecast[['evaluated_at_utc', 'forecast_datetime_beginning_utc', 'forecast_load_mw']]",
   "id": "9006b7a3ef7df28c",
   "outputs": [],
   "execution_count": 163
  },
  {
   "metadata": {
    "ExecuteTime": {
     "end_time": "2025-05-21T05:47:40.121312Z",
     "start_time": "2025-05-21T05:47:40.088691Z"
    }
   },
   "cell_type": "code",
   "source": [
    "forecast = forecast.rename(columns={\n",
    "        'forecast_datetime_beginning_utc': 'target_time',\n",
    "        'evaluated_at_utc': 'issued_at',\n",
    "        'forecast_load_mw': 'forecast_load'\n",
    "    })"
   ],
   "id": "234de61021af0199",
   "outputs": [],
   "execution_count": 164
  },
  {
   "metadata": {
    "ExecuteTime": {
     "end_time": "2025-05-21T05:48:06.109540Z",
     "start_time": "2025-05-21T05:47:40.213998Z"
    }
   },
   "cell_type": "code",
   "source": [
    "forecast['issued_at'] = forecast['issued_at'].apply(parse_datetime)\n",
    "forecast['target_time'] = forecast['target_time'].apply(parse_datetime)"
   ],
   "id": "12b127ba2c42543a",
   "outputs": [],
   "execution_count": 165
  },
  {
   "metadata": {
    "ExecuteTime": {
     "end_time": "2025-05-21T05:48:06.253898Z",
     "start_time": "2025-05-21T05:48:06.203590Z"
    }
   },
   "cell_type": "code",
   "source": "forecast = forecast.sort_values(by=['issued_at', 'target_time']).reset_index(drop=True)",
   "id": "8d9cf87dd5eaf49a",
   "outputs": [],
   "execution_count": 166
  },
  {
   "metadata": {
    "ExecuteTime": {
     "end_time": "2025-05-21T05:48:06.387465Z",
     "start_time": "2025-05-21T05:48:06.350719Z"
    }
   },
   "cell_type": "code",
   "source": "forecast['horizon'] = ((forecast['target_time'] - forecast['issued_at']) / pd.Timedelta(minutes=5)).astype(int)",
   "id": "cf8a0a5056045225",
   "outputs": [],
   "execution_count": 167
  },
  {
   "metadata": {
    "ExecuteTime": {
     "end_time": "2025-05-21T05:48:06.520382Z",
     "start_time": "2025-05-21T05:48:06.484049Z"
    }
   },
   "cell_type": "code",
   "source": [
    "latest_issued_at = forecast['issued_at'].max()\n",
    "forecast = forecast[forecast['issued_at'] < latest_issued_at]"
   ],
   "id": "3e8ecf6f0fc859d6",
   "outputs": [],
   "execution_count": 168
  },
  {
   "metadata": {
    "ExecuteTime": {
     "end_time": "2025-05-21T05:48:06.643420Z",
     "start_time": "2025-05-21T05:48:06.610986Z"
    }
   },
   "cell_type": "code",
   "source": "(forecast.shape[0])/actual.shape[0]",
   "id": "c0713c56bcfc74a0",
   "outputs": [
    {
     "data": {
      "text/plain": [
       "24.0"
      ]
     },
     "execution_count": 169,
     "metadata": {},
     "output_type": "execute_result"
    }
   ],
   "execution_count": 169
  },
  {
   "metadata": {},
   "cell_type": "code",
   "outputs": [],
   "execution_count": null,
   "source": "",
   "id": "cc041a6dd0ea84de"
  }
 ],
 "metadata": {
  "kernelspec": {
   "display_name": "Python 3",
   "language": "python",
   "name": "python3"
  },
  "language_info": {
   "codemirror_mode": {
    "name": "ipython",
    "version": 2
   },
   "file_extension": ".py",
   "mimetype": "text/x-python",
   "name": "python",
   "nbconvert_exporter": "python",
   "pygments_lexer": "ipython2",
   "version": "2.7.6"
  }
 },
 "nbformat": 4,
 "nbformat_minor": 5
}
