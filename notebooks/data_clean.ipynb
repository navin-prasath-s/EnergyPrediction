{
 "cells": [
  {
   "cell_type": "code",
   "id": "initial_id",
   "metadata": {
    "collapsed": true,
    "ExecuteTime": {
     "end_time": "2025-05-21T05:56:04.972050Z",
     "start_time": "2025-05-21T05:56:04.898779Z"
    }
   },
   "source": [
    "%load_ext autoreload\n",
    "%autoreload 2\n",
    "\n",
    "import pandas as pd\n",
    "\n",
    "from code.data_utils import clean_actual_data, clean_forecast_data"
   ],
   "outputs": [
    {
     "name": "stdout",
     "output_type": "stream",
     "text": [
      "The autoreload extension is already loaded. To reload it, use:\n",
      "  %reload_ext autoreload\n"
     ]
    }
   ],
   "execution_count": 120
  },
  {
   "metadata": {
    "ExecuteTime": {
     "end_time": "2025-05-21T03:07:59.281567Z",
     "start_time": "2025-05-21T03:07:59.060405Z"
    }
   },
   "cell_type": "code",
   "source": [
    "actual = pd.read_csv(r'../data/raw/actual_load.csv')\n",
    "forecast = pd.read_csv(r'../data/raw/forecast_load.csv')"
   ],
   "id": "c052c3736c662f41",
   "outputs": [],
   "execution_count": 108
  },
  {
   "metadata": {
    "ExecuteTime": {
     "end_time": "2025-05-21T03:08:22.999518Z",
     "start_time": "2025-05-21T03:07:59.436649Z"
    }
   },
   "cell_type": "code",
   "source": [
    "actual_df = clean_actual_data(actual)\n",
    "forecast_df = clean_forecast_data(forecast)"
   ],
   "id": "980cbb4bb7f778a6",
   "outputs": [],
   "execution_count": 109
  },
  {
   "metadata": {
    "ExecuteTime": {
     "end_time": "2025-05-21T04:17:22.867807Z",
     "start_time": "2025-05-21T04:17:22.831340Z"
    }
   },
   "cell_type": "code",
   "source": "actual_df.head()",
   "id": "b3bec558c5de1e1d",
   "outputs": [
    {
     "data": {
      "text/plain": [
       "            timestamp        load\n",
       "0 2025-05-19 13:00:00  82704.3700\n",
       "1 2025-05-19 12:55:00  82591.1100\n",
       "2 2025-05-19 12:50:00  82968.9500\n",
       "3 2025-05-19 12:45:00  82533.6100\n",
       "4 2025-05-19 12:40:00  82672.5859"
      ],
      "text/html": [
       "<div>\n",
       "<style scoped>\n",
       "    .dataframe tbody tr th:only-of-type {\n",
       "        vertical-align: middle;\n",
       "    }\n",
       "\n",
       "    .dataframe tbody tr th {\n",
       "        vertical-align: top;\n",
       "    }\n",
       "\n",
       "    .dataframe thead th {\n",
       "        text-align: right;\n",
       "    }\n",
       "</style>\n",
       "<table border=\"1\" class=\"dataframe\">\n",
       "  <thead>\n",
       "    <tr style=\"text-align: right;\">\n",
       "      <th></th>\n",
       "      <th>timestamp</th>\n",
       "      <th>load</th>\n",
       "    </tr>\n",
       "  </thead>\n",
       "  <tbody>\n",
       "    <tr>\n",
       "      <th>0</th>\n",
       "      <td>2025-05-19 13:00:00</td>\n",
       "      <td>82704.3700</td>\n",
       "    </tr>\n",
       "    <tr>\n",
       "      <th>1</th>\n",
       "      <td>2025-05-19 12:55:00</td>\n",
       "      <td>82591.1100</td>\n",
       "    </tr>\n",
       "    <tr>\n",
       "      <th>2</th>\n",
       "      <td>2025-05-19 12:50:00</td>\n",
       "      <td>82968.9500</td>\n",
       "    </tr>\n",
       "    <tr>\n",
       "      <th>3</th>\n",
       "      <td>2025-05-19 12:45:00</td>\n",
       "      <td>82533.6100</td>\n",
       "    </tr>\n",
       "    <tr>\n",
       "      <th>4</th>\n",
       "      <td>2025-05-19 12:40:00</td>\n",
       "      <td>82672.5859</td>\n",
       "    </tr>\n",
       "  </tbody>\n",
       "</table>\n",
       "</div>"
      ]
     },
     "execution_count": 118,
     "metadata": {},
     "output_type": "execute_result"
    }
   ],
   "execution_count": 118
  },
  {
   "metadata": {
    "ExecuteTime": {
     "end_time": "2025-05-21T03:56:58.245584Z",
     "start_time": "2025-05-21T03:56:58.211534Z"
    }
   },
   "cell_type": "code",
   "source": "forecast_df.head()",
   "id": "66b0e8747e743e1f",
   "outputs": [
    {
     "data": {
      "text/plain": [
       "            issued_at         target_time  forecast_load  horizon\n",
       "0 2025-05-19 13:00:00 2025-05-19 13:00:00        82803.0        0\n",
       "1 2025-05-19 13:00:00 2025-05-19 13:05:00        82895.0        1\n",
       "2 2025-05-19 13:00:00 2025-05-19 13:10:00        82987.0        2\n",
       "3 2025-05-19 13:00:00 2025-05-19 13:15:00        83076.0        3\n",
       "4 2025-05-19 13:00:00 2025-05-19 13:20:00        83166.0        4"
      ],
      "text/html": [
       "<div>\n",
       "<style scoped>\n",
       "    .dataframe tbody tr th:only-of-type {\n",
       "        vertical-align: middle;\n",
       "    }\n",
       "\n",
       "    .dataframe tbody tr th {\n",
       "        vertical-align: top;\n",
       "    }\n",
       "\n",
       "    .dataframe thead th {\n",
       "        text-align: right;\n",
       "    }\n",
       "</style>\n",
       "<table border=\"1\" class=\"dataframe\">\n",
       "  <thead>\n",
       "    <tr style=\"text-align: right;\">\n",
       "      <th></th>\n",
       "      <th>issued_at</th>\n",
       "      <th>target_time</th>\n",
       "      <th>forecast_load</th>\n",
       "      <th>horizon</th>\n",
       "    </tr>\n",
       "  </thead>\n",
       "  <tbody>\n",
       "    <tr>\n",
       "      <th>0</th>\n",
       "      <td>2025-05-19 13:00:00</td>\n",
       "      <td>2025-05-19 13:00:00</td>\n",
       "      <td>82803.0</td>\n",
       "      <td>0</td>\n",
       "    </tr>\n",
       "    <tr>\n",
       "      <th>1</th>\n",
       "      <td>2025-05-19 13:00:00</td>\n",
       "      <td>2025-05-19 13:05:00</td>\n",
       "      <td>82895.0</td>\n",
       "      <td>1</td>\n",
       "    </tr>\n",
       "    <tr>\n",
       "      <th>2</th>\n",
       "      <td>2025-05-19 13:00:00</td>\n",
       "      <td>2025-05-19 13:10:00</td>\n",
       "      <td>82987.0</td>\n",
       "      <td>2</td>\n",
       "    </tr>\n",
       "    <tr>\n",
       "      <th>3</th>\n",
       "      <td>2025-05-19 13:00:00</td>\n",
       "      <td>2025-05-19 13:15:00</td>\n",
       "      <td>83076.0</td>\n",
       "      <td>3</td>\n",
       "    </tr>\n",
       "    <tr>\n",
       "      <th>4</th>\n",
       "      <td>2025-05-19 13:00:00</td>\n",
       "      <td>2025-05-19 13:20:00</td>\n",
       "      <td>83166.0</td>\n",
       "      <td>4</td>\n",
       "    </tr>\n",
       "  </tbody>\n",
       "</table>\n",
       "</div>"
      ]
     },
     "execution_count": 112,
     "metadata": {},
     "output_type": "execute_result"
    }
   ],
   "execution_count": 112
  },
  {
   "metadata": {
    "ExecuteTime": {
     "end_time": "2025-05-21T04:17:32.934149Z",
     "start_time": "2025-05-21T04:17:32.898908Z"
    }
   },
   "cell_type": "code",
   "source": "actual_df.tail()",
   "id": "6d5a71354f543587",
   "outputs": [
    {
     "data": {
      "text/plain": [
       "               timestamp       load\n",
       "8215 2025-04-21 00:20:00  82089.375\n",
       "8216 2025-04-21 00:15:00  81796.140\n",
       "8217 2025-04-21 00:10:01  81709.620\n",
       "8218 2025-04-21 00:05:00  81350.125\n",
       "8219 2025-04-21 00:00:00  81048.800"
      ],
      "text/html": [
       "<div>\n",
       "<style scoped>\n",
       "    .dataframe tbody tr th:only-of-type {\n",
       "        vertical-align: middle;\n",
       "    }\n",
       "\n",
       "    .dataframe tbody tr th {\n",
       "        vertical-align: top;\n",
       "    }\n",
       "\n",
       "    .dataframe thead th {\n",
       "        text-align: right;\n",
       "    }\n",
       "</style>\n",
       "<table border=\"1\" class=\"dataframe\">\n",
       "  <thead>\n",
       "    <tr style=\"text-align: right;\">\n",
       "      <th></th>\n",
       "      <th>timestamp</th>\n",
       "      <th>load</th>\n",
       "    </tr>\n",
       "  </thead>\n",
       "  <tbody>\n",
       "    <tr>\n",
       "      <th>8215</th>\n",
       "      <td>2025-04-21 00:20:00</td>\n",
       "      <td>82089.375</td>\n",
       "    </tr>\n",
       "    <tr>\n",
       "      <th>8216</th>\n",
       "      <td>2025-04-21 00:15:00</td>\n",
       "      <td>81796.140</td>\n",
       "    </tr>\n",
       "    <tr>\n",
       "      <th>8217</th>\n",
       "      <td>2025-04-21 00:10:01</td>\n",
       "      <td>81709.620</td>\n",
       "    </tr>\n",
       "    <tr>\n",
       "      <th>8218</th>\n",
       "      <td>2025-04-21 00:05:00</td>\n",
       "      <td>81350.125</td>\n",
       "    </tr>\n",
       "    <tr>\n",
       "      <th>8219</th>\n",
       "      <td>2025-04-21 00:00:00</td>\n",
       "      <td>81048.800</td>\n",
       "    </tr>\n",
       "  </tbody>\n",
       "</table>\n",
       "</div>"
      ]
     },
     "execution_count": 119,
     "metadata": {},
     "output_type": "execute_result"
    }
   ],
   "execution_count": 119
  },
  {
   "metadata": {
    "ExecuteTime": {
     "end_time": "2025-05-21T03:57:04.919108Z",
     "start_time": "2025-05-21T03:57:04.884012Z"
    }
   },
   "cell_type": "code",
   "source": "forecast_df.tail()",
   "id": "3a2f772bf736144a",
   "outputs": [
    {
     "data": {
      "text/plain": [
       "        issued_at         target_time  forecast_load  horizon\n",
       "197299 2025-04-21 2025-04-21 01:35:00        78242.0       19\n",
       "197300 2025-04-21 2025-04-21 01:40:00        77981.0       20\n",
       "197301 2025-04-21 2025-04-21 01:45:00        77714.0       21\n",
       "197302 2025-04-21 2025-04-21 01:50:00        77439.0       22\n",
       "197303 2025-04-21 2025-04-21 01:55:00        77162.0       23"
      ],
      "text/html": [
       "<div>\n",
       "<style scoped>\n",
       "    .dataframe tbody tr th:only-of-type {\n",
       "        vertical-align: middle;\n",
       "    }\n",
       "\n",
       "    .dataframe tbody tr th {\n",
       "        vertical-align: top;\n",
       "    }\n",
       "\n",
       "    .dataframe thead th {\n",
       "        text-align: right;\n",
       "    }\n",
       "</style>\n",
       "<table border=\"1\" class=\"dataframe\">\n",
       "  <thead>\n",
       "    <tr style=\"text-align: right;\">\n",
       "      <th></th>\n",
       "      <th>issued_at</th>\n",
       "      <th>target_time</th>\n",
       "      <th>forecast_load</th>\n",
       "      <th>horizon</th>\n",
       "    </tr>\n",
       "  </thead>\n",
       "  <tbody>\n",
       "    <tr>\n",
       "      <th>197299</th>\n",
       "      <td>2025-04-21</td>\n",
       "      <td>2025-04-21 01:35:00</td>\n",
       "      <td>78242.0</td>\n",
       "      <td>19</td>\n",
       "    </tr>\n",
       "    <tr>\n",
       "      <th>197300</th>\n",
       "      <td>2025-04-21</td>\n",
       "      <td>2025-04-21 01:40:00</td>\n",
       "      <td>77981.0</td>\n",
       "      <td>20</td>\n",
       "    </tr>\n",
       "    <tr>\n",
       "      <th>197301</th>\n",
       "      <td>2025-04-21</td>\n",
       "      <td>2025-04-21 01:45:00</td>\n",
       "      <td>77714.0</td>\n",
       "      <td>21</td>\n",
       "    </tr>\n",
       "    <tr>\n",
       "      <th>197302</th>\n",
       "      <td>2025-04-21</td>\n",
       "      <td>2025-04-21 01:50:00</td>\n",
       "      <td>77439.0</td>\n",
       "      <td>22</td>\n",
       "    </tr>\n",
       "    <tr>\n",
       "      <th>197303</th>\n",
       "      <td>2025-04-21</td>\n",
       "      <td>2025-04-21 01:55:00</td>\n",
       "      <td>77162.0</td>\n",
       "      <td>23</td>\n",
       "    </tr>\n",
       "  </tbody>\n",
       "</table>\n",
       "</div>"
      ]
     },
     "execution_count": 113,
     "metadata": {},
     "output_type": "execute_result"
    }
   ],
   "execution_count": 113
  },
  {
   "metadata": {
    "ExecuteTime": {
     "end_time": "2025-05-21T04:13:59.077445Z",
     "start_time": "2025-05-21T04:13:59.009725Z"
    }
   },
   "cell_type": "code",
   "source": [
    "grouped = forecast_df.groupby('horizon').size()\n",
    "grouped"
   ],
   "id": "ea2ba31306344cff",
   "outputs": [
    {
     "data": {
      "text/plain": [
       "horizon\n",
       "0     8221\n",
       "1     8221\n",
       "2     8221\n",
       "3     8221\n",
       "4     8221\n",
       "5     8221\n",
       "6     8221\n",
       "7     8221\n",
       "8     8221\n",
       "9     8221\n",
       "10    8221\n",
       "11    8221\n",
       "12    8221\n",
       "13    8221\n",
       "14    8221\n",
       "15    8221\n",
       "16    8221\n",
       "17    8221\n",
       "18    8221\n",
       "19    8221\n",
       "20    8221\n",
       "21    8221\n",
       "22    8221\n",
       "23    8221\n",
       "dtype: int64"
      ]
     },
     "execution_count": 117,
     "metadata": {},
     "output_type": "execute_result"
    }
   ],
   "execution_count": 117
  },
  {
   "metadata": {
    "ExecuteTime": {
     "end_time": "2025-05-21T03:07:13.644805Z",
     "start_time": "2025-05-21T03:07:13.062428Z"
    }
   },
   "cell_type": "code",
   "source": "forecast_df = forecast_df.groupby('issued_at').filter(lambda g: len(g) == 24)",
   "id": "9d8d591f5733ac31",
   "outputs": [],
   "execution_count": 100
  },
  {
   "metadata": {
    "ExecuteTime": {
     "end_time": "2025-05-21T03:07:28.882142Z",
     "start_time": "2025-05-21T03:07:28.845683Z"
    }
   },
   "cell_type": "code",
   "source": "forecast_df = forecast_df[forecast_df['target_time'] <= actual_df['timestamp'].max()]",
   "id": "6c871ae7d370dee7",
   "outputs": [],
   "execution_count": 101
  },
  {
   "metadata": {
    "ExecuteTime": {
     "end_time": "2025-05-21T03:07:31.393579Z",
     "start_time": "2025-05-21T03:07:31.361021Z"
    }
   },
   "cell_type": "code",
   "source": "actual_df.shape",
   "id": "8ebf980f3ff1238c",
   "outputs": [
    {
     "data": {
      "text/plain": [
       "(8220, 2)"
      ]
     },
     "execution_count": 102,
     "metadata": {},
     "output_type": "execute_result"
    }
   ],
   "execution_count": 102
  },
  {
   "metadata": {
    "ExecuteTime": {
     "end_time": "2025-05-21T03:07:31.894188Z",
     "start_time": "2025-05-21T03:07:31.861971Z"
    }
   },
   "cell_type": "code",
   "source": "forecast_df.shape",
   "id": "89bf639e16b42d09",
   "outputs": [
    {
     "data": {
      "text/plain": [
       "(196752, 4)"
      ]
     },
     "execution_count": 103,
     "metadata": {},
     "output_type": "execute_result"
    }
   ],
   "execution_count": 103
  },
  {
   "metadata": {
    "ExecuteTime": {
     "end_time": "2025-05-21T03:07:41.617429Z",
     "start_time": "2025-05-21T03:07:41.587133Z"
    }
   },
   "cell_type": "code",
   "source": "forecast_df.shape[0]/actual_df.shape[0]",
   "id": "9e4d43a9811b637b",
   "outputs": [
    {
     "data": {
      "text/plain": [
       "23.935766423357663"
      ]
     },
     "execution_count": 105,
     "metadata": {},
     "output_type": "execute_result"
    }
   ],
   "execution_count": 105
  },
  {
   "metadata": {
    "ExecuteTime": {
     "end_time": "2025-05-21T03:07:42.062995Z",
     "start_time": "2025-05-21T03:07:42.028959Z"
    }
   },
   "cell_type": "code",
   "source": "(forecast_df.shape[0] + 52)/actual_df.shape[0]",
   "id": "bb403af8f4395b66",
   "outputs": [
    {
     "data": {
      "text/plain": [
       "23.942092457420923"
      ]
     },
     "execution_count": 106,
     "metadata": {},
     "output_type": "execute_result"
    }
   ],
   "execution_count": 106
  },
  {
   "metadata": {
    "ExecuteTime": {
     "end_time": "2025-05-20T14:02:07.636116Z",
     "start_time": "2025-05-20T14:02:07.593284Z"
    }
   },
   "cell_type": "code",
   "source": "actual_df['timestamp'].min(), actual_df['timestamp'].max()",
   "id": "3f9bda70bf5c7f07",
   "outputs": [
    {
     "data": {
      "text/plain": [
       "(Timestamp('2025-04-21 00:00:00'), Timestamp('2025-05-19 13:00:00'))"
      ]
     },
     "execution_count": 74,
     "metadata": {},
     "output_type": "execute_result"
    }
   ],
   "execution_count": 74
  },
  {
   "metadata": {
    "ExecuteTime": {
     "end_time": "2025-05-20T14:02:42.669485Z",
     "start_time": "2025-05-20T14:02:42.635486Z"
    }
   },
   "cell_type": "code",
   "source": "forecast_df['issued_at'].min(), forecast_df['issued_at'].max()",
   "id": "80db1e7fa1366660",
   "outputs": [
    {
     "data": {
      "text/plain": [
       "(Timestamp('2025-04-21 00:00:00'), Timestamp('2025-05-19 13:00:00'))"
      ]
     },
     "execution_count": 75,
     "metadata": {},
     "output_type": "execute_result"
    }
   ],
   "execution_count": 75
  },
  {
   "metadata": {
    "ExecuteTime": {
     "end_time": "2025-05-20T14:12:24.638228Z",
     "start_time": "2025-05-20T14:12:24.604071Z"
    }
   },
   "cell_type": "code",
   "source": "forecast_df['target_time'].min(), forecast_df['target_time'].max()",
   "id": "2d0b7587aacd30cf",
   "outputs": [
    {
     "data": {
      "text/plain": [
       "(Timestamp('2025-04-21 00:00:00'), Timestamp('2025-05-19 14:55:00'))"
      ]
     },
     "execution_count": 76,
     "metadata": {},
     "output_type": "execute_result"
    }
   ],
   "execution_count": 76
  },
  {
   "metadata": {
    "ExecuteTime": {
     "end_time": "2025-05-21T02:39:24.787039Z",
     "start_time": "2025-05-21T02:39:24.701646Z"
    }
   },
   "cell_type": "code",
   "source": "forecast_df[forecast_df['issued_at'] == forecast_df['issued_at'].max()]",
   "id": "5aa442b1eb02e78d",
   "outputs": [
    {
     "data": {
      "text/plain": [
       "             issued_at         target_time  forecast_load  horizon\n",
       "0  2025-05-19 13:00:00 2025-05-19 13:00:00        82803.0        0\n",
       "1  2025-05-19 13:00:00 2025-05-19 13:05:00        82895.0        1\n",
       "2  2025-05-19 13:00:00 2025-05-19 13:10:00        82987.0        2\n",
       "3  2025-05-19 13:00:00 2025-05-19 13:15:00        83076.0        3\n",
       "4  2025-05-19 13:00:00 2025-05-19 13:20:00        83166.0        4\n",
       "5  2025-05-19 13:00:00 2025-05-19 13:25:00        83260.0        5\n",
       "6  2025-05-19 13:00:00 2025-05-19 13:30:00        83351.0        6\n",
       "7  2025-05-19 13:00:00 2025-05-19 13:35:00        83442.0        7\n",
       "8  2025-05-19 13:00:00 2025-05-19 13:40:00        83535.0        8\n",
       "9  2025-05-19 13:00:00 2025-05-19 13:45:00        83627.0        9\n",
       "10 2025-05-19 13:00:00 2025-05-19 13:50:00        83723.0       10\n",
       "11 2025-05-19 13:00:00 2025-05-19 13:55:00        83815.0       11\n",
       "12 2025-05-19 13:00:00 2025-05-19 14:00:00        83909.0       12\n",
       "13 2025-05-19 13:00:00 2025-05-19 14:05:00        84001.0       13\n",
       "14 2025-05-19 13:00:00 2025-05-19 14:10:00        84092.0       14\n",
       "15 2025-05-19 13:00:00 2025-05-19 14:15:00        84181.0       15\n",
       "16 2025-05-19 13:00:00 2025-05-19 14:20:00        84271.0       16\n",
       "17 2025-05-19 13:00:00 2025-05-19 14:25:00        84358.0       17\n",
       "18 2025-05-19 13:00:00 2025-05-19 14:30:00        84446.0       18\n",
       "19 2025-05-19 13:00:00 2025-05-19 14:35:00        84532.0       19\n",
       "20 2025-05-19 13:00:00 2025-05-19 14:40:00        84613.0       20\n",
       "21 2025-05-19 13:00:00 2025-05-19 14:45:00        84701.0       21\n",
       "22 2025-05-19 13:00:00 2025-05-19 14:50:00        84782.0       22\n",
       "23 2025-05-19 13:00:00 2025-05-19 14:55:00        84865.0       23"
      ],
      "text/html": [
       "<div>\n",
       "<style scoped>\n",
       "    .dataframe tbody tr th:only-of-type {\n",
       "        vertical-align: middle;\n",
       "    }\n",
       "\n",
       "    .dataframe tbody tr th {\n",
       "        vertical-align: top;\n",
       "    }\n",
       "\n",
       "    .dataframe thead th {\n",
       "        text-align: right;\n",
       "    }\n",
       "</style>\n",
       "<table border=\"1\" class=\"dataframe\">\n",
       "  <thead>\n",
       "    <tr style=\"text-align: right;\">\n",
       "      <th></th>\n",
       "      <th>issued_at</th>\n",
       "      <th>target_time</th>\n",
       "      <th>forecast_load</th>\n",
       "      <th>horizon</th>\n",
       "    </tr>\n",
       "  </thead>\n",
       "  <tbody>\n",
       "    <tr>\n",
       "      <th>0</th>\n",
       "      <td>2025-05-19 13:00:00</td>\n",
       "      <td>2025-05-19 13:00:00</td>\n",
       "      <td>82803.0</td>\n",
       "      <td>0</td>\n",
       "    </tr>\n",
       "    <tr>\n",
       "      <th>1</th>\n",
       "      <td>2025-05-19 13:00:00</td>\n",
       "      <td>2025-05-19 13:05:00</td>\n",
       "      <td>82895.0</td>\n",
       "      <td>1</td>\n",
       "    </tr>\n",
       "    <tr>\n",
       "      <th>2</th>\n",
       "      <td>2025-05-19 13:00:00</td>\n",
       "      <td>2025-05-19 13:10:00</td>\n",
       "      <td>82987.0</td>\n",
       "      <td>2</td>\n",
       "    </tr>\n",
       "    <tr>\n",
       "      <th>3</th>\n",
       "      <td>2025-05-19 13:00:00</td>\n",
       "      <td>2025-05-19 13:15:00</td>\n",
       "      <td>83076.0</td>\n",
       "      <td>3</td>\n",
       "    </tr>\n",
       "    <tr>\n",
       "      <th>4</th>\n",
       "      <td>2025-05-19 13:00:00</td>\n",
       "      <td>2025-05-19 13:20:00</td>\n",
       "      <td>83166.0</td>\n",
       "      <td>4</td>\n",
       "    </tr>\n",
       "    <tr>\n",
       "      <th>5</th>\n",
       "      <td>2025-05-19 13:00:00</td>\n",
       "      <td>2025-05-19 13:25:00</td>\n",
       "      <td>83260.0</td>\n",
       "      <td>5</td>\n",
       "    </tr>\n",
       "    <tr>\n",
       "      <th>6</th>\n",
       "      <td>2025-05-19 13:00:00</td>\n",
       "      <td>2025-05-19 13:30:00</td>\n",
       "      <td>83351.0</td>\n",
       "      <td>6</td>\n",
       "    </tr>\n",
       "    <tr>\n",
       "      <th>7</th>\n",
       "      <td>2025-05-19 13:00:00</td>\n",
       "      <td>2025-05-19 13:35:00</td>\n",
       "      <td>83442.0</td>\n",
       "      <td>7</td>\n",
       "    </tr>\n",
       "    <tr>\n",
       "      <th>8</th>\n",
       "      <td>2025-05-19 13:00:00</td>\n",
       "      <td>2025-05-19 13:40:00</td>\n",
       "      <td>83535.0</td>\n",
       "      <td>8</td>\n",
       "    </tr>\n",
       "    <tr>\n",
       "      <th>9</th>\n",
       "      <td>2025-05-19 13:00:00</td>\n",
       "      <td>2025-05-19 13:45:00</td>\n",
       "      <td>83627.0</td>\n",
       "      <td>9</td>\n",
       "    </tr>\n",
       "    <tr>\n",
       "      <th>10</th>\n",
       "      <td>2025-05-19 13:00:00</td>\n",
       "      <td>2025-05-19 13:50:00</td>\n",
       "      <td>83723.0</td>\n",
       "      <td>10</td>\n",
       "    </tr>\n",
       "    <tr>\n",
       "      <th>11</th>\n",
       "      <td>2025-05-19 13:00:00</td>\n",
       "      <td>2025-05-19 13:55:00</td>\n",
       "      <td>83815.0</td>\n",
       "      <td>11</td>\n",
       "    </tr>\n",
       "    <tr>\n",
       "      <th>12</th>\n",
       "      <td>2025-05-19 13:00:00</td>\n",
       "      <td>2025-05-19 14:00:00</td>\n",
       "      <td>83909.0</td>\n",
       "      <td>12</td>\n",
       "    </tr>\n",
       "    <tr>\n",
       "      <th>13</th>\n",
       "      <td>2025-05-19 13:00:00</td>\n",
       "      <td>2025-05-19 14:05:00</td>\n",
       "      <td>84001.0</td>\n",
       "      <td>13</td>\n",
       "    </tr>\n",
       "    <tr>\n",
       "      <th>14</th>\n",
       "      <td>2025-05-19 13:00:00</td>\n",
       "      <td>2025-05-19 14:10:00</td>\n",
       "      <td>84092.0</td>\n",
       "      <td>14</td>\n",
       "    </tr>\n",
       "    <tr>\n",
       "      <th>15</th>\n",
       "      <td>2025-05-19 13:00:00</td>\n",
       "      <td>2025-05-19 14:15:00</td>\n",
       "      <td>84181.0</td>\n",
       "      <td>15</td>\n",
       "    </tr>\n",
       "    <tr>\n",
       "      <th>16</th>\n",
       "      <td>2025-05-19 13:00:00</td>\n",
       "      <td>2025-05-19 14:20:00</td>\n",
       "      <td>84271.0</td>\n",
       "      <td>16</td>\n",
       "    </tr>\n",
       "    <tr>\n",
       "      <th>17</th>\n",
       "      <td>2025-05-19 13:00:00</td>\n",
       "      <td>2025-05-19 14:25:00</td>\n",
       "      <td>84358.0</td>\n",
       "      <td>17</td>\n",
       "    </tr>\n",
       "    <tr>\n",
       "      <th>18</th>\n",
       "      <td>2025-05-19 13:00:00</td>\n",
       "      <td>2025-05-19 14:30:00</td>\n",
       "      <td>84446.0</td>\n",
       "      <td>18</td>\n",
       "    </tr>\n",
       "    <tr>\n",
       "      <th>19</th>\n",
       "      <td>2025-05-19 13:00:00</td>\n",
       "      <td>2025-05-19 14:35:00</td>\n",
       "      <td>84532.0</td>\n",
       "      <td>19</td>\n",
       "    </tr>\n",
       "    <tr>\n",
       "      <th>20</th>\n",
       "      <td>2025-05-19 13:00:00</td>\n",
       "      <td>2025-05-19 14:40:00</td>\n",
       "      <td>84613.0</td>\n",
       "      <td>20</td>\n",
       "    </tr>\n",
       "    <tr>\n",
       "      <th>21</th>\n",
       "      <td>2025-05-19 13:00:00</td>\n",
       "      <td>2025-05-19 14:45:00</td>\n",
       "      <td>84701.0</td>\n",
       "      <td>21</td>\n",
       "    </tr>\n",
       "    <tr>\n",
       "      <th>22</th>\n",
       "      <td>2025-05-19 13:00:00</td>\n",
       "      <td>2025-05-19 14:50:00</td>\n",
       "      <td>84782.0</td>\n",
       "      <td>22</td>\n",
       "    </tr>\n",
       "    <tr>\n",
       "      <th>23</th>\n",
       "      <td>2025-05-19 13:00:00</td>\n",
       "      <td>2025-05-19 14:55:00</td>\n",
       "      <td>84865.0</td>\n",
       "      <td>23</td>\n",
       "    </tr>\n",
       "  </tbody>\n",
       "</table>\n",
       "</div>"
      ]
     },
     "execution_count": 77,
     "metadata": {},
     "output_type": "execute_result"
    }
   ],
   "execution_count": 77
  },
  {
   "metadata": {
    "ExecuteTime": {
     "end_time": "2025-05-20T12:48:03.044491Z",
     "start_time": "2025-05-20T12:48:01.997899Z"
    }
   },
   "cell_type": "code",
   "source": [
    "actual_df['timestamp'] = actual_df['timestamp'].dt.strftime('%m/%d/%Y %I:%M:%S %p')\n",
    "forecast_df['issued_at_str'] = forecast_df['issued_at'].dt.strftime('%m/%d/%Y %I:%M:%S %p')\n",
    "forecast_df['target_time_str'] = forecast_df['target_time'].dt.strftime('%m/%d/%Y %I:%M:%S %p')\n",
    "\n",
    "actual_df.to_csv(r'../data/processed/actual_load.csv', index=False)\n",
    "forecast_df.to_csv(r'../data/processed/forecast_load.csv', index=False)"
   ],
   "id": "2bb1667f4e804ff2",
   "outputs": [],
   "execution_count": 11
  },
  {
   "metadata": {},
   "cell_type": "code",
   "outputs": [],
   "execution_count": null,
   "source": "",
   "id": "3a26ac0dba3fd6c5"
  }
 ],
 "metadata": {
  "kernelspec": {
   "display_name": "Python 3",
   "language": "python",
   "name": "python3"
  },
  "language_info": {
   "codemirror_mode": {
    "name": "ipython",
    "version": 2
   },
   "file_extension": ".py",
   "mimetype": "text/x-python",
   "name": "python",
   "nbconvert_exporter": "python",
   "pygments_lexer": "ipython2",
   "version": "2.7.6"
  }
 },
 "nbformat": 4,
 "nbformat_minor": 5
}
