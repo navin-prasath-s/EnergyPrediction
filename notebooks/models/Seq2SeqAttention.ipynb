{
 "cells": [
  {
   "cell_type": "code",
   "id": "initial_id",
   "metadata": {
    "collapsed": true,
    "ExecuteTime": {
     "end_time": "2025-06-03T11:37:02.681686Z",
     "start_time": "2025-06-03T11:37:02.608693Z"
    }
   },
   "source": [
    "%load_ext autoreload\n",
    "%autoreload 2\n",
    "\n",
    "import pandas as pd\n",
    "import numpy as np\n",
    "import matplotlib.pyplot as plt\n",
    "\n",
    "from scipy.stats import boxcox\n",
    "from scipy.special import inv_boxcox\n",
    "\n",
    "from sklearn.preprocessing import StandardScaler\n",
    "from sklearn.metrics import mean_absolute_error, mean_squared_error, mean_absolute_percentage_error\n",
    "from sklearn.model_selection import TimeSeriesSplit\n",
    "\n",
    "import torch\n",
    "import torch.nn as nn\n",
    "import torch.nn.functional as F\n",
    "import torch.optim as optim\n",
    "from torch.utils.data import DataLoader, TensorDataset, Dataset\n",
    "\n",
    "from tqdm import tqdm\n",
    "\n",
    "device = torch.device(\"cuda\" if torch.cuda.is_available() else \"cpu\")\n",
    "print(f\"Using device: {device}\")"
   ],
   "outputs": [
    {
     "name": "stdout",
     "output_type": "stream",
     "text": [
      "The autoreload extension is already loaded. To reload it, use:\n",
      "  %reload_ext autoreload\n",
      "Using device: cuda\n"
     ]
    }
   ],
   "execution_count": 13
  },
  {
   "metadata": {
    "ExecuteTime": {
     "end_time": "2025-06-03T11:37:02.875365Z",
     "start_time": "2025-06-03T11:37:02.804167Z"
    }
   },
   "cell_type": "code",
   "source": [
    "def correct_data(df):\n",
    "    \"\"\"\n",
    "    Corrects the data by removing outliers and interpolating missing values.\n",
    "\n",
    "    Parameters:\n",
    "    - df: pandas DataFrame with at least two columns: 'timestamp' and 'load'.\n",
    "\n",
    "    Returns:\n",
    "    - df: corrected pandas DataFrame.\n",
    "    \"\"\"\n",
    "    # Remove outliers\n",
    "    df = df.copy()\n",
    "    df['load_diff'] = df['load'].diff(periods=1)\n",
    "    outlier_idx = df['load_diff'].abs().idxmax()\n",
    "    df.loc[outlier_idx-2:outlier_idx+2, 'load'] = None\n",
    "    df['load'] = df['load'].interpolate(method='linear')\n",
    "\n",
    "    df['timestamp'] = pd.to_datetime(df['timestamp'])\n",
    "    df = df.set_index('timestamp')\n",
    "    df.index = df.index.round('5min')\n",
    "    df = df.asfreq('5min')\n",
    "    df = df.interpolate()\n",
    "\n",
    "    return df\n",
    "\n",
    "\n",
    "def transform_series(df, use_boxcox=True):\n",
    "    \"\"\"\n",
    "    Applies Box-Cox (optional) and StandardScaler to the 'load' column.\n",
    "\n",
    "    Parameters:\n",
    "        df (pd.DataFrame): DataFrame containing a 'load' column.\n",
    "        use_boxcox (bool): Whether to apply Box-Cox transform before scaling.\n",
    "\n",
    "    Returns:\n",
    "        Tuple[pd.DataFrame, dict]: Transformed DataFrame, and scalers dict with Box-Cox lambda and StandardScaler.\n",
    "    \"\"\"\n",
    "    df = df.copy()\n",
    "    scalers = {}\n",
    "\n",
    "    series = df['load'].values\n",
    "    scalers['load'] = {}\n",
    "\n",
    "    if use_boxcox:\n",
    "        series, lam = boxcox(series)\n",
    "        scalers['load']['lambda'] = lam\n",
    "\n",
    "    scaler = StandardScaler()\n",
    "    df['load'] = scaler.fit_transform(series.reshape(-1, 1)).flatten()\n",
    "    scalers['load']['scaler'] = scaler\n",
    "\n",
    "    return df, scalers\n",
    "\n",
    "def apply_transformation(df, scalers, use_boxcox=True):\n",
    "    \"\"\"\n",
    "    Applies previously fitted Box-Cox and StandardScaler to 'load' column in a new DataFrame.\n",
    "\n",
    "    Parameters:\n",
    "        df (pd.DataFrame): DataFrame with 'load' column to transform.\n",
    "        scalers (dict): Dictionary with 'lambda' and 'scaler' from transform_series.\n",
    "        use_boxcox (bool): Should match the flag used during training.\n",
    "\n",
    "    Returns:\n",
    "        pd.DataFrame: Transformed DataFrame.\n",
    "    \"\"\"\n",
    "    df = df.copy()\n",
    "    series = df['load'].values\n",
    "\n",
    "    if use_boxcox:\n",
    "        lam = scalers['load']['lambda']\n",
    "        series = boxcox(series, lmbda=lam)\n",
    "\n",
    "    scaler = scalers['load']['scaler']\n",
    "    df['load'] = scaler.transform(series.reshape(-1, 1)).flatten()\n",
    "\n",
    "\n",
    "    return df\n",
    "\n",
    "\n",
    "def inverse_transform(series, scaler, boxcox_lambda=None):\n",
    "    \"\"\"\n",
    "    Inverts StandardScaler (and Box-Cox if lambda is provided) on a 2D series.\n",
    "\n",
    "    Parameters:\n",
    "        series (ndarray): Shape [n_samples, horizon]\n",
    "        scaler (StandardScaler): fitted scaler object\n",
    "        boxcox_lambda (float or None): lambda used in boxcox (optional)\n",
    "\n",
    "    Returns:\n",
    "        ndarray: Series restored to original scale\n",
    "    \"\"\"\n",
    "    # Step 1: inverse standard scaling\n",
    "    reshaped = series.reshape(-1, 1)\n",
    "    unscaled = scaler.inverse_transform(reshaped).reshape(series.shape)\n",
    "\n",
    "    # Step 2: inverse box-cox if needed\n",
    "    if boxcox_lambda is not None:\n",
    "        unscaled = inv_boxcox(unscaled, boxcox_lambda)\n",
    "\n",
    "    return unscaled\n",
    "\n",
    "\n",
    "def split_train_test(df, train_frac=0.7, val_frac=0.15):\n",
    "    \"\"\"\n",
    "    Splits the DataFrame into train, validation, and test sets by index (time-based).\n",
    "\n",
    "    Parameters:\n",
    "        df (pd.DataFrame): The full dataset.\n",
    "        train_frac (float): Fraction of data to use for training.\n",
    "        val_frac (float): Fraction of data to use for validation.\n",
    "\n",
    "    Returns:\n",
    "        Tuple[pd.DataFrame, pd.DataFrame, pd.DataFrame]: (train_df, val_df, test_df)\n",
    "    \"\"\"\n",
    "    n = len(df)\n",
    "    train_end = int(n * train_frac)\n",
    "    val_end = train_end + int(n * val_frac)\n",
    "\n",
    "    train_df = df.iloc[:train_end]\n",
    "    val_df = df.iloc[train_end:val_end]\n",
    "    test_df = df.iloc[val_end:]\n",
    "\n",
    "    return train_df, val_df, test_df\n",
    "\n",
    "\n",
    "def get_horizon_weights(horizon, scheme='exp', decay=0.9):\n",
    "    \"\"\"\n",
    "    scheme: 'exp' for exponential, 'linear' for linear, 'uniform' for equal weights\n",
    "    decay: gamma for exponential, ignored for linear/uniform\n",
    "    Returns tensor of shape [horizon]\n",
    "    \"\"\"\n",
    "    if scheme == 'exp':\n",
    "        # Exponential: w[t] = decay^t, t=0...horizon-1\n",
    "        weights = [decay**t for t in range(horizon)]\n",
    "    elif scheme == 'linear':\n",
    "        # Linear: w[t] = (horizon-t)/horizon (so, 1 for t=0, goes down to 1/horizon)\n",
    "        weights = [(horizon-t)/horizon for t in range(horizon)]\n",
    "    else:\n",
    "        # Uniform: all ones\n",
    "        weights = [1.0] * horizon\n",
    "    # Normalize so sum=1 (optional; you can also normalize by mean, or not at all)\n",
    "    weights = torch.tensor(weights, dtype=torch.float32)\n",
    "    weights = weights / weights.sum()\n",
    "    return weights"
   ],
   "id": "d1de65cf1304800f",
   "outputs": [],
   "execution_count": 14
  },
  {
   "metadata": {
    "ExecuteTime": {
     "end_time": "2025-06-03T11:37:03.026188Z",
     "start_time": "2025-06-03T11:37:02.979079Z"
    }
   },
   "cell_type": "code",
   "source": [
    "def add_time_features(df, interval_minutes=5):\n",
    "    \"\"\"\n",
    "    Adds sin_time and cos_time features based on the time of day, assuming a fixed interval in minutes.\n",
    "\n",
    "    Parameters:\n",
    "        df (pd.DataFrame): DataFrame with a datetime index.\n",
    "        interval_minutes (int): Time interval between observations in minutes (default is 5).\n",
    "\n",
    "    Returns:\n",
    "        pd.DataFrame: DataFrame with 'sin_time' and 'cos_time' columns added.\n",
    "    \"\"\"\n",
    "    df = df.copy()\n",
    "\n",
    "    minutes_in_day = 24 * 60\n",
    "    steps_per_day = minutes_in_day // interval_minutes\n",
    "\n",
    "    time_of_day = (df.index.hour * 60 + df.index.minute) / interval_minutes\n",
    "    angle = 2 * np.pi * time_of_day / steps_per_day\n",
    "\n",
    "    df['sin_time'] = np.sin(angle)\n",
    "    df['cos_time'] = np.cos(angle)\n",
    "\n",
    "    return df\n",
    "\n",
    "\n",
    "def create_sliding_windows(df, lookback, horizon):\n",
    "    X, y = [], []\n",
    "    data = df[['load', 'sin_time', 'cos_time']].values\n",
    "\n",
    "    for i in range(len(data) - lookback - horizon + 1):\n",
    "        x_window = data[i:i+lookback]\n",
    "        y_window = data[i+lookback:i+lookback+horizon, 0]  # only 'load' as target\n",
    "\n",
    "        X.append(x_window)\n",
    "        y.append(y_window)\n",
    "\n",
    "    X = np.array(X)  # shape: [num_samples, lookback, features]\n",
    "    y = np.array(y)  # shape: [num_samples, horizon]\n",
    "\n",
    "    return torch.tensor(X, dtype=torch.float32), torch.tensor(y, dtype=torch.float32)\n",
    "\n",
    "def create_sliding_windows_with_end_times(df, lookback, horizon):\n",
    "    X, y, end_times = [], [], []\n",
    "    data = df[['load', 'sin_time', 'cos_time']].values\n",
    "    times = df.index  # assumes your index is timestamp\n",
    "    for i in range(len(data) - lookback - horizon + 1):\n",
    "        x_window = data[i:i+lookback]\n",
    "        y_window = data[i+lookback:i+lookback+horizon, 0]\n",
    "        end_time = str(times[i + lookback - 1])  # convert to string here!\n",
    "        X.append(x_window)\n",
    "        y.append(y_window)\n",
    "        end_times.append(end_time)\n",
    "    X = np.array(X)\n",
    "    y = np.array(y)\n",
    "    end_times = np.array(end_times)\n",
    "    return torch.tensor(X, dtype=torch.float32), torch.tensor(y, dtype=torch.float32), end_times\n",
    "\n",
    "def get_future_time_features(batch_end_times, horizon, interval_minutes=5):\n",
    "    batch_size = len(batch_end_times)\n",
    "    future_sin = np.zeros((batch_size, horizon, 1), dtype=np.float32)\n",
    "    future_cos = np.zeros((batch_size, horizon, 1), dtype=np.float32)\n",
    "    for i, ts in enumerate(batch_end_times):\n",
    "        fut_times = pd.date_range(ts + pd.Timedelta(minutes=interval_minutes), periods=horizon, freq=f'{interval_minutes}min')\n",
    "        minutes_in_day = 24 * 60\n",
    "        steps_per_day = minutes_in_day // interval_minutes\n",
    "        time_of_day = (fut_times.hour * 60 + fut_times.minute) / interval_minutes\n",
    "        angle = 2 * np.pi * time_of_day / steps_per_day\n",
    "        future_sin[i, :, 0] = np.sin(angle)\n",
    "        future_cos[i, :, 0] = np.cos(angle)\n",
    "    return future_sin, future_cos\n",
    "\n",
    "class WindowedDataset(Dataset):\n",
    "    def __init__(self, X, y, end_times):\n",
    "        self.X = X\n",
    "        self.y = y\n",
    "        self.end_times = end_times\n",
    "\n",
    "    def __len__(self):\n",
    "        return len(self.X)\n",
    "\n",
    "    def __getitem__(self, idx):\n",
    "        return self.X[idx], self.y[idx], self.end_times[idx]"
   ],
   "id": "9576b37a8b24e498",
   "outputs": [],
   "execution_count": 15
  },
  {
   "metadata": {
    "ExecuteTime": {
     "end_time": "2025-06-03T11:37:03.172777Z",
     "start_time": "2025-06-03T11:37:03.123381Z"
    }
   },
   "cell_type": "code",
   "source": [
    "def compute_forecast_metrics(y_true, y_pred):\n",
    "    \"\"\"\n",
    "    Computes MAE and MAPE per forecast horizon and returns a DataFrame summary.\n",
    "\n",
    "    Parameters:\n",
    "        y_true (Tensor or ndarray): Shape [num_samples, horizon]\n",
    "        y_pred (Tensor or ndarray): Same shape as y_true\n",
    "\n",
    "    Returns:\n",
    "        pd.DataFrame: DataFrame with MAE, MAPE per horizon, and overall metrics\n",
    "    \"\"\"\n",
    "    if hasattr(y_true, 'detach'):  # torch.Tensor\n",
    "        y_true = y_true.detach().cpu().numpy()\n",
    "    if hasattr(y_pred, 'detach'):\n",
    "        y_pred = y_pred.detach().cpu().numpy()\n",
    "\n",
    "    horizon = y_true.shape[1]\n",
    "    rows = []\n",
    "\n",
    "    for i in range(horizon):\n",
    "        mae = mean_absolute_error(y_true[:, i], y_pred[:, i])\n",
    "        mape = mean_absolute_percentage_error(y_true[:, i], y_pred[:, i])\n",
    "        rows.append({'horizon': i + 1, 'MAE': mae, 'MAPE': mape})\n",
    "\n",
    "    df = pd.DataFrame(rows)\n",
    "    overall = pd.DataFrame([{\n",
    "        'horizon': 'overall',\n",
    "        'MAE': df['MAE'].mean(),\n",
    "        'MAPE': df['MAPE'].mean()\n",
    "    }])\n",
    "\n",
    "    return pd.concat([df, overall], ignore_index=True)\n",
    "\n",
    "\n",
    "def plot_test_vs_pred_time(test_df, y_true_inv, y_pred_inv, horizons=None, title=\"Forecast vs Actual\"):\n",
    "    \"\"\"\n",
    "    Plots actual and predicted values over time for selected forecast horizons.\n",
    "\n",
    "    Parameters:\n",
    "        test_df (pd.DataFrame): Original test DataFrame with DateTime index\n",
    "        y_true_inv (ndarray): [num_samples, horizon] inverse-transformed true values\n",
    "        y_pred_inv (ndarray): same shape\n",
    "        horizons (int or list[int] or None):\n",
    "            - int: plot only that horizon (1-based index)\n",
    "            - list[int]: plot each selected horizon separately\n",
    "            - None: plot all horizons\n",
    "        title (str): Plot title\n",
    "    \"\"\"\n",
    "    if hasattr(y_true_inv, \"detach\"): y_true_inv = y_true_inv.detach().cpu().numpy()\n",
    "    if hasattr(y_pred_inv, \"detach\"): y_pred_inv = y_pred_inv.detach().cpu().numpy()\n",
    "\n",
    "    num_samples, max_h = y_true_inv.shape\n",
    "\n",
    "    # Normalize horizons input to 0-based list\n",
    "    if horizons is None:\n",
    "        selected_horizons = list(range(max_h))\n",
    "    elif isinstance(horizons, int):\n",
    "        selected_horizons = [horizons - 1]\n",
    "    else:\n",
    "        selected_horizons = [h - 1 for h in horizons]\n",
    "\n",
    "    for h in selected_horizons:\n",
    "        # Align timestamp index to each horizon\n",
    "        aligned_index = test_df.index[-(num_samples + h):-h or None]\n",
    "\n",
    "        # Ensure the slice fits\n",
    "        if len(aligned_index) != num_samples:\n",
    "            raise ValueError(f\"Mismatch for horizon {h+1}: {len(aligned_index)} timestamps vs {num_samples} predictions\")\n",
    "\n",
    "        plt.figure(figsize=(12, 4))\n",
    "        plt.plot(aligned_index, y_true_inv[:, h], label='Actual', linewidth=2)\n",
    "        plt.plot(aligned_index, y_pred_inv[:, h], label='Predicted', linewidth=2, linestyle='--')\n",
    "        plt.title(f\"{title} (Horizon {h + 1})\")\n",
    "        plt.xlabel(\"Time\")\n",
    "        plt.ylabel(\"Load\")\n",
    "        plt.legend()\n",
    "        plt.grid(True)\n",
    "        plt.tight_layout()\n",
    "        plt.show()"
   ],
   "id": "f6e70687d420e21f",
   "outputs": [],
   "execution_count": 16
  },
  {
   "metadata": {
    "ExecuteTime": {
     "end_time": "2025-06-03T11:37:03.693506Z",
     "start_time": "2025-06-03T11:37:03.652892Z"
    }
   },
   "cell_type": "code",
   "source": [
    "class BahdanauAttention(nn.Module):\n",
    "    def __init__(self, enc_hidden_dim, dec_hidden_dim):\n",
    "        super().__init__()\n",
    "        self.W1 = nn.Linear(enc_hidden_dim, dec_hidden_dim)\n",
    "        self.W2 = nn.Linear(dec_hidden_dim, dec_hidden_dim)\n",
    "        self.v = nn.Linear(dec_hidden_dim, 1)\n",
    "\n",
    "    def forward(self, encoder_outputs, decoder_hidden):\n",
    "        # encoder_outputs: [batch, seq_len, enc_hidden_dim]\n",
    "        # decoder_hidden: [batch, dec_hidden_dim] (usually take last hidden state)\n",
    "        seq_len = encoder_outputs.size(1)\n",
    "        # Repeat decoder hidden state seq_len times for concatenation\n",
    "        decoder_hidden = decoder_hidden.unsqueeze(1).repeat(1, seq_len, 1)  # [batch, seq_len, dec_hidden_dim]\n",
    "        energy = torch.tanh(self.W1(encoder_outputs) + self.W2(decoder_hidden))  # [batch, seq_len, dec_hidden_dim]\n",
    "        attention = self.v(energy).squeeze(-1)  # [batch, seq_len]\n",
    "        attn_weights = F.softmax(attention, dim=1)  # [batch, seq_len]\n",
    "        context = torch.bmm(attn_weights.unsqueeze(1), encoder_outputs).squeeze(1)  # [batch, enc_hidden_dim]\n",
    "        return context, attn_weights  # context is weighted sum\n"
   ],
   "id": "18fe2d1f04b61cf0",
   "outputs": [],
   "execution_count": 17
  },
  {
   "metadata": {
    "ExecuteTime": {
     "end_time": "2025-06-03T11:37:03.870663Z",
     "start_time": "2025-06-03T11:37:03.825344Z"
    }
   },
   "cell_type": "code",
   "source": [
    "class Seq2SeqForecastAttention(nn.Module):\n",
    "    def __init__(self, input_size=3, hidden_size=32, num_layers=2, horizon=6, lstm_dropout=0.1, final_dropout=0.1):\n",
    "        super().__init__()\n",
    "        self.horizon = horizon\n",
    "        self.encoder = nn.LSTM(input_size, hidden_size, num_layers, batch_first=True, dropout=lstm_dropout)\n",
    "        self.decoder = nn.LSTM(input_size, hidden_size, num_layers, batch_first=True, dropout=lstm_dropout)\n",
    "        self.dropout = nn.Dropout(final_dropout)\n",
    "        self.attention = BahdanauAttention(hidden_size, hidden_size)\n",
    "        self.fc = nn.Linear(hidden_size + input_size, 1)  # context + time features/load\n",
    "\n",
    "    def forward(self, x, future_sin, future_cos, targets=None, teacher_forcing_ratio=0.0):\n",
    "        batch_size = x.size(0)\n",
    "        device = x.device\n",
    "        enc_outputs, (h_n, c_n) = self.encoder(x)  # enc_outputs: [batch, lookback, hidden]\n",
    "        outputs = []\n",
    "        decoder_input = x[:, -1:, :]  # [batch, 1, input_size]\n",
    "        dec_hidden = h_n\n",
    "        dec_cell = c_n\n",
    "\n",
    "        for t in range(self.horizon):\n",
    "            # Decoder LSTM step\n",
    "            dec_out, (dec_hidden, dec_cell) = self.decoder(decoder_input, (dec_hidden, dec_cell))  # [batch, 1, hidden]\n",
    "            dec_out_last = dec_out.squeeze(1)  # [batch, hidden]\n",
    "\n",
    "            # Attention\n",
    "            context, attn_weights = self.attention(enc_outputs, dec_out_last)  # [batch, hidden]\n",
    "\n",
    "            # Prepare next input\n",
    "            # Combine [context, decoder_input] and predict next value\n",
    "            dec_features = torch.cat([context, decoder_input.squeeze(1)], dim=-1)  # [batch, hidden + input_size]\n",
    "            pred_load = self.fc(dec_features).unsqueeze(1)  # [batch, 1, 1]\n",
    "            outputs.append(pred_load)\n",
    "\n",
    "            # Teacher forcing logic (same as before)\n",
    "            if t + 1 < self.horizon:\n",
    "                next_sin = future_sin[:, t:t+1, :]\n",
    "                next_cos = future_cos[:, t:t+1, :]\n",
    "                if targets is not None:\n",
    "                    use_teacher = (torch.rand(batch_size, device=device) < teacher_forcing_ratio)\n",
    "                    mask = use_teacher.unsqueeze(-1).unsqueeze(-1)  # [batch, 1, 1]\n",
    "                    next_load_truth = targets[:, t:t+1].unsqueeze(-1)\n",
    "                else:\n",
    "                    mask = torch.zeros(batch_size, 1, 1, dtype=torch.bool, device=device)\n",
    "                    next_load_truth = pred_load.detach()\n",
    "                next_load = torch.where(mask, next_load_truth, pred_load)\n",
    "                decoder_input = torch.cat([next_load, next_sin, next_cos], dim=2)  # [batch, 1, input_size]\n",
    "        outputs = torch.cat(outputs, dim=1)  # [batch, horizon, 1]\n",
    "        return outputs\n"
   ],
   "id": "2b55b2c5feeedec7",
   "outputs": [],
   "execution_count": 18
  },
  {
   "metadata": {
    "ExecuteTime": {
     "end_time": "2025-06-03T11:37:22.769177Z",
     "start_time": "2025-06-03T11:37:22.722788Z"
    }
   },
   "cell_type": "code",
   "source": [
    "def train_model(model, criterion, optimizer, train_loader, val_loader,\n",
    "                num_epochs, device, interval_minutes=5, weight_scheme='exp', decay=0.9):\n",
    "    model.to(device)\n",
    "    for epoch in range(num_epochs):\n",
    "        print(f\"Epoch {epoch+1}/{num_epochs}\")\n",
    "        teacher_forcing_ratio = max(0.0, 1.0 - epoch / num_epochs)\n",
    "        model.train()\n",
    "        train_loss = 0.0\n",
    "        train_preds = []\n",
    "        train_targets = []\n",
    "\n",
    "        for inputs, targets, end_times in tqdm(train_loader, leave=False, desc=\"Train\", dynamic_ncols=True):\n",
    "            inputs, targets = inputs.to(device), targets.to(device)\n",
    "            batch_end_times = pd.to_datetime(end_times)\n",
    "            future_sin, future_cos = get_future_time_features(batch_end_times, model.horizon, interval_minutes)\n",
    "            future_sin = torch.tensor(future_sin, dtype=torch.float32, device=inputs.device)\n",
    "            future_cos = torch.tensor(future_cos, dtype=torch.float32, device=inputs.device)\n",
    "\n",
    "            optimizer.zero_grad()\n",
    "            outputs = model(inputs, future_sin, future_cos, targets=targets, teacher_forcing_ratio=teacher_forcing_ratio)\n",
    "            # loss = criterion(outputs.squeeze(-1), targets)\n",
    "            outputs_ = outputs.squeeze(-1)  # [batch, horizon]\n",
    "            targets_ = targets  # [batch, horizon]\n",
    "            weights = get_horizon_weights(outputs_.size(1), scheme=weight_scheme, decay=decay).to(outputs_.device)  # [horizon]\n",
    "            abs_error = torch.abs(outputs_ - targets_)  # or (outputs_ - targets_)**2 for MSE\n",
    "            weighted_error = abs_error * weights  # broadcasting over horizon\n",
    "            loss = weighted_error.mean()\n",
    "            loss.backward()\n",
    "            optimizer.step()\n",
    "\n",
    "            train_loss += loss.item() * inputs.size(0)\n",
    "            train_preds.append(outputs.squeeze(-1).detach().cpu())\n",
    "            train_targets.append(targets.cpu())\n",
    "\n",
    "        avg_train_loss = train_loss / len(train_loader.dataset)\n",
    "        train_preds = torch.cat(train_preds).numpy()\n",
    "        train_targets = torch.cat(train_targets).numpy()\n",
    "        # Metrics\n",
    "        train_mae = np.mean(np.abs(train_targets - train_preds))\n",
    "        train_mape = np.mean(np.abs((train_targets - train_preds) / (train_targets + 1e-8)))\n",
    "        # --- Validation\n",
    "        model.eval()\n",
    "        val_loss = 0.0\n",
    "        val_preds = []\n",
    "        val_targets = []\n",
    "        with torch.no_grad():\n",
    "            for inputs, targets, end_times in tqdm(val_loader, leave=False, desc=\"Val\", dynamic_ncols=True):\n",
    "                inputs, targets = inputs.to(device), targets.to(device)\n",
    "                batch_end_times = pd.to_datetime(end_times)\n",
    "                future_sin, future_cos = get_future_time_features(batch_end_times, model.horizon, interval_minutes)\n",
    "                future_sin = torch.tensor(future_sin, dtype=torch.float32, device=inputs.device)\n",
    "                future_cos = torch.tensor(future_cos, dtype=torch.float32, device=inputs.device)\n",
    "                outputs = model(inputs, future_sin, future_cos)\n",
    "                loss = criterion(outputs.squeeze(-1), targets)\n",
    "                val_loss += loss.item() * inputs.size(0)\n",
    "                val_preds.append(outputs.squeeze(-1).cpu())\n",
    "                val_targets.append(targets.cpu())\n",
    "        avg_val_loss = val_loss / len(val_loader.dataset)\n",
    "        val_preds = torch.cat(val_preds).numpy()\n",
    "        val_targets = torch.cat(val_targets).numpy()\n",
    "        val_mae = np.mean(np.abs(val_targets - val_preds))\n",
    "        val_mape = np.mean(np.abs((val_targets - val_preds) / (val_targets + 1e-8)))\n",
    "        print(f\"Train Loss: {avg_train_loss:.6f} | Val Loss: {avg_val_loss:.6f}\")\n",
    "        print(f\"Train MAE: {train_mae:.4f} | MAPE: {train_mape:.2%} | Val MAE: {val_mae:.4f} | MAPE: {val_mape:.2%}\")\n",
    "\n",
    "\n",
    "def evaluate_model(model, data_loader, device, interval_minutes=5):\n",
    "    model.eval()\n",
    "    all_preds = []\n",
    "    all_targets = []\n",
    "\n",
    "    with torch.no_grad():\n",
    "        for inputs, targets, end_times in tqdm(data_loader, leave=False, desc=\"Eval\", dynamic_ncols=True):\n",
    "            inputs, targets = inputs.to(device), targets.to(device)\n",
    "            batch_end_times = pd.to_datetime(end_times)\n",
    "            future_sin, future_cos = get_future_time_features(batch_end_times, model.horizon, interval_minutes)\n",
    "            future_sin = torch.tensor(future_sin, dtype=torch.float32, device=inputs.device)\n",
    "            future_cos = torch.tensor(future_cos, dtype=torch.float32, device=inputs.device)\n",
    "            outputs = model(inputs, future_sin, future_cos, targets=targets, teacher_forcing_ratio=0.0)\n",
    "            all_preds.append(outputs.squeeze(-1).cpu())\n",
    "            all_targets.append(targets.cpu())\n",
    "\n",
    "    y_pred = torch.cat(all_preds, dim=0).numpy()\n",
    "    y_true = torch.cat(all_targets, dim=0).numpy()\n",
    "    return y_true, y_pred"
   ],
   "id": "594abf15e84fe5d",
   "outputs": [],
   "execution_count": 19
  },
  {
   "metadata": {
    "ExecuteTime": {
     "end_time": "2025-06-03T11:55:40.806879Z",
     "start_time": "2025-06-03T11:55:40.717541Z"
    }
   },
   "cell_type": "code",
   "source": [
    "lookback = 256\n",
    "input_size = 3\n",
    "hidden_size = 512\n",
    "horizon = 6\n",
    "num_layers = 4\n",
    "lstm_dropout = 0.1\n",
    "final_dropout = 0.1\n",
    "lr = 1e-3\n",
    "num_epochs = 25\n",
    "interval_minutes = 5\n",
    "device = 'cuda' if torch.cuda.is_available() else 'cpu'"
   ],
   "id": "eed5d2de8410932c",
   "outputs": [],
   "execution_count": 53
  },
  {
   "metadata": {
    "ExecuteTime": {
     "end_time": "2025-06-03T11:55:41.348538Z",
     "start_time": "2025-06-03T11:55:41.201345Z"
    }
   },
   "cell_type": "code",
   "source": [
    "df = pd.read_csv(r'../../data/processed/actual_load.csv', parse_dates=['timestamp'])\n",
    "df = correct_data(df).iloc[1:]\n",
    "if 'load_diff' in df.columns:\n",
    "    df = df.drop(columns=['load_diff'])\n",
    "df = add_time_features(df)\n",
    "train_df, val_df, test_df = split_train_test(df, train_frac=0.7, val_frac=0.15)\n",
    "train_df_t, scalers = transform_series(train_df, use_boxcox=True)\n",
    "val_df_t = apply_transformation(val_df, scalers, use_boxcox=True)\n",
    "test_df_t = apply_transformation(test_df, scalers, use_boxcox=True)\n",
    "\n",
    "X_train, y_train, end_times_train = create_sliding_windows_with_end_times(train_df_t, lookback, horizon)\n",
    "X_val, y_val, end_times_val = create_sliding_windows_with_end_times(val_df_t, lookback, horizon)\n",
    "X_test, y_test, end_times_test = create_sliding_windows_with_end_times(test_df_t, lookback, horizon)\n",
    "\n",
    "train_dataset = WindowedDataset(X_train, y_train, end_times_train)\n",
    "val_dataset = WindowedDataset(X_val, y_val, end_times_val)\n",
    "test_dataset = WindowedDataset(X_test, y_test, end_times_test)\n",
    "\n",
    "train_loader = DataLoader(train_dataset, batch_size=64, shuffle=True)\n",
    "val_loader = DataLoader(val_dataset, batch_size=64, shuffle=False)\n",
    "test_loader = DataLoader(test_dataset, batch_size=64, shuffle=False)\n"
   ],
   "id": "8fbf2a16cb52409e",
   "outputs": [],
   "execution_count": 54
  },
  {
   "metadata": {
    "ExecuteTime": {
     "end_time": "2025-06-03T11:55:41.664023Z",
     "start_time": "2025-06-03T11:55:41.564131Z"
    }
   },
   "cell_type": "code",
   "source": [
    "model = Seq2SeqForecastAttention(\n",
    "    input_size=input_size,\n",
    "    hidden_size=hidden_size,\n",
    "    num_layers=num_layers,\n",
    "    horizon=horizon,\n",
    "    lstm_dropout=lstm_dropout,\n",
    "    final_dropout=final_dropout,\n",
    ")\n",
    "criterion = nn.SmoothL1Loss()\n",
    "optimizer = optim.Adam(model.parameters(), lr=lr)"
   ],
   "id": "d25d9e8eb1397bbf",
   "outputs": [],
   "execution_count": 55
  },
  {
   "metadata": {
    "ExecuteTime": {
     "end_time": "2025-06-03T12:04:42.672079Z",
     "start_time": "2025-06-03T11:55:42.028026Z"
    }
   },
   "cell_type": "code",
   "source": [
    "train_model(\n",
    "    model, criterion, optimizer, train_loader, val_loader, num_epochs, device, interval_minutes=5,\n",
    "    weight_scheme='exp', decay=0.9\n",
    ")"
   ],
   "id": "f5231274193dcce4",
   "outputs": [
    {
     "name": "stdout",
     "output_type": "stream",
     "text": [
      "Epoch 1/25\n"
     ]
    },
    {
     "name": "stderr",
     "output_type": "stream",
     "text": [
      "                                                      \r"
     ]
    },
    {
     "name": "stdout",
     "output_type": "stream",
     "text": [
      "Train Loss: 0.134697 | Val Loss: 1.681114\n",
      "Train MAE: 0.8082 | MAPE: 136.06% | Val MAE: 2.1750 | MAPE: 630.48%\n",
      "Epoch 2/25\n"
     ]
    },
    {
     "name": "stderr",
     "output_type": "stream",
     "text": [
      "                                                      \r"
     ]
    },
    {
     "name": "stdout",
     "output_type": "stream",
     "text": [
      "Train Loss: 0.080370 | Val Loss: 0.083370\n",
      "Train MAE: 0.4843 | MAPE: 165.14% | Val MAE: 0.3501 | MAPE: 91.52%\n",
      "Epoch 3/25\n"
     ]
    },
    {
     "name": "stderr",
     "output_type": "stream",
     "text": [
      "                                                      \r"
     ]
    },
    {
     "name": "stdout",
     "output_type": "stream",
     "text": [
      "Train Loss: 0.022383 | Val Loss: 0.040011\n",
      "Train MAE: 0.1356 | MAPE: 62.33% | Val MAE: 0.2484 | MAPE: 72.48%\n",
      "Epoch 4/25\n"
     ]
    },
    {
     "name": "stderr",
     "output_type": "stream",
     "text": [
      "                                                      \r"
     ]
    },
    {
     "name": "stdout",
     "output_type": "stream",
     "text": [
      "Train Loss: 0.015334 | Val Loss: 0.009266\n",
      "Train MAE: 0.0931 | MAPE: 42.94% | Val MAE: 0.1008 | MAPE: 32.51%\n",
      "Epoch 5/25\n"
     ]
    },
    {
     "name": "stderr",
     "output_type": "stream",
     "text": [
      "                                                      \r"
     ]
    },
    {
     "name": "stdout",
     "output_type": "stream",
     "text": [
      "Train Loss: 0.011747 | Val Loss: 0.006597\n",
      "Train MAE: 0.0715 | MAPE: 32.15% | Val MAE: 0.0915 | MAPE: 31.54%\n",
      "Epoch 6/25\n"
     ]
    },
    {
     "name": "stderr",
     "output_type": "stream",
     "text": [
      "                                                      \r"
     ]
    },
    {
     "name": "stdout",
     "output_type": "stream",
     "text": [
      "Train Loss: 0.010537 | Val Loss: 0.009258\n",
      "Train MAE: 0.0642 | MAPE: 30.20% | Val MAE: 0.1054 | MAPE: 43.80%\n",
      "Epoch 7/25\n"
     ]
    },
    {
     "name": "stderr",
     "output_type": "stream",
     "text": [
      "                                                      \r"
     ]
    },
    {
     "name": "stdout",
     "output_type": "stream",
     "text": [
      "Train Loss: 0.009706 | Val Loss: 0.008533\n",
      "Train MAE: 0.0591 | MAPE: 29.62% | Val MAE: 0.1077 | MAPE: 44.61%\n",
      "Epoch 8/25\n"
     ]
    },
    {
     "name": "stderr",
     "output_type": "stream",
     "text": [
      "                                                      \r"
     ]
    },
    {
     "name": "stdout",
     "output_type": "stream",
     "text": [
      "Train Loss: 0.008176 | Val Loss: 0.006047\n",
      "Train MAE: 0.0500 | MAPE: 25.62% | Val MAE: 0.0877 | MAPE: 30.88%\n",
      "Epoch 9/25\n"
     ]
    },
    {
     "name": "stderr",
     "output_type": "stream",
     "text": [
      "                                                      \r"
     ]
    },
    {
     "name": "stdout",
     "output_type": "stream",
     "text": [
      "Train Loss: 0.007997 | Val Loss: 0.004210\n",
      "Train MAE: 0.0488 | MAPE: 23.48% | Val MAE: 0.0722 | MAPE: 27.35%\n",
      "Epoch 10/25\n"
     ]
    },
    {
     "name": "stderr",
     "output_type": "stream",
     "text": [
      "                                                      \r"
     ]
    },
    {
     "name": "stdout",
     "output_type": "stream",
     "text": [
      "Train Loss: 0.007981 | Val Loss: 0.004321\n",
      "Train MAE: 0.0488 | MAPE: 23.52% | Val MAE: 0.0710 | MAPE: 20.28%\n",
      "Epoch 11/25\n"
     ]
    },
    {
     "name": "stderr",
     "output_type": "stream",
     "text": [
      "                                                      \r"
     ]
    },
    {
     "name": "stdout",
     "output_type": "stream",
     "text": [
      "Train Loss: 0.007727 | Val Loss: 0.001834\n",
      "Train MAE: 0.0473 | MAPE: 23.20% | Val MAE: 0.0454 | MAPE: 17.15%\n",
      "Epoch 12/25\n"
     ]
    },
    {
     "name": "stderr",
     "output_type": "stream",
     "text": [
      "                                                      \r"
     ]
    },
    {
     "name": "stdout",
     "output_type": "stream",
     "text": [
      "Train Loss: 0.007466 | Val Loss: 0.002710\n",
      "Train MAE: 0.0456 | MAPE: 21.75% | Val MAE: 0.0537 | MAPE: 17.25%\n",
      "Epoch 13/25\n"
     ]
    },
    {
     "name": "stderr",
     "output_type": "stream",
     "text": [
      "                                                      \r"
     ]
    },
    {
     "name": "stdout",
     "output_type": "stream",
     "text": [
      "Train Loss: 0.007178 | Val Loss: 0.002889\n",
      "Train MAE: 0.0440 | MAPE: 19.52% | Val MAE: 0.0588 | MAPE: 19.63%\n",
      "Epoch 14/25\n"
     ]
    },
    {
     "name": "stderr",
     "output_type": "stream",
     "text": [
      "                                                      \r"
     ]
    },
    {
     "name": "stdout",
     "output_type": "stream",
     "text": [
      "Train Loss: 0.007448 | Val Loss: 0.002139\n",
      "Train MAE: 0.0457 | MAPE: 22.53% | Val MAE: 0.0509 | MAPE: 18.48%\n",
      "Epoch 15/25\n"
     ]
    },
    {
     "name": "stderr",
     "output_type": "stream",
     "text": [
      "                                                      \r"
     ]
    },
    {
     "name": "stdout",
     "output_type": "stream",
     "text": [
      "Train Loss: 0.006510 | Val Loss: 0.002185\n",
      "Train MAE: 0.0400 | MAPE: 19.42% | Val MAE: 0.0468 | MAPE: 16.83%\n",
      "Epoch 16/25\n"
     ]
    },
    {
     "name": "stderr",
     "output_type": "stream",
     "text": [
      "                                                      \r"
     ]
    },
    {
     "name": "stdout",
     "output_type": "stream",
     "text": [
      "Train Loss: 0.008201 | Val Loss: 0.005733\n",
      "Train MAE: 0.0503 | MAPE: 23.79% | Val MAE: 0.0857 | MAPE: 19.02%\n",
      "Epoch 17/25\n"
     ]
    },
    {
     "name": "stderr",
     "output_type": "stream",
     "text": [
      "                                                      \r"
     ]
    },
    {
     "name": "stdout",
     "output_type": "stream",
     "text": [
      "Train Loss: 0.007456 | Val Loss: 0.002212\n",
      "Train MAE: 0.0458 | MAPE: 22.58% | Val MAE: 0.0445 | MAPE: 18.02%\n",
      "Epoch 18/25\n"
     ]
    },
    {
     "name": "stderr",
     "output_type": "stream",
     "text": [
      "                                                      \r"
     ]
    },
    {
     "name": "stdout",
     "output_type": "stream",
     "text": [
      "Train Loss: 0.006529 | Val Loss: 0.001864\n",
      "Train MAE: 0.0401 | MAPE: 19.58% | Val MAE: 0.0432 | MAPE: 14.82%\n",
      "Epoch 19/25\n"
     ]
    },
    {
     "name": "stderr",
     "output_type": "stream",
     "text": [
      "                                                      \r"
     ]
    },
    {
     "name": "stdout",
     "output_type": "stream",
     "text": [
      "Train Loss: 0.006359 | Val Loss: 0.003855\n",
      "Train MAE: 0.0392 | MAPE: 17.52% | Val MAE: 0.0698 | MAPE: 17.31%\n",
      "Epoch 20/25\n"
     ]
    },
    {
     "name": "stderr",
     "output_type": "stream",
     "text": [
      "                                                      \r"
     ]
    },
    {
     "name": "stdout",
     "output_type": "stream",
     "text": [
      "Train Loss: 0.006836 | Val Loss: 0.002948\n",
      "Train MAE: 0.0421 | MAPE: 20.03% | Val MAE: 0.0608 | MAPE: 22.43%\n",
      "Epoch 21/25\n"
     ]
    },
    {
     "name": "stderr",
     "output_type": "stream",
     "text": [
      "                                                      \r"
     ]
    },
    {
     "name": "stdout",
     "output_type": "stream",
     "text": [
      "Train Loss: 0.007266 | Val Loss: 0.002908\n",
      "Train MAE: 0.0447 | MAPE: 22.83% | Val MAE: 0.0516 | MAPE: 18.49%\n",
      "Epoch 22/25\n"
     ]
    },
    {
     "name": "stderr",
     "output_type": "stream",
     "text": [
      "                                                      \r"
     ]
    },
    {
     "name": "stdout",
     "output_type": "stream",
     "text": [
      "Train Loss: 0.007221 | Val Loss: 0.002724\n",
      "Train MAE: 0.0445 | MAPE: 21.43% | Val MAE: 0.0588 | MAPE: 18.13%\n",
      "Epoch 23/25\n"
     ]
    },
    {
     "name": "stderr",
     "output_type": "stream",
     "text": [
      "                                                      \r"
     ]
    },
    {
     "name": "stdout",
     "output_type": "stream",
     "text": [
      "Train Loss: 0.007986 | Val Loss: 0.003751\n",
      "Train MAE: 0.0492 | MAPE: 21.79% | Val MAE: 0.0649 | MAPE: 23.84%\n",
      "Epoch 24/25\n"
     ]
    },
    {
     "name": "stderr",
     "output_type": "stream",
     "text": [
      "                                                      \r"
     ]
    },
    {
     "name": "stdout",
     "output_type": "stream",
     "text": [
      "Train Loss: 0.006882 | Val Loss: 0.002314\n",
      "Train MAE: 0.0425 | MAPE: 19.26% | Val MAE: 0.0547 | MAPE: 16.87%\n",
      "Epoch 25/25\n"
     ]
    },
    {
     "name": "stderr",
     "output_type": "stream",
     "text": [
      "                                                      "
     ]
    },
    {
     "name": "stdout",
     "output_type": "stream",
     "text": [
      "Train Loss: 0.006693 | Val Loss: 0.003651\n",
      "Train MAE: 0.0414 | MAPE: 20.22% | Val MAE: 0.0671 | MAPE: 17.34%\n"
     ]
    },
    {
     "name": "stderr",
     "output_type": "stream",
     "text": [
      "\r"
     ]
    }
   ],
   "execution_count": 56
  },
  {
   "metadata": {
    "ExecuteTime": {
     "end_time": "2025-06-03T12:04:44.408062Z",
     "start_time": "2025-06-03T12:04:42.822681Z"
    }
   },
   "cell_type": "code",
   "source": [
    "y_true, y_pred = evaluate_model(model, test_loader, device)\n",
    "results = compute_forecast_metrics(y_true, y_pred)\n",
    "results"
   ],
   "id": "41458cf12571d849",
   "outputs": [
    {
     "name": "stderr",
     "output_type": "stream",
     "text": [
      "                                                     \r"
     ]
    },
    {
     "data": {
      "text/plain": [
       "   horizon       MAE      MAPE\n",
       "0        1  0.143935  0.258218\n",
       "1        2  0.185807  0.310468\n",
       "2        3  0.198284  0.339571\n",
       "3        4  0.203736  0.341776\n",
       "4        5  0.208556  0.357093\n",
       "5        6  0.215489  0.383708\n",
       "6  overall  0.192634  0.331806"
      ],
      "text/html": [
       "<div>\n",
       "<style scoped>\n",
       "    .dataframe tbody tr th:only-of-type {\n",
       "        vertical-align: middle;\n",
       "    }\n",
       "\n",
       "    .dataframe tbody tr th {\n",
       "        vertical-align: top;\n",
       "    }\n",
       "\n",
       "    .dataframe thead th {\n",
       "        text-align: right;\n",
       "    }\n",
       "</style>\n",
       "<table border=\"1\" class=\"dataframe\">\n",
       "  <thead>\n",
       "    <tr style=\"text-align: right;\">\n",
       "      <th></th>\n",
       "      <th>horizon</th>\n",
       "      <th>MAE</th>\n",
       "      <th>MAPE</th>\n",
       "    </tr>\n",
       "  </thead>\n",
       "  <tbody>\n",
       "    <tr>\n",
       "      <th>0</th>\n",
       "      <td>1</td>\n",
       "      <td>0.143935</td>\n",
       "      <td>0.258218</td>\n",
       "    </tr>\n",
       "    <tr>\n",
       "      <th>1</th>\n",
       "      <td>2</td>\n",
       "      <td>0.185807</td>\n",
       "      <td>0.310468</td>\n",
       "    </tr>\n",
       "    <tr>\n",
       "      <th>2</th>\n",
       "      <td>3</td>\n",
       "      <td>0.198284</td>\n",
       "      <td>0.339571</td>\n",
       "    </tr>\n",
       "    <tr>\n",
       "      <th>3</th>\n",
       "      <td>4</td>\n",
       "      <td>0.203736</td>\n",
       "      <td>0.341776</td>\n",
       "    </tr>\n",
       "    <tr>\n",
       "      <th>4</th>\n",
       "      <td>5</td>\n",
       "      <td>0.208556</td>\n",
       "      <td>0.357093</td>\n",
       "    </tr>\n",
       "    <tr>\n",
       "      <th>5</th>\n",
       "      <td>6</td>\n",
       "      <td>0.215489</td>\n",
       "      <td>0.383708</td>\n",
       "    </tr>\n",
       "    <tr>\n",
       "      <th>6</th>\n",
       "      <td>overall</td>\n",
       "      <td>0.192634</td>\n",
       "      <td>0.331806</td>\n",
       "    </tr>\n",
       "  </tbody>\n",
       "</table>\n",
       "</div>"
      ]
     },
     "execution_count": 57,
     "metadata": {},
     "output_type": "execute_result"
    }
   ],
   "execution_count": 57
  },
  {
   "metadata": {
    "ExecuteTime": {
     "end_time": "2025-06-03T12:04:44.735735Z",
     "start_time": "2025-06-03T12:04:44.618063Z"
    }
   },
   "cell_type": "code",
   "source": [
    "y_true_inv = inverse_transform(y_true, scalers['load']['scaler'], scalers['load'].get('lambda'))\n",
    "y_pred_inv = inverse_transform(y_pred, scalers['load']['scaler'], scalers['load'].get('lambda'))\n",
    "metrics_df = compute_forecast_metrics(y_true_inv, y_pred_inv)\n",
    "metrics_df"
   ],
   "id": "53d75167bc25dd02",
   "outputs": [
    {
     "data": {
      "text/plain": [
       "   horizon          MAE      MAPE\n",
       "0        1  1207.831857  0.012762\n",
       "1        2  1559.630794  0.016430\n",
       "2        3  1664.494093  0.017498\n",
       "3        4  1710.294585  0.017964\n",
       "4        5  1750.939428  0.018417\n",
       "5        6  1809.605128  0.019112\n",
       "6  overall  1617.132647  0.017030"
      ],
      "text/html": [
       "<div>\n",
       "<style scoped>\n",
       "    .dataframe tbody tr th:only-of-type {\n",
       "        vertical-align: middle;\n",
       "    }\n",
       "\n",
       "    .dataframe tbody tr th {\n",
       "        vertical-align: top;\n",
       "    }\n",
       "\n",
       "    .dataframe thead th {\n",
       "        text-align: right;\n",
       "    }\n",
       "</style>\n",
       "<table border=\"1\" class=\"dataframe\">\n",
       "  <thead>\n",
       "    <tr style=\"text-align: right;\">\n",
       "      <th></th>\n",
       "      <th>horizon</th>\n",
       "      <th>MAE</th>\n",
       "      <th>MAPE</th>\n",
       "    </tr>\n",
       "  </thead>\n",
       "  <tbody>\n",
       "    <tr>\n",
       "      <th>0</th>\n",
       "      <td>1</td>\n",
       "      <td>1207.831857</td>\n",
       "      <td>0.012762</td>\n",
       "    </tr>\n",
       "    <tr>\n",
       "      <th>1</th>\n",
       "      <td>2</td>\n",
       "      <td>1559.630794</td>\n",
       "      <td>0.016430</td>\n",
       "    </tr>\n",
       "    <tr>\n",
       "      <th>2</th>\n",
       "      <td>3</td>\n",
       "      <td>1664.494093</td>\n",
       "      <td>0.017498</td>\n",
       "    </tr>\n",
       "    <tr>\n",
       "      <th>3</th>\n",
       "      <td>4</td>\n",
       "      <td>1710.294585</td>\n",
       "      <td>0.017964</td>\n",
       "    </tr>\n",
       "    <tr>\n",
       "      <th>4</th>\n",
       "      <td>5</td>\n",
       "      <td>1750.939428</td>\n",
       "      <td>0.018417</td>\n",
       "    </tr>\n",
       "    <tr>\n",
       "      <th>5</th>\n",
       "      <td>6</td>\n",
       "      <td>1809.605128</td>\n",
       "      <td>0.019112</td>\n",
       "    </tr>\n",
       "    <tr>\n",
       "      <th>6</th>\n",
       "      <td>overall</td>\n",
       "      <td>1617.132647</td>\n",
       "      <td>0.017030</td>\n",
       "    </tr>\n",
       "  </tbody>\n",
       "</table>\n",
       "</div>"
      ]
     },
     "execution_count": 58,
     "metadata": {},
     "output_type": "execute_result"
    }
   ],
   "execution_count": 58
  },
  {
   "metadata": {
    "ExecuteTime": {
     "end_time": "2025-06-03T12:05:07.231244Z",
     "start_time": "2025-06-03T12:05:06.719296Z"
    }
   },
   "cell_type": "code",
   "source": "plot_test_vs_pred_time(test_df, y_true, y_pred, horizons=[1, 3, 6, 20])",
   "id": "9b67ab5ee8ddd3b7",
   "outputs": [
    {
     "data": {
      "text/plain": [
       "<Figure size 1200x400 with 1 Axes>"
      ],
      "image/png": "[encoded data removed]"
     },
     "metadata": {},
     "output_type": "display_data"
    },
    {
     "data": {
      "text/plain": [
       "<Figure size 1200x400 with 1 Axes>"
      ],
      "image/png": "[encoded data removed]"
     },
     "metadata": {},
     "output_type": "display_data"
    },
    {
     "data": {
      "text/plain": [
       "<Figure size 1200x400 with 1 Axes>"
      ],
      "image/png": "[encoded data removed]"
     },
     "metadata": {},
     "output_type": "display_data"
    },
    {
     "ename": "IndexError",
     "evalue": "index 19 is out of bounds for axis 1 with size 6",
     "output_type": "error",
     "traceback": [
      "\u001B[31m---------------------------------------------------------------------------\u001B[39m",
      "\u001B[31mIndexError\u001B[39m                                Traceback (most recent call last)",
      "\u001B[36mCell\u001B[39m\u001B[36m \u001B[39m\u001B[32mIn[60]\u001B[39m\u001B[32m, line 1\u001B[39m\n\u001B[32m----> \u001B[39m\u001B[32m1\u001B[39m \u001B[43mplot_test_vs_pred_time\u001B[49m\u001B[43m(\u001B[49m\u001B[43mtest_df\u001B[49m\u001B[43m,\u001B[49m\u001B[43m \u001B[49m\u001B[43my_true\u001B[49m\u001B[43m,\u001B[49m\u001B[43m \u001B[49m\u001B[43my_pred\u001B[49m\u001B[43m,\u001B[49m\u001B[43m \u001B[49m\u001B[43mhorizons\u001B[49m\u001B[43m=\u001B[49m\u001B[43m[\u001B[49m\u001B[32;43m1\u001B[39;49m\u001B[43m,\u001B[49m\u001B[43m \u001B[49m\u001B[32;43m3\u001B[39;49m\u001B[43m,\u001B[49m\u001B[43m \u001B[49m\u001B[32;43m6\u001B[39;49m\u001B[43m,\u001B[49m\u001B[43m \u001B[49m\u001B[32;43m20\u001B[39;49m\u001B[43m]\u001B[49m\u001B[43m)\u001B[49m\n",
      "\u001B[36mCell\u001B[39m\u001B[36m \u001B[39m\u001B[32mIn[16]\u001B[39m\u001B[32m, line 71\u001B[39m, in \u001B[36mplot_test_vs_pred_time\u001B[39m\u001B[34m(test_df, y_true_inv, y_pred_inv, horizons, title)\u001B[39m\n\u001B[32m     68\u001B[39m     \u001B[38;5;28;01mraise\u001B[39;00m \u001B[38;5;167;01mValueError\u001B[39;00m(\u001B[33mf\u001B[39m\u001B[33m\"\u001B[39m\u001B[33mMismatch for horizon \u001B[39m\u001B[38;5;132;01m{\u001B[39;00mh+\u001B[32m1\u001B[39m\u001B[38;5;132;01m}\u001B[39;00m\u001B[33m: \u001B[39m\u001B[38;5;132;01m{\u001B[39;00m\u001B[38;5;28mlen\u001B[39m(aligned_index)\u001B[38;5;132;01m}\u001B[39;00m\u001B[33m timestamps vs \u001B[39m\u001B[38;5;132;01m{\u001B[39;00mnum_samples\u001B[38;5;132;01m}\u001B[39;00m\u001B[33m predictions\u001B[39m\u001B[33m\"\u001B[39m)\n\u001B[32m     70\u001B[39m plt.figure(figsize=(\u001B[32m12\u001B[39m, \u001B[32m4\u001B[39m))\n\u001B[32m---> \u001B[39m\u001B[32m71\u001B[39m plt.plot(aligned_index, \u001B[43my_true_inv\u001B[49m\u001B[43m[\u001B[49m\u001B[43m:\u001B[49m\u001B[43m,\u001B[49m\u001B[43m \u001B[49m\u001B[43mh\u001B[49m\u001B[43m]\u001B[49m, label=\u001B[33m'\u001B[39m\u001B[33mActual\u001B[39m\u001B[33m'\u001B[39m, linewidth=\u001B[32m2\u001B[39m)\n\u001B[32m     72\u001B[39m plt.plot(aligned_index, y_pred_inv[:, h], label=\u001B[33m'\u001B[39m\u001B[33mPredicted\u001B[39m\u001B[33m'\u001B[39m, linewidth=\u001B[32m2\u001B[39m, linestyle=\u001B[33m'\u001B[39m\u001B[33m--\u001B[39m\u001B[33m'\u001B[39m)\n\u001B[32m     73\u001B[39m plt.title(\u001B[33mf\u001B[39m\u001B[33m\"\u001B[39m\u001B[38;5;132;01m{\u001B[39;00mtitle\u001B[38;5;132;01m}\u001B[39;00m\u001B[33m (Horizon \u001B[39m\u001B[38;5;132;01m{\u001B[39;00mh\u001B[38;5;250m \u001B[39m+\u001B[38;5;250m \u001B[39m\u001B[32m1\u001B[39m\u001B[38;5;132;01m}\u001B[39;00m\u001B[33m)\u001B[39m\u001B[33m\"\u001B[39m)\n",
      "\u001B[31mIndexError\u001B[39m: index 19 is out of bounds for axis 1 with size 6"
     ]
    },
    {
     "data": {
      "text/plain": [
       "<Figure size 1200x400 with 0 Axes>"
      ]
     },
     "metadata": {},
     "output_type": "display_data"
    }
   ],
   "execution_count": 60
  },
  {
   "metadata": {
    "ExecuteTime": {
     "end_time": "2025-06-08T00:06:37.861869Z",
     "start_time": "2025-06-08T00:06:37.593904Z"
    }
   },
   "cell_type": "code",
   "source": "sum(p.numel() for p in model.parameters() if p.requires_grad)",
   "id": "bee8a70631ba50b4",
   "outputs": [
    {
     "data": {
      "text/plain": [
       "15251461"
      ]
     },
     "execution_count": 61,
     "metadata": {},
     "output_type": "execute_result"
    }
   ],
   "execution_count": 61
  },
  {
   "metadata": {},
   "cell_type": "code",
   "outputs": [],
   "execution_count": null,
   "source": "",
   "id": "bcc590734196b3d8"
  }
 ],
 "metadata": {
  "kernelspec": {
   "display_name": "Python 3",
   "language": "python",
   "name": "python3"
  },
  "language_info": {
   "codemirror_mode": {
    "name": "ipython",
    "version": 2
   },
   "file_extension": ".py",
   "mimetype": "text/x-python",
   "name": "python",
   "nbconvert_exporter": "python",
   "pygments_lexer": "ipython2",
   "version": "2.7.6"
  }
 },
 "nbformat": 4,
 "nbformat_minor": 5
}
