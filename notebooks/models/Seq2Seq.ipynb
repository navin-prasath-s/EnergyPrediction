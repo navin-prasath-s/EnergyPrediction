{
 "cells": [
  {
   "cell_type": "code",
   "id": "initial_id",
   "metadata": {
    "collapsed": true,
    "ExecuteTime": {
     "end_time": "2025-06-01T12:23:03.185714Z",
     "start_time": "2025-06-01T12:23:03.128246Z"
    }
   },
   "source": [
    "%load_ext autoreload\n",
    "%autoreload 2\n",
    "\n",
    "import pandas as pd\n",
    "import numpy as np\n",
    "import matplotlib.pyplot as plt\n",
    "\n",
    "from scipy.stats import boxcox\n",
    "from scipy.special import inv_boxcox\n",
    "\n",
    "from sklearn.preprocessing import StandardScaler\n",
    "from sklearn.metrics import mean_absolute_error, mean_squared_error, mean_absolute_percentage_error\n",
    "from sklearn.model_selection import TimeSeriesSplit\n",
    "\n",
    "import torch\n",
    "import torch.nn as nn\n",
    "import torch.optim as optim\n",
    "from torch.utils.data import DataLoader, TensorDataset, Dataset\n",
    "\n",
    "from tqdm import tqdm\n",
    "\n",
    "device = torch.device(\"cuda\" if torch.cuda.is_available() else \"cpu\")\n",
    "print(f\"Using device: {device}\")"
   ],
   "outputs": [
    {
     "name": "stdout",
     "output_type": "stream",
     "text": [
      "The autoreload extension is already loaded. To reload it, use:\n",
      "  %reload_ext autoreload\n",
      "Using device: cuda\n"
     ]
    }
   ],
   "execution_count": 161
  },
  {
   "metadata": {
    "ExecuteTime": {
     "end_time": "2025-06-01T12:23:03.333920Z",
     "start_time": "2025-06-01T12:23:03.277601Z"
    }
   },
   "cell_type": "code",
   "source": [
    "def correct_data(df):\n",
    "    \"\"\"\n",
    "    Corrects the data by removing outliers and interpolating missing values.\n",
    "\n",
    "    Parameters:\n",
    "    - df: pandas DataFrame with at least two columns: 'timestamp' and 'load'.\n",
    "\n",
    "    Returns:\n",
    "    - df: corrected pandas DataFrame.\n",
    "    \"\"\"\n",
    "    # Remove outliers\n",
    "    df = df.copy()\n",
    "    df['load_diff'] = df['load'].diff(periods=1)\n",
    "    outlier_idx = df['load_diff'].abs().idxmax()\n",
    "    df.loc[outlier_idx-2:outlier_idx+2, 'load'] = None\n",
    "    df['load'] = df['load'].interpolate(method='linear')\n",
    "\n",
    "    df['timestamp'] = pd.to_datetime(df['timestamp'])\n",
    "    df = df.set_index('timestamp')\n",
    "    df.index = df.index.round('5min')\n",
    "    df = df.asfreq('5min')\n",
    "    df = df.interpolate()\n",
    "\n",
    "    return df\n",
    "\n",
    "\n",
    "def transform_series(df, use_boxcox=True):\n",
    "    \"\"\"\n",
    "    Applies Box-Cox (optional) and StandardScaler to the 'load' column.\n",
    "\n",
    "    Parameters:\n",
    "        df (pd.DataFrame): DataFrame containing a 'load' column.\n",
    "        use_boxcox (bool): Whether to apply Box-Cox transform before scaling.\n",
    "\n",
    "    Returns:\n",
    "        Tuple[pd.DataFrame, dict]: Transformed DataFrame, and scalers dict with Box-Cox lambda and StandardScaler.\n",
    "    \"\"\"\n",
    "    df = df.copy()\n",
    "    scalers = {}\n",
    "\n",
    "    series = df['load'].values\n",
    "    scalers['load'] = {}\n",
    "\n",
    "    if use_boxcox:\n",
    "        series, lam = boxcox(series)\n",
    "        scalers['load']['lambda'] = lam\n",
    "\n",
    "    scaler = StandardScaler()\n",
    "    df['load'] = scaler.fit_transform(series.reshape(-1, 1)).flatten()\n",
    "    scalers['load']['scaler'] = scaler\n",
    "\n",
    "    return df, scalers\n",
    "\n",
    "def apply_transformation(df, scalers, use_boxcox=True):\n",
    "    \"\"\"\n",
    "    Applies previously fitted Box-Cox and StandardScaler to 'load' column in a new DataFrame.\n",
    "\n",
    "    Parameters:\n",
    "        df (pd.DataFrame): DataFrame with 'load' column to transform.\n",
    "        scalers (dict): Dictionary with 'lambda' and 'scaler' from transform_series.\n",
    "        use_boxcox (bool): Should match the flag used during training.\n",
    "\n",
    "    Returns:\n",
    "        pd.DataFrame: Transformed DataFrame.\n",
    "    \"\"\"\n",
    "    df = df.copy()\n",
    "    series = df['load'].values\n",
    "\n",
    "    if use_boxcox:\n",
    "        lam = scalers['load']['lambda']\n",
    "        series = boxcox(series, lmbda=lam)\n",
    "\n",
    "    scaler = scalers['load']['scaler']\n",
    "    df['load'] = scaler.transform(series.reshape(-1, 1)).flatten()\n",
    "\n",
    "\n",
    "    return df\n",
    "\n",
    "\n",
    "def inverse_transform(series, scaler, boxcox_lambda=None):\n",
    "    \"\"\"\n",
    "    Inverts StandardScaler (and Box-Cox if lambda is provided) on a 2D series.\n",
    "\n",
    "    Parameters:\n",
    "        series (ndarray): Shape [n_samples, horizon]\n",
    "        scaler (StandardScaler): fitted scaler object\n",
    "        boxcox_lambda (float or None): lambda used in boxcox (optional)\n",
    "\n",
    "    Returns:\n",
    "        ndarray: Series restored to original scale\n",
    "    \"\"\"\n",
    "    # Step 1: inverse standard scaling\n",
    "    reshaped = series.reshape(-1, 1)\n",
    "    unscaled = scaler.inverse_transform(reshaped).reshape(series.shape)\n",
    "\n",
    "    # Step 2: inverse box-cox if needed\n",
    "    if boxcox_lambda is not None:\n",
    "        unscaled = inv_boxcox(unscaled, boxcox_lambda)\n",
    "\n",
    "    return unscaled\n",
    "\n",
    "\n",
    "def split_train_test(df, train_frac=0.7, val_frac=0.15):\n",
    "    \"\"\"\n",
    "    Splits the DataFrame into train, validation, and test sets by index (time-based).\n",
    "\n",
    "    Parameters:\n",
    "        df (pd.DataFrame): The full dataset.\n",
    "        train_frac (float): Fraction of data to use for training.\n",
    "        val_frac (float): Fraction of data to use for validation.\n",
    "\n",
    "    Returns:\n",
    "        Tuple[pd.DataFrame, pd.DataFrame, pd.DataFrame]: (train_df, val_df, test_df)\n",
    "    \"\"\"\n",
    "    n = len(df)\n",
    "    train_end = int(n * train_frac)\n",
    "    val_end = train_end + int(n * val_frac)\n",
    "\n",
    "    train_df = df.iloc[:train_end]\n",
    "    val_df = df.iloc[train_end:val_end]\n",
    "    test_df = df.iloc[val_end:]\n",
    "\n",
    "    return train_df, val_df, test_df"
   ],
   "id": "8f365d7c45d4bec1",
   "outputs": [],
   "execution_count": 162
  },
  {
   "metadata": {
    "ExecuteTime": {
     "end_time": "2025-06-01T12:23:03.490915Z",
     "start_time": "2025-06-01T12:23:03.427546Z"
    }
   },
   "cell_type": "code",
   "source": [
    "def add_time_features(df, interval_minutes=5):\n",
    "    \"\"\"\n",
    "    Adds sin_time and cos_time features based on the time of day, assuming a fixed interval in minutes.\n",
    "\n",
    "    Parameters:\n",
    "        df (pd.DataFrame): DataFrame with a datetime index.\n",
    "        interval_minutes (int): Time interval between observations in minutes (default is 5).\n",
    "\n",
    "    Returns:\n",
    "        pd.DataFrame: DataFrame with 'sin_time' and 'cos_time' columns added.\n",
    "    \"\"\"\n",
    "    df = df.copy()\n",
    "\n",
    "    minutes_in_day = 24 * 60\n",
    "    steps_per_day = minutes_in_day // interval_minutes\n",
    "\n",
    "    time_of_day = (df.index.hour * 60 + df.index.minute) / interval_minutes\n",
    "    angle = 2 * np.pi * time_of_day / steps_per_day\n",
    "\n",
    "    df['sin_time'] = np.sin(angle)\n",
    "    df['cos_time'] = np.cos(angle)\n",
    "\n",
    "    return df\n",
    "\n",
    "\n",
    "def create_sliding_windows(df, lookback, horizon):\n",
    "    X, y = [], []\n",
    "    data = df[['load', 'sin_time', 'cos_time']].values\n",
    "\n",
    "    for i in range(len(data) - lookback - horizon + 1):\n",
    "        x_window = data[i:i+lookback]\n",
    "        y_window = data[i+lookback:i+lookback+horizon, 0]  # only 'load' as target\n",
    "\n",
    "        X.append(x_window)\n",
    "        y.append(y_window)\n",
    "\n",
    "    X = np.array(X)  # shape: [num_samples, lookback, features]\n",
    "    y = np.array(y)  # shape: [num_samples, horizon]\n",
    "\n",
    "    return torch.tensor(X, dtype=torch.float32), torch.tensor(y, dtype=torch.float32)\n",
    "\n",
    "def create_sliding_windows_with_end_times(df, lookback, horizon):\n",
    "    X, y, end_times = [], [], []\n",
    "    data = df[['load', 'sin_time', 'cos_time']].values\n",
    "    times = df.index  # assumes your index is timestamp\n",
    "    for i in range(len(data) - lookback - horizon + 1):\n",
    "        x_window = data[i:i+lookback]\n",
    "        y_window = data[i+lookback:i+lookback+horizon, 0]\n",
    "        end_time = str(times[i + lookback - 1])  # convert to string here!\n",
    "        X.append(x_window)\n",
    "        y.append(y_window)\n",
    "        end_times.append(end_time)\n",
    "    X = np.array(X)\n",
    "    y = np.array(y)\n",
    "    end_times = np.array(end_times)\n",
    "    return torch.tensor(X, dtype=torch.float32), torch.tensor(y, dtype=torch.float32), end_times\n",
    "\n",
    "def get_future_time_features(batch_end_times, horizon, interval_minutes=5):\n",
    "    batch_size = len(batch_end_times)\n",
    "    future_sin = np.zeros((batch_size, horizon, 1), dtype=np.float32)\n",
    "    future_cos = np.zeros((batch_size, horizon, 1), dtype=np.float32)\n",
    "    for i, ts in enumerate(batch_end_times):\n",
    "        fut_times = pd.date_range(ts + pd.Timedelta(minutes=interval_minutes), periods=horizon, freq=f'{interval_minutes}min')\n",
    "        minutes_in_day = 24 * 60\n",
    "        steps_per_day = minutes_in_day // interval_minutes\n",
    "        time_of_day = (fut_times.hour * 60 + fut_times.minute) / interval_minutes\n",
    "        angle = 2 * np.pi * time_of_day / steps_per_day\n",
    "        future_sin[i, :, 0] = np.sin(angle)\n",
    "        future_cos[i, :, 0] = np.cos(angle)\n",
    "    return future_sin, future_cos\n",
    "\n",
    "class WindowedDataset(Dataset):\n",
    "    def __init__(self, X, y, end_times):\n",
    "        self.X = X\n",
    "        self.y = y\n",
    "        self.end_times = end_times\n",
    "\n",
    "    def __len__(self):\n",
    "        return len(self.X)\n",
    "\n",
    "    def __getitem__(self, idx):\n",
    "        return self.X[idx], self.y[idx], self.end_times[idx]"
   ],
   "id": "abb2a1b3b4617022",
   "outputs": [],
   "execution_count": 163
  },
  {
   "metadata": {
    "ExecuteTime": {
     "end_time": "2025-06-01T12:23:03.645136Z",
     "start_time": "2025-06-01T12:23:03.590243Z"
    }
   },
   "cell_type": "code",
   "source": [
    "def compute_forecast_metrics(y_true, y_pred):\n",
    "    \"\"\"\n",
    "    Computes MAE and MAPE per forecast horizon and returns a DataFrame summary.\n",
    "\n",
    "    Parameters:\n",
    "        y_true (Tensor or ndarray): Shape [num_samples, horizon]\n",
    "        y_pred (Tensor or ndarray): Same shape as y_true\n",
    "\n",
    "    Returns:\n",
    "        pd.DataFrame: DataFrame with MAE, MAPE per horizon, and overall metrics\n",
    "    \"\"\"\n",
    "    if hasattr(y_true, 'detach'):  # torch.Tensor\n",
    "        y_true = y_true.detach().cpu().numpy()\n",
    "    if hasattr(y_pred, 'detach'):\n",
    "        y_pred = y_pred.detach().cpu().numpy()\n",
    "\n",
    "    horizon = y_true.shape[1]\n",
    "    rows = []\n",
    "\n",
    "    for i in range(horizon):\n",
    "        mae = mean_absolute_error(y_true[:, i], y_pred[:, i])\n",
    "        mape = mean_absolute_percentage_error(y_true[:, i], y_pred[:, i])\n",
    "        rows.append({'horizon': i + 1, 'MAE': mae, 'MAPE': mape})\n",
    "\n",
    "    df = pd.DataFrame(rows)\n",
    "    overall = pd.DataFrame([{\n",
    "        'horizon': 'overall',\n",
    "        'MAE': df['MAE'].mean(),\n",
    "        'MAPE': df['MAPE'].mean()\n",
    "    }])\n",
    "\n",
    "    return pd.concat([df, overall], ignore_index=True)\n",
    "\n",
    "\n",
    "def plot_test_vs_pred_time(test_df, y_true_inv, y_pred_inv, horizons=None, title=\"Forecast vs Actual\"):\n",
    "    \"\"\"\n",
    "    Plots actual and predicted values over time for selected forecast horizons.\n",
    "\n",
    "    Parameters:\n",
    "        test_df (pd.DataFrame): Original test DataFrame with DateTime index\n",
    "        y_true_inv (ndarray): [num_samples, horizon] inverse-transformed true values\n",
    "        y_pred_inv (ndarray): same shape\n",
    "        horizons (int or list[int] or None):\n",
    "            - int: plot only that horizon (1-based index)\n",
    "            - list[int]: plot each selected horizon separately\n",
    "            - None: plot all horizons\n",
    "        title (str): Plot title\n",
    "    \"\"\"\n",
    "    if hasattr(y_true_inv, \"detach\"): y_true_inv = y_true_inv.detach().cpu().numpy()\n",
    "    if hasattr(y_pred_inv, \"detach\"): y_pred_inv = y_pred_inv.detach().cpu().numpy()\n",
    "\n",
    "    num_samples, max_h = y_true_inv.shape\n",
    "\n",
    "    # Normalize horizons input to 0-based list\n",
    "    if horizons is None:\n",
    "        selected_horizons = list(range(max_h))\n",
    "    elif isinstance(horizons, int):\n",
    "        selected_horizons = [horizons - 1]\n",
    "    else:\n",
    "        selected_horizons = [h - 1 for h in horizons]\n",
    "\n",
    "    for h in selected_horizons:\n",
    "        # Align timestamp index to each horizon\n",
    "        aligned_index = test_df.index[-(num_samples + h):-h or None]\n",
    "\n",
    "        # Ensure the slice fits\n",
    "        if len(aligned_index) != num_samples:\n",
    "            raise ValueError(f\"Mismatch for horizon {h+1}: {len(aligned_index)} timestamps vs {num_samples} predictions\")\n",
    "\n",
    "        plt.figure(figsize=(12, 4))\n",
    "        plt.plot(aligned_index, y_true_inv[:, h], label='Actual', linewidth=2)\n",
    "        plt.plot(aligned_index, y_pred_inv[:, h], label='Predicted', linewidth=2, linestyle='--')\n",
    "        plt.title(f\"{title} (Horizon {h + 1})\")\n",
    "        plt.xlabel(\"Time\")\n",
    "        plt.ylabel(\"Load\")\n",
    "        plt.legend()\n",
    "        plt.grid(True)\n",
    "        plt.tight_layout()\n",
    "        plt.show()"
   ],
   "id": "e330cc434a950d69",
   "outputs": [],
   "execution_count": 164
  },
  {
   "metadata": {
    "ExecuteTime": {
     "end_time": "2025-06-01T12:23:03.789016Z",
     "start_time": "2025-06-01T12:23:03.734642Z"
    }
   },
   "cell_type": "code",
   "source": [
    "class Seq2SeqForecast(nn.Module):\n",
    "    def __init__(self, input_size=3, hidden_size=32, num_layers=2, horizon=6, lstm_dropout=0.1, final_dropout=0.1):\n",
    "        super().__init__()\n",
    "        self.horizon = horizon\n",
    "        self.encoder = nn.LSTM(input_size, hidden_size, num_layers, batch_first=True, dropout=lstm_dropout)\n",
    "        self.decoder = nn.LSTM(3, hidden_size, num_layers, batch_first=True, dropout=lstm_dropout)\n",
    "        self.dropout = nn.Dropout(final_dropout)\n",
    "        self.fc = nn.Linear(hidden_size, 1)\n",
    "\n",
    "    def forward(self, x, future_sin, future_cos):\n",
    "\n",
    "        _, (h_n, c_n) = self.encoder(x)\n",
    "        outputs = []\n",
    "\n",
    "        decoder_input = x[:, -1:, :]\n",
    "\n",
    "        for t in range(self.horizon):\n",
    "            out, (h_n, c_n) = self.decoder(decoder_input, (h_n, c_n))\n",
    "            out = self.dropout(out)\n",
    "            pred_load = self.fc(out)  # [batch, 1, 1]\n",
    "            outputs.append(pred_load)\n",
    "\n",
    "            if t+1 < self.horizon:\n",
    "                next_sin = future_sin[:, t:t+1, :]  # [batch, 1, 1]\n",
    "                next_cos = future_cos[:, t:t+1, :]  # [batch, 1, 1]\n",
    "                decoder_input = torch.cat([pred_load, next_sin, next_cos], dim=2)  # [batch, 1, 3]\n",
    "\n",
    "        return torch.cat(outputs, dim=1)\n",
    "\n"
   ],
   "id": "dbfc0ca31ccb5e81",
   "outputs": [],
   "execution_count": 165
  },
  {
   "metadata": {
    "ExecuteTime": {
     "end_time": "2025-06-01T12:23:03.955192Z",
     "start_time": "2025-06-01T12:23:03.882729Z"
    }
   },
   "cell_type": "code",
   "source": [
    "x = torch.randn(5, 10, 3)  # [batch_size, lookback, features]\n",
    "model = Seq2SeqForecast(input_size=3, hidden_size=32, output_size=6, num_layers=1, lstm_dropout=0.1, final_dropout=0.1)\n",
    "model(x)"
   ],
   "id": "d7a0b15af02c04b6",
   "outputs": [
    {
     "ename": "TypeError",
     "evalue": "Seq2SeqForecast.__init__() got an unexpected keyword argument 'output_size'",
     "output_type": "error",
     "traceback": [
      "\u001B[31m---------------------------------------------------------------------------\u001B[39m",
      "\u001B[31mTypeError\u001B[39m                                 Traceback (most recent call last)",
      "\u001B[36mCell\u001B[39m\u001B[36m \u001B[39m\u001B[32mIn[166]\u001B[39m\u001B[32m, line 2\u001B[39m\n\u001B[32m      1\u001B[39m x = torch.randn(\u001B[32m5\u001B[39m, \u001B[32m10\u001B[39m, \u001B[32m3\u001B[39m)  \u001B[38;5;66;03m# [batch_size, lookback, features]\u001B[39;00m\n\u001B[32m----> \u001B[39m\u001B[32m2\u001B[39m model = \u001B[43mSeq2SeqForecast\u001B[49m\u001B[43m(\u001B[49m\u001B[43minput_size\u001B[49m\u001B[43m=\u001B[49m\u001B[32;43m3\u001B[39;49m\u001B[43m,\u001B[49m\u001B[43m \u001B[49m\u001B[43mhidden_size\u001B[49m\u001B[43m=\u001B[49m\u001B[32;43m32\u001B[39;49m\u001B[43m,\u001B[49m\u001B[43m \u001B[49m\u001B[43moutput_size\u001B[49m\u001B[43m=\u001B[49m\u001B[32;43m6\u001B[39;49m\u001B[43m,\u001B[49m\u001B[43m \u001B[49m\u001B[43mnum_layers\u001B[49m\u001B[43m=\u001B[49m\u001B[32;43m1\u001B[39;49m\u001B[43m,\u001B[49m\u001B[43m \u001B[49m\u001B[43mlstm_dropout\u001B[49m\u001B[43m=\u001B[49m\u001B[32;43m0.1\u001B[39;49m\u001B[43m,\u001B[49m\u001B[43m \u001B[49m\u001B[43mfinal_dropout\u001B[49m\u001B[43m=\u001B[49m\u001B[32;43m0.1\u001B[39;49m\u001B[43m)\u001B[49m\n\u001B[32m      3\u001B[39m model(x)\n",
      "\u001B[31mTypeError\u001B[39m: Seq2SeqForecast.__init__() got an unexpected keyword argument 'output_size'"
     ]
    }
   ],
   "execution_count": 166
  },
  {
   "metadata": {
    "ExecuteTime": {
     "end_time": "2025-06-01T12:23:03.958703700Z",
     "start_time": "2025-06-01T12:13:24.028572Z"
    }
   },
   "cell_type": "code",
   "source": [
    "def train_model(model, criterion, optimizer, train_loader, val_loader, num_epochs, device, interval_minutes=5):\n",
    "    model.to(device)\n",
    "    for epoch in range(num_epochs):\n",
    "        print(f\"Epoch {epoch+1}/{num_epochs}\")\n",
    "        model.train()\n",
    "        train_loss = 0.0\n",
    "        train_preds = []\n",
    "        train_targets = []\n",
    "        for inputs, targets, end_times in tqdm(train_loader, leave=False, desc=\"Train\", dynamic_ncols=True):\n",
    "            inputs, targets = inputs.to(device), targets.to(device)\n",
    "            # Generate future features for this batch\n",
    "            batch_end_times = pd.to_datetime(end_times)\n",
    "            future_sin, future_cos = get_future_time_features(batch_end_times, model.horizon, interval_minutes)\n",
    "            future_sin = torch.tensor(future_sin, dtype=torch.float32, device=inputs.device)\n",
    "            future_cos = torch.tensor(future_cos, dtype=torch.float32, device=inputs.device)\n",
    "            optimizer.zero_grad()\n",
    "            outputs = model(inputs, future_sin, future_cos)\n",
    "            loss = criterion(outputs.squeeze(-1), targets)\n",
    "            loss.backward()\n",
    "            optimizer.step()\n",
    "            train_loss += loss.item() * inputs.size(0)\n",
    "            train_preds.append(outputs.squeeze(-1).detach().cpu())\n",
    "            train_targets.append(targets.cpu())\n",
    "        avg_train_loss = train_loss / len(train_loader.dataset)\n",
    "        train_preds = torch.cat(train_preds).numpy()\n",
    "        train_targets = torch.cat(train_targets).numpy()\n",
    "        # Metrics\n",
    "        train_mae = np.mean(np.abs(train_targets - train_preds))\n",
    "        train_mape = np.mean(np.abs((train_targets - train_preds) / (train_targets + 1e-8)))\n",
    "        # --- Validation\n",
    "        model.eval()\n",
    "        val_loss = 0.0\n",
    "        val_preds = []\n",
    "        val_targets = []\n",
    "        with torch.no_grad():\n",
    "            for inputs, targets, end_times in tqdm(val_loader, leave=False, desc=\"Val\", dynamic_ncols=True):\n",
    "                inputs, targets = inputs.to(device), targets.to(device)\n",
    "                batch_end_times = pd.to_datetime(end_times)\n",
    "                future_sin, future_cos = get_future_time_features(batch_end_times, model.horizon, interval_minutes)\n",
    "                future_sin = torch.tensor(future_sin, dtype=torch.float32, device=inputs.device)\n",
    "                future_cos = torch.tensor(future_cos, dtype=torch.float32, device=inputs.device)\n",
    "                outputs = model(inputs, future_sin, future_cos)\n",
    "                loss = criterion(outputs.squeeze(-1), targets)\n",
    "                val_loss += loss.item() * inputs.size(0)\n",
    "                val_preds.append(outputs.squeeze(-1).cpu())\n",
    "                val_targets.append(targets.cpu())\n",
    "        avg_val_loss = val_loss / len(val_loader.dataset)\n",
    "        val_preds = torch.cat(val_preds).numpy()\n",
    "        val_targets = torch.cat(val_targets).numpy()\n",
    "        val_mae = np.mean(np.abs(val_targets - val_preds))\n",
    "        val_mape = np.mean(np.abs((val_targets - val_preds) / (val_targets + 1e-8)))\n",
    "        print(f\"Train Loss: {avg_train_loss:.6f} | Val Loss: {avg_val_loss:.6f}\")\n",
    "        print(f\"Train MAE: {train_mae:.4f} | MAPE: {train_mape:.2%} | Val MAE: {val_mae:.4f} | MAPE: {val_mape:.2%}\")\n",
    "\n",
    "\n",
    "def evaluate_model(model, data_loader, device, interval_minutes=5):\n",
    "    model.eval()\n",
    "    all_preds = []\n",
    "    all_targets = []\n",
    "\n",
    "    with torch.no_grad():\n",
    "        for inputs, targets, end_times in tqdm(data_loader, leave=False, desc=\"Eval\", dynamic_ncols=True):\n",
    "            inputs, targets = inputs.to(device), targets.to(device)\n",
    "            batch_end_times = pd.to_datetime(end_times)\n",
    "            future_sin, future_cos = get_future_time_features(batch_end_times, model.horizon, interval_minutes)\n",
    "            future_sin = torch.tensor(future_sin, dtype=torch.float32, device=inputs.device)\n",
    "            future_cos = torch.tensor(future_cos, dtype=torch.float32, device=inputs.device)\n",
    "            outputs = model(inputs, future_sin, future_cos)\n",
    "            all_preds.append(outputs.squeeze(-1).cpu())\n",
    "            all_targets.append(targets.cpu())\n",
    "\n",
    "    y_pred = torch.cat(all_preds, dim=0).numpy()   # shape: [n_samples, horizon]\n",
    "    y_true = torch.cat(all_targets, dim=0).numpy()\n",
    "    return y_true, y_pred"
   ],
   "id": "3254093f34431c4",
   "outputs": [],
   "execution_count": 140
  },
  {
   "metadata": {
    "ExecuteTime": {
     "end_time": "2025-06-01T12:38:22.117231Z",
     "start_time": "2025-06-01T12:38:22.055112Z"
    }
   },
   "cell_type": "code",
   "source": [
    "lookback = 64\n",
    "input_size = 3\n",
    "hidden_size = 256\n",
    "horizon = 24\n",
    "num_layers = 4\n",
    "lstm_dropout = 0.1\n",
    "final_dropout = 0.1\n",
    "lr = 1e-3\n",
    "num_epochs = 20\n",
    "interval_minutes = 5\n",
    "device = 'cuda' if torch.cuda.is_available() else 'cpu'"
   ],
   "id": "4824d7a73f5bae76",
   "outputs": [],
   "execution_count": 174
  },
  {
   "metadata": {
    "ExecuteTime": {
     "end_time": "2025-06-01T12:38:22.579641Z",
     "start_time": "2025-06-01T12:38:22.431913Z"
    }
   },
   "cell_type": "code",
   "source": [
    "df = pd.read_csv(r'../../data/processed/actual_load.csv', parse_dates=['timestamp'])\n",
    "df = correct_data(df).iloc[1:]\n",
    "if 'load_diff' in df.columns:\n",
    "    df = df.drop(columns=['load_diff'])\n",
    "df = add_time_features(df)\n",
    "train_df, val_df, test_df = split_train_test(df, train_frac=0.7, val_frac=0.15)\n",
    "train_df_t, scalers = transform_series(train_df, use_boxcox=True)\n",
    "val_df_t = apply_transformation(val_df, scalers, use_boxcox=True)\n",
    "test_df_t = apply_transformation(test_df, scalers, use_boxcox=True)\n",
    "\n",
    "X_train, y_train, end_times_train = create_sliding_windows_with_end_times(train_df_t, lookback, horizon)\n",
    "X_val, y_val, end_times_val = create_sliding_windows_with_end_times(val_df_t, lookback, horizon)\n",
    "X_test, y_test, end_times_test = create_sliding_windows_with_end_times(test_df_t, lookback, horizon)\n",
    "\n",
    "train_dataset = WindowedDataset(X_train, y_train, end_times_train)\n",
    "val_dataset = WindowedDataset(X_val, y_val, end_times_val)\n",
    "test_dataset = WindowedDataset(X_test, y_test, end_times_test)\n",
    "\n",
    "train_loader = DataLoader(train_dataset, batch_size=64, shuffle=True)\n",
    "val_loader = DataLoader(val_dataset, batch_size=64, shuffle=False)\n",
    "test_loader = DataLoader(test_dataset, batch_size=64, shuffle=False)\n"
   ],
   "id": "153b70b047bc4808",
   "outputs": [],
   "execution_count": 175
  },
  {
   "metadata": {
    "ExecuteTime": {
     "end_time": "2025-06-01T12:38:22.769623Z",
     "start_time": "2025-06-01T12:38:22.698888Z"
    }
   },
   "cell_type": "code",
   "source": [
    "model = Seq2SeqForecast(\n",
    "    input_size=input_size,\n",
    "    hidden_size=hidden_size,\n",
    "    num_layers=num_layers,\n",
    "    horizon=horizon,\n",
    "    lstm_dropout=lstm_dropout,\n",
    "    final_dropout=final_dropout,\n",
    ")\n",
    "criterion = nn.L1Loss()\n",
    "optimizer = optim.Adam(model.parameters(), lr=lr)"
   ],
   "id": "60e75e9d6fa3722b",
   "outputs": [],
   "execution_count": 176
  },
  {
   "metadata": {
    "ExecuteTime": {
     "end_time": "2025-06-01T12:42:12.209992Z",
     "start_time": "2025-06-01T12:38:23.061843Z"
    }
   },
   "cell_type": "code",
   "source": "train_model(model, criterion, optimizer, train_loader, val_loader, num_epochs, device, interval_minutes=interval_minutes)",
   "id": "ff9a6923c3766a07",
   "outputs": [
    {
     "name": "stdout",
     "output_type": "stream",
     "text": [
      "Epoch 1/20\n"
     ]
    },
    {
     "name": "stderr",
     "output_type": "stream",
     "text": [
      "                                                      \r"
     ]
    },
    {
     "name": "stdout",
     "output_type": "stream",
     "text": [
      "Train Loss: 0.299939 | Val Loss: 0.224168\n",
      "Train MAE: 0.2999 | MAPE: 149.21% | Val MAE: 0.2242 | MAPE: 45.84%\n",
      "Epoch 2/20\n"
     ]
    },
    {
     "name": "stderr",
     "output_type": "stream",
     "text": [
      "                                                      \r"
     ]
    },
    {
     "name": "stdout",
     "output_type": "stream",
     "text": [
      "Train Loss: 0.120663 | Val Loss: 0.125209\n",
      "Train MAE: 0.1207 | MAPE: 54.04% | Val MAE: 0.1252 | MAPE: 36.66%\n",
      "Epoch 3/20\n"
     ]
    },
    {
     "name": "stderr",
     "output_type": "stream",
     "text": [
      "                                                      \r"
     ]
    },
    {
     "name": "stdout",
     "output_type": "stream",
     "text": [
      "Train Loss: 0.105698 | Val Loss: 0.098263\n",
      "Train MAE: 0.1057 | MAPE: 44.82% | Val MAE: 0.0983 | MAPE: 38.92%\n",
      "Epoch 4/20\n"
     ]
    },
    {
     "name": "stderr",
     "output_type": "stream",
     "text": [
      "                                                      \r"
     ]
    },
    {
     "name": "stdout",
     "output_type": "stream",
     "text": [
      "Train Loss: 0.096403 | Val Loss: 0.098461\n",
      "Train MAE: 0.0964 | MAPE: 39.50% | Val MAE: 0.0985 | MAPE: 35.93%\n",
      "Epoch 5/20\n"
     ]
    },
    {
     "name": "stderr",
     "output_type": "stream",
     "text": [
      "                                                      \r"
     ]
    },
    {
     "name": "stdout",
     "output_type": "stream",
     "text": [
      "Train Loss: 0.094188 | Val Loss: 0.127145\n",
      "Train MAE: 0.0942 | MAPE: 38.20% | Val MAE: 0.1271 | MAPE: 40.90%\n",
      "Epoch 6/20\n"
     ]
    },
    {
     "name": "stderr",
     "output_type": "stream",
     "text": [
      "                                                      \r"
     ]
    },
    {
     "name": "stdout",
     "output_type": "stream",
     "text": [
      "Train Loss: 0.092221 | Val Loss: 0.151078\n",
      "Train MAE: 0.0922 | MAPE: 37.56% | Val MAE: 0.1511 | MAPE: 44.28%\n",
      "Epoch 7/20\n"
     ]
    },
    {
     "name": "stderr",
     "output_type": "stream",
     "text": [
      "                                                      \r"
     ]
    },
    {
     "name": "stdout",
     "output_type": "stream",
     "text": [
      "Train Loss: 0.087343 | Val Loss: 0.115033\n",
      "Train MAE: 0.0873 | MAPE: 36.37% | Val MAE: 0.1150 | MAPE: 38.42%\n",
      "Epoch 8/20\n"
     ]
    },
    {
     "name": "stderr",
     "output_type": "stream",
     "text": [
      "                                                      \r"
     ]
    },
    {
     "name": "stdout",
     "output_type": "stream",
     "text": [
      "Train Loss: 0.089080 | Val Loss: 0.119541\n",
      "Train MAE: 0.0891 | MAPE: 35.66% | Val MAE: 0.1195 | MAPE: 41.74%\n",
      "Epoch 9/20\n"
     ]
    },
    {
     "name": "stderr",
     "output_type": "stream",
     "text": [
      "                                                      \r"
     ]
    },
    {
     "name": "stdout",
     "output_type": "stream",
     "text": [
      "Train Loss: 0.083854 | Val Loss: 0.117017\n",
      "Train MAE: 0.0839 | MAPE: 33.30% | Val MAE: 0.1170 | MAPE: 43.42%\n",
      "Epoch 10/20\n"
     ]
    },
    {
     "name": "stderr",
     "output_type": "stream",
     "text": [
      "                                                      \r"
     ]
    },
    {
     "name": "stdout",
     "output_type": "stream",
     "text": [
      "Train Loss: 0.081084 | Val Loss: 0.141373\n",
      "Train MAE: 0.0811 | MAPE: 34.35% | Val MAE: 0.1414 | MAPE: 42.60%\n",
      "Epoch 11/20\n"
     ]
    },
    {
     "name": "stderr",
     "output_type": "stream",
     "text": [
      "                                                      \r"
     ]
    },
    {
     "name": "stdout",
     "output_type": "stream",
     "text": [
      "Train Loss: 0.081184 | Val Loss: 0.099149\n",
      "Train MAE: 0.0812 | MAPE: 34.13% | Val MAE: 0.0991 | MAPE: 34.67%\n",
      "Epoch 12/20\n"
     ]
    },
    {
     "name": "stderr",
     "output_type": "stream",
     "text": [
      "                                                      \r"
     ]
    },
    {
     "name": "stdout",
     "output_type": "stream",
     "text": [
      "Train Loss: 0.084506 | Val Loss: 0.121240\n",
      "Train MAE: 0.0845 | MAPE: 33.77% | Val MAE: 0.1212 | MAPE: 41.85%\n",
      "Epoch 13/20\n"
     ]
    },
    {
     "name": "stderr",
     "output_type": "stream",
     "text": [
      "                                                      \r"
     ]
    },
    {
     "name": "stdout",
     "output_type": "stream",
     "text": [
      "Train Loss: 0.083205 | Val Loss: 0.110617\n",
      "Train MAE: 0.0832 | MAPE: 32.70% | Val MAE: 0.1106 | MAPE: 41.51%\n",
      "Epoch 14/20\n"
     ]
    },
    {
     "name": "stderr",
     "output_type": "stream",
     "text": [
      "                                                      \r"
     ]
    },
    {
     "name": "stdout",
     "output_type": "stream",
     "text": [
      "Train Loss: 0.084204 | Val Loss: 0.104704\n",
      "Train MAE: 0.0842 | MAPE: 33.72% | Val MAE: 0.1047 | MAPE: 40.36%\n",
      "Epoch 15/20\n"
     ]
    },
    {
     "name": "stderr",
     "output_type": "stream",
     "text": [
      "                                                      \r"
     ]
    },
    {
     "name": "stdout",
     "output_type": "stream",
     "text": [
      "Train Loss: 0.073414 | Val Loss: 0.108222\n",
      "Train MAE: 0.0734 | MAPE: 29.80% | Val MAE: 0.1082 | MAPE: 32.37%\n",
      "Epoch 16/20\n"
     ]
    },
    {
     "name": "stderr",
     "output_type": "stream",
     "text": [
      "                                                      \r"
     ]
    },
    {
     "name": "stdout",
     "output_type": "stream",
     "text": [
      "Train Loss: 0.072935 | Val Loss: 0.108671\n",
      "Train MAE: 0.0729 | MAPE: 30.93% | Val MAE: 0.1087 | MAPE: 39.78%\n",
      "Epoch 17/20\n"
     ]
    },
    {
     "name": "stderr",
     "output_type": "stream",
     "text": [
      "                                                      \r"
     ]
    },
    {
     "name": "stdout",
     "output_type": "stream",
     "text": [
      "Train Loss: 0.072473 | Val Loss: 0.113170\n",
      "Train MAE: 0.0725 | MAPE: 29.77% | Val MAE: 0.1132 | MAPE: 35.47%\n",
      "Epoch 18/20\n"
     ]
    },
    {
     "name": "stderr",
     "output_type": "stream",
     "text": [
      "                                                      \r"
     ]
    },
    {
     "name": "stdout",
     "output_type": "stream",
     "text": [
      "Train Loss: 0.068624 | Val Loss: 0.093976\n",
      "Train MAE: 0.0686 | MAPE: 29.49% | Val MAE: 0.0940 | MAPE: 27.57%\n",
      "Epoch 19/20\n"
     ]
    },
    {
     "name": "stderr",
     "output_type": "stream",
     "text": [
      "                                                      \r"
     ]
    },
    {
     "name": "stdout",
     "output_type": "stream",
     "text": [
      "Train Loss: 0.069828 | Val Loss: 0.116812\n",
      "Train MAE: 0.0698 | MAPE: 28.90% | Val MAE: 0.1168 | MAPE: 41.59%\n",
      "Epoch 20/20\n"
     ]
    },
    {
     "name": "stderr",
     "output_type": "stream",
     "text": [
      "                                                      "
     ]
    },
    {
     "name": "stdout",
     "output_type": "stream",
     "text": [
      "Train Loss: 0.072576 | Val Loss: 0.114103\n",
      "Train MAE: 0.0726 | MAPE: 31.31% | Val MAE: 0.1141 | MAPE: 34.67%\n"
     ]
    },
    {
     "name": "stderr",
     "output_type": "stream",
     "text": [
      "\r"
     ]
    }
   ],
   "execution_count": 177
  },
  {
   "metadata": {
    "ExecuteTime": {
     "end_time": "2025-06-01T12:42:13.583206Z",
     "start_time": "2025-06-01T12:42:12.401206Z"
    }
   },
   "cell_type": "code",
   "source": [
    "y_true, y_pred = evaluate_model(model, test_loader, device)\n",
    "results = compute_forecast_metrics(y_true, y_pred)\n",
    "results"
   ],
   "id": "226b0d80e6a40284",
   "outputs": [
    {
     "name": "stderr",
     "output_type": "stream",
     "text": [
      "                                                     \r"
     ]
    },
    {
     "data": {
      "text/plain": [
       "    horizon       MAE      MAPE\n",
       "0         1  0.179841  0.122380\n",
       "1         2  0.182795  0.134289\n",
       "2         3  0.188124  0.148930\n",
       "3         4  0.195661  0.165753\n",
       "4         5  0.203332  0.177970\n",
       "5         6  0.210818  0.198258\n",
       "6         7  0.218149  0.218950\n",
       "7         8  0.225417  0.235666\n",
       "8         9  0.232900  0.257764\n",
       "9        10  0.240864  0.285217\n",
       "10       11  0.249669  0.313369\n",
       "11       12  0.258900  0.355431\n",
       "12       13  0.268157  0.397639\n",
       "13       14  0.277300  0.439346\n",
       "14       15  0.286397  0.477011\n",
       "15       16  0.295272  0.510972\n",
       "16       17  0.304139  0.535433\n",
       "17       18  0.313052  0.562702\n",
       "18       19  0.321718  0.587114\n",
       "19       20  0.330141  0.604734\n",
       "20       21  0.338428  0.626192\n",
       "21       22  0.346735  0.661887\n",
       "22       23  0.354960  0.697546\n",
       "23       24  0.363548  0.738319\n",
       "24  overall  0.266097  0.393870"
      ],
      "text/html": [
       "<div>\n",
       "<style scoped>\n",
       "    .dataframe tbody tr th:only-of-type {\n",
       "        vertical-align: middle;\n",
       "    }\n",
       "\n",
       "    .dataframe tbody tr th {\n",
       "        vertical-align: top;\n",
       "    }\n",
       "\n",
       "    .dataframe thead th {\n",
       "        text-align: right;\n",
       "    }\n",
       "</style>\n",
       "<table border=\"1\" class=\"dataframe\">\n",
       "  <thead>\n",
       "    <tr style=\"text-align: right;\">\n",
       "      <th></th>\n",
       "      <th>horizon</th>\n",
       "      <th>MAE</th>\n",
       "      <th>MAPE</th>\n",
       "    </tr>\n",
       "  </thead>\n",
       "  <tbody>\n",
       "    <tr>\n",
       "      <th>0</th>\n",
       "      <td>1</td>\n",
       "      <td>0.179841</td>\n",
       "      <td>0.122380</td>\n",
       "    </tr>\n",
       "    <tr>\n",
       "      <th>1</th>\n",
       "      <td>2</td>\n",
       "      <td>0.182795</td>\n",
       "      <td>0.134289</td>\n",
       "    </tr>\n",
       "    <tr>\n",
       "      <th>2</th>\n",
       "      <td>3</td>\n",
       "      <td>0.188124</td>\n",
       "      <td>0.148930</td>\n",
       "    </tr>\n",
       "    <tr>\n",
       "      <th>3</th>\n",
       "      <td>4</td>\n",
       "      <td>0.195661</td>\n",
       "      <td>0.165753</td>\n",
       "    </tr>\n",
       "    <tr>\n",
       "      <th>4</th>\n",
       "      <td>5</td>\n",
       "      <td>0.203332</td>\n",
       "      <td>0.177970</td>\n",
       "    </tr>\n",
       "    <tr>\n",
       "      <th>5</th>\n",
       "      <td>6</td>\n",
       "      <td>0.210818</td>\n",
       "      <td>0.198258</td>\n",
       "    </tr>\n",
       "    <tr>\n",
       "      <th>6</th>\n",
       "      <td>7</td>\n",
       "      <td>0.218149</td>\n",
       "      <td>0.218950</td>\n",
       "    </tr>\n",
       "    <tr>\n",
       "      <th>7</th>\n",
       "      <td>8</td>\n",
       "      <td>0.225417</td>\n",
       "      <td>0.235666</td>\n",
       "    </tr>\n",
       "    <tr>\n",
       "      <th>8</th>\n",
       "      <td>9</td>\n",
       "      <td>0.232900</td>\n",
       "      <td>0.257764</td>\n",
       "    </tr>\n",
       "    <tr>\n",
       "      <th>9</th>\n",
       "      <td>10</td>\n",
       "      <td>0.240864</td>\n",
       "      <td>0.285217</td>\n",
       "    </tr>\n",
       "    <tr>\n",
       "      <th>10</th>\n",
       "      <td>11</td>\n",
       "      <td>0.249669</td>\n",
       "      <td>0.313369</td>\n",
       "    </tr>\n",
       "    <tr>\n",
       "      <th>11</th>\n",
       "      <td>12</td>\n",
       "      <td>0.258900</td>\n",
       "      <td>0.355431</td>\n",
       "    </tr>\n",
       "    <tr>\n",
       "      <th>12</th>\n",
       "      <td>13</td>\n",
       "      <td>0.268157</td>\n",
       "      <td>0.397639</td>\n",
       "    </tr>\n",
       "    <tr>\n",
       "      <th>13</th>\n",
       "      <td>14</td>\n",
       "      <td>0.277300</td>\n",
       "      <td>0.439346</td>\n",
       "    </tr>\n",
       "    <tr>\n",
       "      <th>14</th>\n",
       "      <td>15</td>\n",
       "      <td>0.286397</td>\n",
       "      <td>0.477011</td>\n",
       "    </tr>\n",
       "    <tr>\n",
       "      <th>15</th>\n",
       "      <td>16</td>\n",
       "      <td>0.295272</td>\n",
       "      <td>0.510972</td>\n",
       "    </tr>\n",
       "    <tr>\n",
       "      <th>16</th>\n",
       "      <td>17</td>\n",
       "      <td>0.304139</td>\n",
       "      <td>0.535433</td>\n",
       "    </tr>\n",
       "    <tr>\n",
       "      <th>17</th>\n",
       "      <td>18</td>\n",
       "      <td>0.313052</td>\n",
       "      <td>0.562702</td>\n",
       "    </tr>\n",
       "    <tr>\n",
       "      <th>18</th>\n",
       "      <td>19</td>\n",
       "      <td>0.321718</td>\n",
       "      <td>0.587114</td>\n",
       "    </tr>\n",
       "    <tr>\n",
       "      <th>19</th>\n",
       "      <td>20</td>\n",
       "      <td>0.330141</td>\n",
       "      <td>0.604734</td>\n",
       "    </tr>\n",
       "    <tr>\n",
       "      <th>20</th>\n",
       "      <td>21</td>\n",
       "      <td>0.338428</td>\n",
       "      <td>0.626192</td>\n",
       "    </tr>\n",
       "    <tr>\n",
       "      <th>21</th>\n",
       "      <td>22</td>\n",
       "      <td>0.346735</td>\n",
       "      <td>0.661887</td>\n",
       "    </tr>\n",
       "    <tr>\n",
       "      <th>22</th>\n",
       "      <td>23</td>\n",
       "      <td>0.354960</td>\n",
       "      <td>0.697546</td>\n",
       "    </tr>\n",
       "    <tr>\n",
       "      <th>23</th>\n",
       "      <td>24</td>\n",
       "      <td>0.363548</td>\n",
       "      <td>0.738319</td>\n",
       "    </tr>\n",
       "    <tr>\n",
       "      <th>24</th>\n",
       "      <td>overall</td>\n",
       "      <td>0.266097</td>\n",
       "      <td>0.393870</td>\n",
       "    </tr>\n",
       "  </tbody>\n",
       "</table>\n",
       "</div>"
      ]
     },
     "execution_count": 178,
     "metadata": {},
     "output_type": "execute_result"
    }
   ],
   "execution_count": 178
  },
  {
   "metadata": {
    "ExecuteTime": {
     "end_time": "2025-06-01T12:42:13.987763Z",
     "start_time": "2025-06-01T12:42:13.830339Z"
    }
   },
   "cell_type": "code",
   "source": [
    "y_true_inv = inverse_transform(y_true, scalers['load']['scaler'], scalers['load'].get('lambda'))\n",
    "y_pred_inv = inverse_transform(y_pred, scalers['load']['scaler'], scalers['load'].get('lambda'))\n",
    "metrics_df = compute_forecast_metrics(y_true_inv, y_pred_inv)\n",
    "metrics_df"
   ],
   "id": "92b3f77e61dcb3ca",
   "outputs": [
    {
     "data": {
      "text/plain": [
       "    horizon          MAE      MAPE\n",
       "0         1  1503.144532  0.014779\n",
       "1         2  1528.624124  0.015184\n",
       "2         3  1573.486042  0.015676\n",
       "3         4  1636.905146  0.016367\n",
       "4         5  1701.490332  0.017076\n",
       "5         6  1764.574095  0.017781\n",
       "6         7  1826.416588  0.018483\n",
       "7         8  1887.764938  0.019185\n",
       "8         9  1950.985508  0.019918\n",
       "9        10  2018.313883  0.020706\n",
       "10       11  2092.775890  0.021583\n",
       "11       12  2170.871763  0.022508\n",
       "12       13  2249.225033  0.023441\n",
       "13       14  2326.608364  0.024361\n",
       "14       15  2403.601227  0.025277\n",
       "15       16  2478.712305  0.026168\n",
       "16       17  2553.760960  0.027057\n",
       "17       18  2629.182349  0.027946\n",
       "18       19  2702.510685  0.028811\n",
       "19       20  2773.796476  0.029651\n",
       "20       21  2843.928787  0.030475\n",
       "21       22  2914.230925  0.031302\n",
       "22       23  2983.851602  0.032120\n",
       "23       24  3056.556713  0.032976\n",
       "24  overall  2232.138261  0.023285"
      ],
      "text/html": [
       "<div>\n",
       "<style scoped>\n",
       "    .dataframe tbody tr th:only-of-type {\n",
       "        vertical-align: middle;\n",
       "    }\n",
       "\n",
       "    .dataframe tbody tr th {\n",
       "        vertical-align: top;\n",
       "    }\n",
       "\n",
       "    .dataframe thead th {\n",
       "        text-align: right;\n",
       "    }\n",
       "</style>\n",
       "<table border=\"1\" class=\"dataframe\">\n",
       "  <thead>\n",
       "    <tr style=\"text-align: right;\">\n",
       "      <th></th>\n",
       "      <th>horizon</th>\n",
       "      <th>MAE</th>\n",
       "      <th>MAPE</th>\n",
       "    </tr>\n",
       "  </thead>\n",
       "  <tbody>\n",
       "    <tr>\n",
       "      <th>0</th>\n",
       "      <td>1</td>\n",
       "      <td>1503.144532</td>\n",
       "      <td>0.014779</td>\n",
       "    </tr>\n",
       "    <tr>\n",
       "      <th>1</th>\n",
       "      <td>2</td>\n",
       "      <td>1528.624124</td>\n",
       "      <td>0.015184</td>\n",
       "    </tr>\n",
       "    <tr>\n",
       "      <th>2</th>\n",
       "      <td>3</td>\n",
       "      <td>1573.486042</td>\n",
       "      <td>0.015676</td>\n",
       "    </tr>\n",
       "    <tr>\n",
       "      <th>3</th>\n",
       "      <td>4</td>\n",
       "      <td>1636.905146</td>\n",
       "      <td>0.016367</td>\n",
       "    </tr>\n",
       "    <tr>\n",
       "      <th>4</th>\n",
       "      <td>5</td>\n",
       "      <td>1701.490332</td>\n",
       "      <td>0.017076</td>\n",
       "    </tr>\n",
       "    <tr>\n",
       "      <th>5</th>\n",
       "      <td>6</td>\n",
       "      <td>1764.574095</td>\n",
       "      <td>0.017781</td>\n",
       "    </tr>\n",
       "    <tr>\n",
       "      <th>6</th>\n",
       "      <td>7</td>\n",
       "      <td>1826.416588</td>\n",
       "      <td>0.018483</td>\n",
       "    </tr>\n",
       "    <tr>\n",
       "      <th>7</th>\n",
       "      <td>8</td>\n",
       "      <td>1887.764938</td>\n",
       "      <td>0.019185</td>\n",
       "    </tr>\n",
       "    <tr>\n",
       "      <th>8</th>\n",
       "      <td>9</td>\n",
       "      <td>1950.985508</td>\n",
       "      <td>0.019918</td>\n",
       "    </tr>\n",
       "    <tr>\n",
       "      <th>9</th>\n",
       "      <td>10</td>\n",
       "      <td>2018.313883</td>\n",
       "      <td>0.020706</td>\n",
       "    </tr>\n",
       "    <tr>\n",
       "      <th>10</th>\n",
       "      <td>11</td>\n",
       "      <td>2092.775890</td>\n",
       "      <td>0.021583</td>\n",
       "    </tr>\n",
       "    <tr>\n",
       "      <th>11</th>\n",
       "      <td>12</td>\n",
       "      <td>2170.871763</td>\n",
       "      <td>0.022508</td>\n",
       "    </tr>\n",
       "    <tr>\n",
       "      <th>12</th>\n",
       "      <td>13</td>\n",
       "      <td>2249.225033</td>\n",
       "      <td>0.023441</td>\n",
       "    </tr>\n",
       "    <tr>\n",
       "      <th>13</th>\n",
       "      <td>14</td>\n",
       "      <td>2326.608364</td>\n",
       "      <td>0.024361</td>\n",
       "    </tr>\n",
       "    <tr>\n",
       "      <th>14</th>\n",
       "      <td>15</td>\n",
       "      <td>2403.601227</td>\n",
       "      <td>0.025277</td>\n",
       "    </tr>\n",
       "    <tr>\n",
       "      <th>15</th>\n",
       "      <td>16</td>\n",
       "      <td>2478.712305</td>\n",
       "      <td>0.026168</td>\n",
       "    </tr>\n",
       "    <tr>\n",
       "      <th>16</th>\n",
       "      <td>17</td>\n",
       "      <td>2553.760960</td>\n",
       "      <td>0.027057</td>\n",
       "    </tr>\n",
       "    <tr>\n",
       "      <th>17</th>\n",
       "      <td>18</td>\n",
       "      <td>2629.182349</td>\n",
       "      <td>0.027946</td>\n",
       "    </tr>\n",
       "    <tr>\n",
       "      <th>18</th>\n",
       "      <td>19</td>\n",
       "      <td>2702.510685</td>\n",
       "      <td>0.028811</td>\n",
       "    </tr>\n",
       "    <tr>\n",
       "      <th>19</th>\n",
       "      <td>20</td>\n",
       "      <td>2773.796476</td>\n",
       "      <td>0.029651</td>\n",
       "    </tr>\n",
       "    <tr>\n",
       "      <th>20</th>\n",
       "      <td>21</td>\n",
       "      <td>2843.928787</td>\n",
       "      <td>0.030475</td>\n",
       "    </tr>\n",
       "    <tr>\n",
       "      <th>21</th>\n",
       "      <td>22</td>\n",
       "      <td>2914.230925</td>\n",
       "      <td>0.031302</td>\n",
       "    </tr>\n",
       "    <tr>\n",
       "      <th>22</th>\n",
       "      <td>23</td>\n",
       "      <td>2983.851602</td>\n",
       "      <td>0.032120</td>\n",
       "    </tr>\n",
       "    <tr>\n",
       "      <th>23</th>\n",
       "      <td>24</td>\n",
       "      <td>3056.556713</td>\n",
       "      <td>0.032976</td>\n",
       "    </tr>\n",
       "    <tr>\n",
       "      <th>24</th>\n",
       "      <td>overall</td>\n",
       "      <td>2232.138261</td>\n",
       "      <td>0.023285</td>\n",
       "    </tr>\n",
       "  </tbody>\n",
       "</table>\n",
       "</div>"
      ]
     },
     "execution_count": 179,
     "metadata": {},
     "output_type": "execute_result"
    }
   ],
   "execution_count": 179
  },
  {
   "metadata": {
    "ExecuteTime": {
     "end_time": "2025-06-01T12:42:20.407701Z",
     "start_time": "2025-06-01T12:42:20.078320Z"
    }
   },
   "cell_type": "code",
   "source": "plot_test_vs_pred_time(test_df, y_true, y_pred, horizons=[1, 3, 5])",
   "id": "5ca59043058f6fb6",
   "outputs": [
    {
     "data": {
      "text/plain": [
       "<Figure size 1200x400 with 1 Axes>"
      ],
      "image/png": "[encoded data removed]"
     },
     "metadata": {},
     "output_type": "display_data"
    },
    {
     "data": {
      "text/plain": [
       "<Figure size 1200x400 with 1 Axes>"
      ],
      "image/png": "[encoded data removed]"
     },
     "metadata": {},
     "output_type": "display_data"
    },
    {
     "data": {
      "text/plain": [
       "<Figure size 1200x400 with 1 Axes>"
      ],
      "image/png": "[encoded data removed]"
     },
     "metadata": {},
     "output_type": "display_data"
    }
   ],
   "execution_count": 181
  },
  {
   "metadata": {
    "ExecuteTime": {
     "end_time": "2025-06-01T12:32:12.840204Z",
     "start_time": "2025-06-01T12:32:12.836136Z"
    }
   },
   "cell_type": "code",
   "source": "",
   "id": "fe429fe2097e1c2c",
   "outputs": [],
   "execution_count": null
  },
  {
   "metadata": {},
   "cell_type": "code",
   "outputs": [],
   "execution_count": null,
   "source": "",
   "id": "f8fc5d4931ad3f78"
  }
 ],
 "metadata": {
  "kernelspec": {
   "display_name": "Python 3",
   "language": "python",
   "name": "python3"
  },
  "language_info": {
   "codemirror_mode": {
    "name": "ipython",
    "version": 2
   },
   "file_extension": ".py",
   "mimetype": "text/x-python",
   "name": "python",
   "nbconvert_exporter": "python",
   "pygments_lexer": "ipython2",
   "version": "2.7.6"
  }
 },
 "nbformat": 4,
 "nbformat_minor": 5
}
