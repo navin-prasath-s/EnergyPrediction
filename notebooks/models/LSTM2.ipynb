{
 "cells": [
  {
   "cell_type": "code",
   "id": "initial_id",
   "metadata": {
    "collapsed": true,
    "ExecuteTime": {
     "end_time": "2025-05-29T12:04:41.343267Z",
     "start_time": "2025-05-29T12:04:41.286778Z"
    }
   },
   "source": [
    "%load_ext autoreload\n",
    "%autoreload 2\n",
    "\n",
    "import pandas as pd\n",
    "import numpy as np\n",
    "import matplotlib.pyplot as plt\n",
    "\n",
    "from scipy.stats import boxcox\n",
    "from scipy.special import inv_boxcox\n",
    "\n",
    "from sklearn.preprocessing import StandardScaler\n",
    "from sklearn.metrics import mean_absolute_error, mean_squared_error, mean_absolute_percentage_error\n",
    "from sklearn.model_selection import TimeSeriesSplit\n",
    "\n",
    "import torch\n",
    "import torch.nn as nn\n",
    "import torch.optim as optim\n",
    "from torch.utils.data import DataLoader, TensorDataset\n",
    "\n",
    "from tqdm import tqdm\n",
    "\n",
    "device = torch.device(\"cuda\" if torch.cuda.is_available() else \"cpu\")\n",
    "print(f\"Using device: {device}\")"
   ],
   "outputs": [
    {
     "name": "stdout",
     "output_type": "stream",
     "text": [
      "The autoreload extension is already loaded. To reload it, use:\n",
      "  %reload_ext autoreload\n",
      "Using device: cuda\n"
     ]
    }
   ],
   "execution_count": 109
  },
  {
   "metadata": {
    "ExecuteTime": {
     "end_time": "2025-05-29T12:37:08.338605Z",
     "start_time": "2025-05-29T12:37:08.240379Z"
    }
   },
   "cell_type": "code",
   "source": [
    "def correct_data(df):\n",
    "    \"\"\"\n",
    "    Corrects the data by removing outliers and interpolating missing values.\n",
    "\n",
    "    Parameters:\n",
    "    - df: pandas DataFrame with at least two columns: 'timestamp' and 'load'.\n",
    "\n",
    "    Returns:\n",
    "    - df: corrected pandas DataFrame.\n",
    "    \"\"\"\n",
    "    # Remove outliers\n",
    "    df = df.copy()\n",
    "    df['load_diff'] = df['load'].diff(periods=1)\n",
    "    outlier_idx = df['load_diff'].abs().idxmax()\n",
    "    df.loc[outlier_idx-2:outlier_idx+2, 'load'] = None\n",
    "    df['load'] = df['load'].interpolate(method='linear')\n",
    "\n",
    "    df['timestamp'] = pd.to_datetime(df['timestamp'])\n",
    "    df = df.set_index('timestamp')\n",
    "    df.index = df.index.round('5min')\n",
    "    df = df.asfreq('5min')\n",
    "    df = df.interpolate()\n",
    "\n",
    "    return df\n",
    "\n",
    "\n",
    "def add_time_features(df, interval_minutes=5):\n",
    "    \"\"\"\n",
    "    Adds sin_time and cos_time features based on the time of day, assuming a fixed interval in minutes.\n",
    "\n",
    "    Parameters:\n",
    "        df (pd.DataFrame): DataFrame with a datetime index.\n",
    "        interval_minutes (int): Time interval between observations in minutes (default is 5).\n",
    "\n",
    "    Returns:\n",
    "        pd.DataFrame: DataFrame with 'sin_time' and 'cos_time' columns added.\n",
    "    \"\"\"\n",
    "    df = df.copy()\n",
    "\n",
    "    minutes_in_day = 24 * 60\n",
    "    steps_per_day = minutes_in_day // interval_minutes\n",
    "\n",
    "    time_of_day = (df.index.hour * 60 + df.index.minute) / interval_minutes\n",
    "    angle = 2 * np.pi * time_of_day / steps_per_day\n",
    "\n",
    "    df['sin_time'] = np.sin(angle)\n",
    "    df['cos_time'] = np.cos(angle)\n",
    "\n",
    "    return df\n",
    "\n",
    "def split_train_test(df, train_frac=0.7, val_frac=0.15):\n",
    "    \"\"\"\n",
    "    Splits the DataFrame into train, validation, and test sets by index (time-based).\n",
    "\n",
    "    Parameters:\n",
    "        df (pd.DataFrame): The full dataset.\n",
    "        train_frac (float): Fraction of data to use for training.\n",
    "        val_frac (float): Fraction of data to use for validation.\n",
    "\n",
    "    Returns:\n",
    "        Tuple[pd.DataFrame, pd.DataFrame, pd.DataFrame]: (train_df, val_df, test_df)\n",
    "    \"\"\"\n",
    "    n = len(df)\n",
    "    train_end = int(n * train_frac)\n",
    "    val_end = train_end + int(n * val_frac)\n",
    "\n",
    "    train_df = df.iloc[:train_end]\n",
    "    val_df = df.iloc[train_end:val_end]\n",
    "    test_df = df.iloc[val_end:]\n",
    "\n",
    "    return train_df, val_df, test_df\n",
    "\n",
    "\n",
    "\n",
    "def transform_series(df, use_boxcox=True):\n",
    "    \"\"\"\n",
    "    Applies Box-Cox (optional) and StandardScaler to the 'load' column.\n",
    "\n",
    "    Parameters:\n",
    "        df (pd.DataFrame): DataFrame containing a 'load' column.\n",
    "        use_boxcox (bool): Whether to apply Box-Cox transform before scaling.\n",
    "\n",
    "    Returns:\n",
    "        Tuple[pd.DataFrame, dict]: Transformed DataFrame, and scalers dict with Box-Cox lambda and StandardScaler.\n",
    "    \"\"\"\n",
    "    df = df.copy()\n",
    "    scalers = {}\n",
    "\n",
    "    series = df['load'].values\n",
    "    scalers['load'] = {}\n",
    "\n",
    "    if use_boxcox:\n",
    "        series, lam = boxcox(series)\n",
    "        scalers['load']['lambda'] = lam\n",
    "\n",
    "    scaler = StandardScaler()\n",
    "    df['load'] = scaler.fit_transform(series.reshape(-1, 1)).flatten()\n",
    "    scalers['load']['scaler'] = scaler\n",
    "\n",
    "    return df, scalers\n",
    "\n",
    "def apply_transformation(df, scalers, use_boxcox=True):\n",
    "    \"\"\"\n",
    "    Applies previously fitted Box-Cox and StandardScaler to 'load' column in a new DataFrame.\n",
    "\n",
    "    Parameters:\n",
    "        df (pd.DataFrame): DataFrame with 'load' column to transform.\n",
    "        scalers (dict): Dictionary with 'lambda' and 'scaler' from transform_series.\n",
    "        use_boxcox (bool): Should match the flag used during training.\n",
    "\n",
    "    Returns:\n",
    "        pd.DataFrame: Transformed DataFrame.\n",
    "    \"\"\"\n",
    "    df = df.copy()\n",
    "    series = df['load'].values\n",
    "\n",
    "    if use_boxcox:\n",
    "        lam = scalers['load']['lambda']\n",
    "        series = boxcox(series, lmbda=lam)\n",
    "\n",
    "    scaler = scalers['load']['scaler']\n",
    "    df['load'] = scaler.transform(series.reshape(-1, 1)).flatten()\n",
    "\n",
    "\n",
    "    return df\n",
    "\n",
    "from scipy.special import inv_boxcox\n",
    "\n",
    "def inverse_transform(series, scaler, boxcox_lambda=None):\n",
    "    \"\"\"\n",
    "    Inverts StandardScaler (and Box-Cox if lambda is provided) on a 2D series.\n",
    "\n",
    "    Parameters:\n",
    "        series (ndarray): Shape [n_samples, horizon]\n",
    "        scaler (StandardScaler): fitted scaler object\n",
    "        boxcox_lambda (float or None): lambda used in boxcox (optional)\n",
    "\n",
    "    Returns:\n",
    "        ndarray: Series restored to original scale\n",
    "    \"\"\"\n",
    "    # Step 1: inverse standard scaling\n",
    "    reshaped = series.reshape(-1, 1)\n",
    "    unscaled = scaler.inverse_transform(reshaped).reshape(series.shape)\n",
    "\n",
    "    # Step 2: inverse box-cox if needed\n",
    "    if boxcox_lambda is not None:\n",
    "        unscaled = inv_boxcox(unscaled, boxcox_lambda)\n",
    "\n",
    "    return unscaled\n",
    "\n",
    "\n",
    "\n",
    "def create_sliding_windows(df, lookback, horizon):\n",
    "    X, y = [], []\n",
    "    data = df[['load', 'sin_time', 'cos_time']].values\n",
    "\n",
    "    for i in range(len(data) - lookback - horizon + 1):\n",
    "        x_window = data[i:i+lookback]\n",
    "        y_window = data[i+lookback:i+lookback+horizon, 0]  # only 'load' as target\n",
    "\n",
    "        X.append(x_window)\n",
    "        y.append(y_window)\n",
    "\n",
    "    X = np.array(X)  # shape: [num_samples, lookback, features]\n",
    "    y = np.array(y)  # shape: [num_samples, horizon]\n",
    "\n",
    "    return torch.tensor(X, dtype=torch.float32), torch.tensor(y, dtype=torch.float32)\n",
    "\n",
    "\n",
    "def compute_forecast_metrics(y_true, y_pred):\n",
    "    \"\"\"\n",
    "    Computes MAE and MAPE per forecast horizon and returns a DataFrame summary.\n",
    "\n",
    "    Parameters:\n",
    "        y_true (Tensor or ndarray): Shape [num_samples, horizon]\n",
    "        y_pred (Tensor or ndarray): Same shape as y_true\n",
    "\n",
    "    Returns:\n",
    "        pd.DataFrame: DataFrame with MAE, MAPE per horizon, and overall metrics\n",
    "    \"\"\"\n",
    "    if hasattr(y_true, 'detach'):  # torch.Tensor\n",
    "        y_true = y_true.detach().cpu().numpy()\n",
    "    if hasattr(y_pred, 'detach'):\n",
    "        y_pred = y_pred.detach().cpu().numpy()\n",
    "\n",
    "    horizon = y_true.shape[1]\n",
    "    rows = []\n",
    "\n",
    "    for i in range(horizon):\n",
    "        mae = mean_absolute_error(y_true[:, i], y_pred[:, i])\n",
    "        mape = mean_absolute_percentage_error(y_true[:, i], y_pred[:, i])\n",
    "        rows.append({'horizon': i + 1, 'MAE': mae, 'MAPE': mape})\n",
    "\n",
    "    df = pd.DataFrame(rows)\n",
    "    overall = pd.DataFrame([{\n",
    "        'horizon': 'overall',\n",
    "        'MAE': df['MAE'].mean(),\n",
    "        'MAPE': df['MAPE'].mean()\n",
    "    }])\n",
    "\n",
    "    return pd.concat([df, overall], ignore_index=True)"
   ],
   "id": "778cbf79f8de0045",
   "outputs": [],
   "execution_count": 160
  },
  {
   "metadata": {
    "ExecuteTime": {
     "end_time": "2025-05-29T14:01:13.262184Z",
     "start_time": "2025-05-29T14:01:13.196800Z"
    }
   },
   "cell_type": "code",
   "source": [
    "def plot_test_vs_pred_time(test_df, y_true_inv, y_pred_inv, horizons=None, title=\"Forecast vs Actual\"):\n",
    "    \"\"\"\n",
    "    Plots actual and predicted values over time for selected forecast horizons.\n",
    "\n",
    "    Parameters:\n",
    "        test_df (pd.DataFrame): Original test DataFrame with DateTime index\n",
    "        y_true_inv (ndarray): [num_samples, horizon] inverse-transformed true values\n",
    "        y_pred_inv (ndarray): same shape\n",
    "        horizons (int or list[int] or None):\n",
    "            - int: plot only that horizon (1-based index)\n",
    "            - list[int]: plot each selected horizon separately\n",
    "            - None: plot all horizons\n",
    "        title (str): Plot title\n",
    "    \"\"\"\n",
    "    if hasattr(y_true_inv, \"detach\"): y_true_inv = y_true_inv.detach().cpu().numpy()\n",
    "    if hasattr(y_pred_inv, \"detach\"): y_pred_inv = y_pred_inv.detach().cpu().numpy()\n",
    "\n",
    "    num_samples, max_h = y_true_inv.shape\n",
    "\n",
    "    # Normalize horizons input to 0-based list\n",
    "    if horizons is None:\n",
    "        selected_horizons = list(range(max_h))\n",
    "    elif isinstance(horizons, int):\n",
    "        selected_horizons = [horizons - 1]\n",
    "    else:\n",
    "        selected_horizons = [h - 1 for h in horizons]\n",
    "\n",
    "    for h in selected_horizons:\n",
    "        # Align timestamp index to each horizon\n",
    "        aligned_index = test_df.index[-(num_samples + h):-h or None]\n",
    "\n",
    "        # Ensure the slice fits\n",
    "        if len(aligned_index) != num_samples:\n",
    "            raise ValueError(f\"Mismatch for horizon {h+1}: {len(aligned_index)} timestamps vs {num_samples} predictions\")\n",
    "\n",
    "        plt.figure(figsize=(12, 4))\n",
    "        plt.plot(aligned_index, y_true_inv[:, h], label='Actual', linewidth=2)\n",
    "        plt.plot(aligned_index, y_pred_inv[:, h], label='Predicted', linewidth=2, linestyle='--')\n",
    "        plt.title(f\"{title} (Horizon {h + 1})\")\n",
    "        plt.xlabel(\"Time\")\n",
    "        plt.ylabel(\"Load\")\n",
    "        plt.legend()\n",
    "        plt.grid(True)\n",
    "        plt.tight_layout()\n",
    "        plt.show()\n"
   ],
   "id": "d99118dc4d455bf4",
   "outputs": [],
   "execution_count": 240
  },
  {
   "metadata": {
    "ExecuteTime": {
     "end_time": "2025-05-29T13:15:35.631152Z",
     "start_time": "2025-05-29T13:15:35.573105Z"
    }
   },
   "cell_type": "code",
   "source": [
    "# df = pd.read_csv(r'../../data/processed/actual_load.csv', parse_dates=['timestamp'])\n",
    "# df = correct_data(df).iloc[1:]\n",
    "# if 'load_diff' in df.columns:\n",
    "#     df = df.drop(columns=['load_diff'])\n",
    "#\n",
    "# df = add_time_features(df)\n",
    "# train_df, test_df = split_train_test(df)\n",
    "# train_df_t, scalers = transform_series(train_df, use_boxcox=True)\n",
    "# test_df_t = apply_transformation(test_df, scalers, use_boxcox=True)"
   ],
   "id": "48d1c6b87f5d5f71",
   "outputs": [],
   "execution_count": 224
  },
  {
   "metadata": {
    "ExecuteTime": {
     "end_time": "2025-05-29T13:15:36.704408Z",
     "start_time": "2025-05-29T13:15:36.649458Z"
    }
   },
   "cell_type": "code",
   "source": [
    "class LSTMForecast(nn.Module):\n",
    "    def __init__(self,\n",
    "                 input_size=12,\n",
    "                 hidden_size=32,\n",
    "                 output_size=24,\n",
    "                 num_layers=1,\n",
    "                 lstm_dropout=0.2,\n",
    "                 final_dropout=0.2):\n",
    "        super().__init__()\n",
    "        self.hidden_size = hidden_size\n",
    "        self.num_layers = num_layers\n",
    "        self.lstm = nn.LSTM(input_size, hidden_size, num_layers, batch_first=True, dropout=lstm_dropout)\n",
    "        self.dropout = nn.Dropout(final_dropout)\n",
    "        self.fc = nn.Linear(hidden_size, output_size)\n",
    "\n",
    "    def forward(self, x):\n",
    "        out, _ = self.lstm(x)\n",
    "        out = out[:, -1, :]\n",
    "        out = self.dropout(out)  # Apply dropout\n",
    "        out = self.fc(out)   # Get the last time step's output\n",
    "        return out"
   ],
   "id": "a7728b9be7970e59",
   "outputs": [],
   "execution_count": 225
  },
  {
   "metadata": {
    "ExecuteTime": {
     "end_time": "2025-05-29T14:06:25.616869Z",
     "start_time": "2025-05-29T14:06:25.557798Z"
    }
   },
   "cell_type": "code",
   "source": [
    "def train_model(model, criterion, optimizer, train_loader, test_loader, num_epochs, device):\n",
    "    model.to(device)\n",
    "\n",
    "    for epoch in range(num_epochs):\n",
    "        print(f\"Epoch {epoch+1}/{num_epochs}\")\n",
    "        model.train()\n",
    "        train_loss = 0.0\n",
    "        train_preds = []\n",
    "        train_targets = []\n",
    "\n",
    "        for inputs, targets in tqdm(train_loader, leave=False, desc=\"Train\", dynamic_ncols=True):\n",
    "            inputs, targets = inputs.to(device), targets.to(device)\n",
    "\n",
    "            optimizer.zero_grad()\n",
    "            outputs = model(inputs)\n",
    "            loss = criterion(outputs, targets)\n",
    "            loss.backward()\n",
    "            optimizer.step()\n",
    "\n",
    "            train_loss += loss.item() * inputs.size(0)\n",
    "            train_preds.append(outputs.detach().cpu())\n",
    "            train_targets.append(targets.cpu())\n",
    "\n",
    "        avg_train_loss = train_loss / len(train_loader.dataset)\n",
    "        train_preds = torch.cat(train_preds).numpy()\n",
    "        train_targets = torch.cat(train_targets).numpy()\n",
    "        train_mae = mean_absolute_error(train_targets, train_preds)\n",
    "        train_mape = mean_absolute_percentage_error(train_targets, train_preds)\n",
    "\n",
    "        model.eval()\n",
    "        val_loss = 0.0\n",
    "        val_preds = []\n",
    "        val_targets = []\n",
    "\n",
    "        with torch.no_grad():\n",
    "            for inputs, targets in tqdm(test_loader, leave=False, desc=\"Val\", dynamic_ncols=True):\n",
    "                inputs, targets = inputs.to(device), targets.to(device)\n",
    "                outputs = model(inputs)\n",
    "                loss = criterion(outputs, targets)\n",
    "\n",
    "                val_loss += loss.item() * inputs.size(0)\n",
    "                val_preds.append(outputs.cpu())\n",
    "                val_targets.append(targets.cpu())\n",
    "\n",
    "        avg_val_loss = val_loss / len(test_loader.dataset)\n",
    "        val_preds = torch.cat(val_preds).numpy()\n",
    "        val_targets = torch.cat(val_targets).numpy()\n",
    "        val_mae = mean_absolute_error(val_targets, val_preds)\n",
    "        val_mape = mean_absolute_percentage_error(val_targets, val_preds)\n",
    "\n",
    "        print(f\"Train Loss: {avg_train_loss:.6f} | Val Loss: {avg_val_loss:.6f}\")\n",
    "        print(f\"Train MAE: {train_mae:.4f} | MAPE: {train_mape:.2%} | Val MAE: {val_mae:.4f} | MAPE: {val_mape:.2%}\")\n",
    "\n",
    "def evaluate_model(model, test_loader, device):\n",
    "    model.eval()\n",
    "    all_preds = []\n",
    "    all_targets = []\n",
    "\n",
    "    eval_bar = tqdm(test_loader, leave=False, desc=\"Val\", dynamic_ncols=True)\n",
    "\n",
    "    with torch.no_grad():\n",
    "        for inputs, targets in eval_bar:\n",
    "            inputs = inputs.to(device)\n",
    "            targets = targets.to(device)\n",
    "            outputs = model(inputs).cpu()\n",
    "            all_preds.append(outputs)\n",
    "            all_targets.append(targets.cpu())\n",
    "\n",
    "    y_pred = torch.cat(all_preds, dim=0)\n",
    "    y_true = torch.cat(all_targets, dim=0)\n",
    "    return y_true, y_pred"
   ],
   "id": "24a5a271d303e18f",
   "outputs": [],
   "execution_count": 262
  },
  {
   "metadata": {
    "ExecuteTime": {
     "end_time": "2025-05-29T19:49:10.949143Z",
     "start_time": "2025-05-29T19:49:10.888192Z"
    }
   },
   "cell_type": "code",
   "source": [
    "lookback = 64\n",
    "input_size = 3\n",
    "hidden_size = 256\n",
    "horizon = 24\n",
    "num_layers = 3\n",
    "lstm_dropout = 0.1\n",
    "final_dropout = 0.1\n",
    "\n",
    "lr = 1e-3\n",
    "num_epochs = 50"
   ],
   "id": "95ac8e989d19be1e",
   "outputs": [],
   "execution_count": 295
  },
  {
   "metadata": {
    "ExecuteTime": {
     "end_time": "2025-05-29T19:49:11.494891Z",
     "start_time": "2025-05-29T19:49:11.390699Z"
    }
   },
   "cell_type": "code",
   "source": [
    "df = pd.read_csv(r'../../data/processed/actual_load.csv', parse_dates=['timestamp'])\n",
    "df = correct_data(df).iloc[1:]\n",
    "if 'load_diff' in df.columns:\n",
    "    df = df.drop(columns=['load_diff'])\n",
    "\n",
    "df = add_time_features(df)\n",
    "train_df, val_df, test_df = split_train_test(df, train_frac=0.7, val_frac=0.15)\n",
    "\n",
    "train_df_t, scalers = transform_series(train_df, use_boxcox=True)\n",
    "val_df_t = apply_transformation(val_df, scalers, use_boxcox=True)\n",
    "test_df_t = apply_transformation(test_df, scalers, use_boxcox=True)"
   ],
   "id": "a0241e59551f22dc",
   "outputs": [],
   "execution_count": 296
  },
  {
   "metadata": {
    "ExecuteTime": {
     "end_time": "2025-05-29T19:49:12.031305Z",
     "start_time": "2025-05-29T19:49:11.955688Z"
    }
   },
   "cell_type": "code",
   "source": [
    "# Create sliding windows\n",
    "X_train, y_train = create_sliding_windows(train_df_t, lookback, horizon)\n",
    "X_val, y_val = create_sliding_windows(val_df_t, lookback, horizon)\n",
    "X_test, y_test = create_sliding_windows(test_df_t, lookback, horizon)\n",
    "\n",
    "# Wrap in TensorDatasets\n",
    "train_dataset = TensorDataset(X_train, y_train)\n",
    "val_dataset = TensorDataset(X_val, y_val)\n",
    "test_dataset = TensorDataset(X_test, y_test)\n",
    "\n",
    "# DataLoaders (no shuffling on val/test)\n",
    "train_loader = DataLoader(train_dataset, batch_size=64, shuffle=True)\n",
    "val_loader = DataLoader(val_dataset, batch_size=64, shuffle=False)\n",
    "test_loader = DataLoader(test_dataset, batch_size=64, shuffle=False)"
   ],
   "id": "6b1416d68819cc7a",
   "outputs": [],
   "execution_count": 297
  },
  {
   "metadata": {
    "ExecuteTime": {
     "end_time": "2025-05-29T19:49:12.616817Z",
     "start_time": "2025-05-29T19:49:12.550795Z"
    }
   },
   "cell_type": "code",
   "source": [
    "model = LSTMForecast(input_size=input_size,\n",
    "                     hidden_size=hidden_size ,\n",
    "                     output_size=horizon,\n",
    "                     num_layers=num_layers,\n",
    "                     lstm_dropout=lstm_dropout,\n",
    "                     final_dropout=final_dropout)\n",
    "# criterion = nn.SmoothL1Loss()\n",
    "# criterion = nn.MSELoss()\n",
    "criterion = nn.L1Loss()\n",
    "optimizer = optim.Adam(model.parameters(), lr=lr)"
   ],
   "id": "25b98e3e9f885c16",
   "outputs": [],
   "execution_count": 298
  },
  {
   "metadata": {
    "ExecuteTime": {
     "end_time": "2025-05-29T19:50:40.939194Z",
     "start_time": "2025-05-29T19:49:13.245430Z"
    }
   },
   "cell_type": "code",
   "source": "train_model(model, criterion, optimizer, train_loader, test_loader, num_epochs, device)",
   "id": "f55324f103110bb4",
   "outputs": [
    {
     "name": "stdout",
     "output_type": "stream",
     "text": [
      "Epoch 1/50\n"
     ]
    },
    {
     "name": "stderr",
     "output_type": "stream",
     "text": [
      "                                                      \r"
     ]
    },
    {
     "name": "stdout",
     "output_type": "stream",
     "text": [
      "Train Loss: 0.299241 | Val Loss: 0.298220\n",
      "Train MAE: 0.2992 | MAPE: 146.02% | Val MAE: 0.2982 | MAPE: 41.28%\n",
      "Epoch 2/50\n"
     ]
    },
    {
     "name": "stderr",
     "output_type": "stream",
     "text": [
      "                                                      \r"
     ]
    },
    {
     "name": "stdout",
     "output_type": "stream",
     "text": [
      "Train Loss: 0.118430 | Val Loss: 0.223169\n",
      "Train MAE: 0.1184 | MAPE: 56.67% | Val MAE: 0.2232 | MAPE: 41.24%\n",
      "Epoch 3/50\n"
     ]
    },
    {
     "name": "stderr",
     "output_type": "stream",
     "text": [
      "                                                      \r"
     ]
    },
    {
     "name": "stdout",
     "output_type": "stream",
     "text": [
      "Train Loss: 0.104544 | Val Loss: 0.227109\n",
      "Train MAE: 0.1045 | MAPE: 46.48% | Val MAE: 0.2271 | MAPE: 37.11%\n",
      "Epoch 4/50\n"
     ]
    },
    {
     "name": "stderr",
     "output_type": "stream",
     "text": [
      "                                                      \r"
     ]
    },
    {
     "name": "stdout",
     "output_type": "stream",
     "text": [
      "Train Loss: 0.095512 | Val Loss: 0.281714\n",
      "Train MAE: 0.0955 | MAPE: 41.04% | Val MAE: 0.2817 | MAPE: 54.47%\n",
      "Epoch 5/50\n"
     ]
    },
    {
     "name": "stderr",
     "output_type": "stream",
     "text": [
      "                                                      \r"
     ]
    },
    {
     "name": "stdout",
     "output_type": "stream",
     "text": [
      "Train Loss: 0.092062 | Val Loss: 0.267680\n",
      "Train MAE: 0.0921 | MAPE: 40.52% | Val MAE: 0.2677 | MAPE: 47.19%\n",
      "Epoch 6/50\n"
     ]
    },
    {
     "name": "stderr",
     "output_type": "stream",
     "text": [
      "                                                      \r"
     ]
    },
    {
     "name": "stdout",
     "output_type": "stream",
     "text": [
      "Train Loss: 0.090056 | Val Loss: 0.168560\n",
      "Train MAE: 0.0901 | MAPE: 37.70% | Val MAE: 0.1686 | MAPE: 32.94%\n",
      "Epoch 7/50\n"
     ]
    },
    {
     "name": "stderr",
     "output_type": "stream",
     "text": [
      "                                                      \r"
     ]
    },
    {
     "name": "stdout",
     "output_type": "stream",
     "text": [
      "Train Loss: 0.081428 | Val Loss: 0.179820\n",
      "Train MAE: 0.0814 | MAPE: 34.95% | Val MAE: 0.1798 | MAPE: 35.33%\n",
      "Epoch 8/50\n"
     ]
    },
    {
     "name": "stderr",
     "output_type": "stream",
     "text": [
      "                                                      \r"
     ]
    },
    {
     "name": "stdout",
     "output_type": "stream",
     "text": [
      "Train Loss: 0.078152 | Val Loss: 0.181259\n",
      "Train MAE: 0.0782 | MAPE: 33.04% | Val MAE: 0.1813 | MAPE: 38.82%\n",
      "Epoch 9/50\n"
     ]
    },
    {
     "name": "stderr",
     "output_type": "stream",
     "text": [
      "                                                      \r"
     ]
    },
    {
     "name": "stdout",
     "output_type": "stream",
     "text": [
      "Train Loss: 0.082607 | Val Loss: 0.205574\n",
      "Train MAE: 0.0826 | MAPE: 34.03% | Val MAE: 0.2056 | MAPE: 34.73%\n",
      "Epoch 10/50\n"
     ]
    },
    {
     "name": "stderr",
     "output_type": "stream",
     "text": [
      "                                                      \r"
     ]
    },
    {
     "name": "stdout",
     "output_type": "stream",
     "text": [
      "Train Loss: 0.078408 | Val Loss: 0.249804\n",
      "Train MAE: 0.0784 | MAPE: 32.45% | Val MAE: 0.2498 | MAPE: 33.28%\n",
      "Epoch 11/50\n"
     ]
    },
    {
     "name": "stderr",
     "output_type": "stream",
     "text": [
      "                                                      \r"
     ]
    },
    {
     "name": "stdout",
     "output_type": "stream",
     "text": [
      "Train Loss: 0.078143 | Val Loss: 0.181728\n",
      "Train MAE: 0.0781 | MAPE: 33.83% | Val MAE: 0.1817 | MAPE: 34.72%\n",
      "Epoch 12/50\n"
     ]
    },
    {
     "name": "stderr",
     "output_type": "stream",
     "text": [
      "                                                      \r"
     ]
    },
    {
     "name": "stdout",
     "output_type": "stream",
     "text": [
      "Train Loss: 0.079590 | Val Loss: 0.187006\n",
      "Train MAE: 0.0796 | MAPE: 33.72% | Val MAE: 0.1870 | MAPE: 34.96%\n",
      "Epoch 13/50\n"
     ]
    },
    {
     "name": "stderr",
     "output_type": "stream",
     "text": [
      "                                                      \r"
     ]
    },
    {
     "name": "stdout",
     "output_type": "stream",
     "text": [
      "Train Loss: 0.075379 | Val Loss: 0.225487\n",
      "Train MAE: 0.0754 | MAPE: 31.75% | Val MAE: 0.2255 | MAPE: 35.55%\n",
      "Epoch 14/50\n"
     ]
    },
    {
     "name": "stderr",
     "output_type": "stream",
     "text": [
      "                                                      \r"
     ]
    },
    {
     "name": "stdout",
     "output_type": "stream",
     "text": [
      "Train Loss: 0.074614 | Val Loss: 0.201190\n",
      "Train MAE: 0.0746 | MAPE: 31.26% | Val MAE: 0.2012 | MAPE: 27.91%\n",
      "Epoch 15/50\n"
     ]
    },
    {
     "name": "stderr",
     "output_type": "stream",
     "text": [
      "                                                      \r"
     ]
    },
    {
     "name": "stdout",
     "output_type": "stream",
     "text": [
      "Train Loss: 0.073075 | Val Loss: 0.192932\n",
      "Train MAE: 0.0731 | MAPE: 31.67% | Val MAE: 0.1929 | MAPE: 29.61%\n",
      "Epoch 16/50\n"
     ]
    },
    {
     "name": "stderr",
     "output_type": "stream",
     "text": [
      "                                                      \r"
     ]
    },
    {
     "name": "stdout",
     "output_type": "stream",
     "text": [
      "Train Loss: 0.070706 | Val Loss: 0.237829\n",
      "Train MAE: 0.0707 | MAPE: 29.70% | Val MAE: 0.2378 | MAPE: 26.24%\n",
      "Epoch 17/50\n"
     ]
    },
    {
     "name": "stderr",
     "output_type": "stream",
     "text": [
      "                                                      \r"
     ]
    },
    {
     "name": "stdout",
     "output_type": "stream",
     "text": [
      "Train Loss: 0.071000 | Val Loss: 0.179807\n",
      "Train MAE: 0.0710 | MAPE: 29.68% | Val MAE: 0.1798 | MAPE: 29.88%\n",
      "Epoch 18/50\n"
     ]
    },
    {
     "name": "stderr",
     "output_type": "stream",
     "text": [
      "                                                      \r"
     ]
    },
    {
     "name": "stdout",
     "output_type": "stream",
     "text": [
      "Train Loss: 0.069182 | Val Loss: 0.158480\n",
      "Train MAE: 0.0692 | MAPE: 29.70% | Val MAE: 0.1585 | MAPE: 31.51%\n",
      "Epoch 19/50\n"
     ]
    },
    {
     "name": "stderr",
     "output_type": "stream",
     "text": [
      "                                                      \r"
     ]
    },
    {
     "name": "stdout",
     "output_type": "stream",
     "text": [
      "Train Loss: 0.071773 | Val Loss: 0.206703\n",
      "Train MAE: 0.0718 | MAPE: 30.25% | Val MAE: 0.2067 | MAPE: 26.19%\n",
      "Epoch 20/50\n"
     ]
    },
    {
     "name": "stderr",
     "output_type": "stream",
     "text": [
      "                                                      \r"
     ]
    },
    {
     "name": "stdout",
     "output_type": "stream",
     "text": [
      "Train Loss: 0.067636 | Val Loss: 0.178483\n",
      "Train MAE: 0.0676 | MAPE: 28.61% | Val MAE: 0.1785 | MAPE: 26.63%\n",
      "Epoch 21/50\n"
     ]
    },
    {
     "name": "stderr",
     "output_type": "stream",
     "text": [
      "                                                      \r"
     ]
    },
    {
     "name": "stdout",
     "output_type": "stream",
     "text": [
      "Train Loss: 0.070398 | Val Loss: 0.197847\n",
      "Train MAE: 0.0704 | MAPE: 29.62% | Val MAE: 0.1978 | MAPE: 29.06%\n",
      "Epoch 22/50\n"
     ]
    },
    {
     "name": "stderr",
     "output_type": "stream",
     "text": [
      "                                                      \r"
     ]
    },
    {
     "name": "stdout",
     "output_type": "stream",
     "text": [
      "Train Loss: 0.067419 | Val Loss: 0.211619\n",
      "Train MAE: 0.0674 | MAPE: 28.48% | Val MAE: 0.2116 | MAPE: 27.19%\n",
      "Epoch 23/50\n"
     ]
    },
    {
     "name": "stderr",
     "output_type": "stream",
     "text": [
      "                                                      \r"
     ]
    },
    {
     "name": "stdout",
     "output_type": "stream",
     "text": [
      "Train Loss: 0.066743 | Val Loss: 0.238758\n",
      "Train MAE: 0.0667 | MAPE: 29.89% | Val MAE: 0.2388 | MAPE: 29.98%\n",
      "Epoch 24/50\n"
     ]
    },
    {
     "name": "stderr",
     "output_type": "stream",
     "text": [
      "                                                      \r"
     ]
    },
    {
     "name": "stdout",
     "output_type": "stream",
     "text": [
      "Train Loss: 0.065798 | Val Loss: 0.182577\n",
      "Train MAE: 0.0658 | MAPE: 29.20% | Val MAE: 0.1826 | MAPE: 28.74%\n",
      "Epoch 25/50\n"
     ]
    },
    {
     "name": "stderr",
     "output_type": "stream",
     "text": [
      "                                                      \r"
     ]
    },
    {
     "name": "stdout",
     "output_type": "stream",
     "text": [
      "Train Loss: 0.064322 | Val Loss: 0.211646\n",
      "Train MAE: 0.0643 | MAPE: 28.26% | Val MAE: 0.2116 | MAPE: 28.28%\n",
      "Epoch 26/50\n"
     ]
    },
    {
     "name": "stderr",
     "output_type": "stream",
     "text": [
      "                                                      \r"
     ]
    },
    {
     "name": "stdout",
     "output_type": "stream",
     "text": [
      "Train Loss: 0.064712 | Val Loss: 0.190320\n",
      "Train MAE: 0.0647 | MAPE: 27.05% | Val MAE: 0.1903 | MAPE: 26.43%\n",
      "Epoch 27/50\n"
     ]
    },
    {
     "name": "stderr",
     "output_type": "stream",
     "text": [
      "                                                      \r"
     ]
    },
    {
     "name": "stdout",
     "output_type": "stream",
     "text": [
      "Train Loss: 0.062897 | Val Loss: 0.199706\n",
      "Train MAE: 0.0629 | MAPE: 27.05% | Val MAE: 0.1997 | MAPE: 32.36%\n",
      "Epoch 28/50\n"
     ]
    },
    {
     "name": "stderr",
     "output_type": "stream",
     "text": [
      "                                                      \r"
     ]
    },
    {
     "name": "stdout",
     "output_type": "stream",
     "text": [
      "Train Loss: 0.061464 | Val Loss: 0.203000\n",
      "Train MAE: 0.0615 | MAPE: 27.10% | Val MAE: 0.2030 | MAPE: 26.82%\n",
      "Epoch 29/50\n"
     ]
    },
    {
     "name": "stderr",
     "output_type": "stream",
     "text": [
      "                                                      \r"
     ]
    },
    {
     "name": "stdout",
     "output_type": "stream",
     "text": [
      "Train Loss: 0.062681 | Val Loss: 0.200446\n",
      "Train MAE: 0.0627 | MAPE: 27.22% | Val MAE: 0.2004 | MAPE: 24.66%\n",
      "Epoch 30/50\n"
     ]
    },
    {
     "name": "stderr",
     "output_type": "stream",
     "text": [
      "                                                      \r"
     ]
    },
    {
     "name": "stdout",
     "output_type": "stream",
     "text": [
      "Train Loss: 0.063181 | Val Loss: 0.241685\n",
      "Train MAE: 0.0632 | MAPE: 27.41% | Val MAE: 0.2417 | MAPE: 28.01%\n",
      "Epoch 31/50\n"
     ]
    },
    {
     "name": "stderr",
     "output_type": "stream",
     "text": [
      "                                                      \r"
     ]
    },
    {
     "name": "stdout",
     "output_type": "stream",
     "text": [
      "Train Loss: 0.065584 | Val Loss: 0.237852\n",
      "Train MAE: 0.0656 | MAPE: 28.15% | Val MAE: 0.2379 | MAPE: 29.10%\n",
      "Epoch 32/50\n"
     ]
    },
    {
     "name": "stderr",
     "output_type": "stream",
     "text": [
      "                                                      \r"
     ]
    },
    {
     "name": "stdout",
     "output_type": "stream",
     "text": [
      "Train Loss: 0.061102 | Val Loss: 0.229812\n",
      "Train MAE: 0.0611 | MAPE: 25.85% | Val MAE: 0.2298 | MAPE: 29.20%\n",
      "Epoch 33/50\n"
     ]
    },
    {
     "name": "stderr",
     "output_type": "stream",
     "text": [
      "                                                      \r"
     ]
    },
    {
     "name": "stdout",
     "output_type": "stream",
     "text": [
      "Train Loss: 0.063086 | Val Loss: 0.211538\n",
      "Train MAE: 0.0631 | MAPE: 26.05% | Val MAE: 0.2115 | MAPE: 28.24%\n",
      "Epoch 34/50\n"
     ]
    },
    {
     "name": "stderr",
     "output_type": "stream",
     "text": [
      "                                                      \r"
     ]
    },
    {
     "name": "stdout",
     "output_type": "stream",
     "text": [
      "Train Loss: 0.061684 | Val Loss: 0.204835\n",
      "Train MAE: 0.0617 | MAPE: 26.60% | Val MAE: 0.2048 | MAPE: 29.62%\n",
      "Epoch 35/50\n"
     ]
    },
    {
     "name": "stderr",
     "output_type": "stream",
     "text": [
      "                                                      \r"
     ]
    },
    {
     "name": "stdout",
     "output_type": "stream",
     "text": [
      "Train Loss: 0.063856 | Val Loss: 0.201052\n",
      "Train MAE: 0.0639 | MAPE: 27.45% | Val MAE: 0.2011 | MAPE: 29.65%\n",
      "Epoch 36/50\n"
     ]
    },
    {
     "name": "stderr",
     "output_type": "stream",
     "text": [
      "                                                      \r"
     ]
    },
    {
     "name": "stdout",
     "output_type": "stream",
     "text": [
      "Train Loss: 0.060962 | Val Loss: 0.251995\n",
      "Train MAE: 0.0610 | MAPE: 26.88% | Val MAE: 0.2520 | MAPE: 29.84%\n",
      "Epoch 37/50\n"
     ]
    },
    {
     "name": "stderr",
     "output_type": "stream",
     "text": [
      "                                                      \r"
     ]
    },
    {
     "name": "stdout",
     "output_type": "stream",
     "text": [
      "Train Loss: 0.059611 | Val Loss: 0.234506\n",
      "Train MAE: 0.0596 | MAPE: 25.32% | Val MAE: 0.2345 | MAPE: 28.42%\n",
      "Epoch 38/50\n"
     ]
    },
    {
     "name": "stderr",
     "output_type": "stream",
     "text": [
      "                                                      \r"
     ]
    },
    {
     "name": "stdout",
     "output_type": "stream",
     "text": [
      "Train Loss: 0.058768 | Val Loss: 0.217573\n",
      "Train MAE: 0.0588 | MAPE: 26.69% | Val MAE: 0.2176 | MAPE: 33.21%\n",
      "Epoch 39/50\n"
     ]
    },
    {
     "name": "stderr",
     "output_type": "stream",
     "text": [
      "                                                      \r"
     ]
    },
    {
     "name": "stdout",
     "output_type": "stream",
     "text": [
      "Train Loss: 0.059899 | Val Loss: 0.257787\n",
      "Train MAE: 0.0599 | MAPE: 25.69% | Val MAE: 0.2578 | MAPE: 31.44%\n",
      "Epoch 40/50\n"
     ]
    },
    {
     "name": "stderr",
     "output_type": "stream",
     "text": [
      "                                                      \r"
     ]
    },
    {
     "name": "stdout",
     "output_type": "stream",
     "text": [
      "Train Loss: 0.056036 | Val Loss: 0.259312\n",
      "Train MAE: 0.0560 | MAPE: 25.13% | Val MAE: 0.2593 | MAPE: 28.93%\n",
      "Epoch 41/50\n"
     ]
    },
    {
     "name": "stderr",
     "output_type": "stream",
     "text": [
      "                                                      \r"
     ]
    },
    {
     "name": "stdout",
     "output_type": "stream",
     "text": [
      "Train Loss: 0.056085 | Val Loss: 0.247383\n",
      "Train MAE: 0.0561 | MAPE: 24.25% | Val MAE: 0.2474 | MAPE: 29.52%\n",
      "Epoch 42/50\n"
     ]
    },
    {
     "name": "stderr",
     "output_type": "stream",
     "text": [
      "                                                      \r"
     ]
    },
    {
     "name": "stdout",
     "output_type": "stream",
     "text": [
      "Train Loss: 0.055960 | Val Loss: 0.245869\n",
      "Train MAE: 0.0560 | MAPE: 24.74% | Val MAE: 0.2459 | MAPE: 27.56%\n",
      "Epoch 43/50\n"
     ]
    },
    {
     "name": "stderr",
     "output_type": "stream",
     "text": [
      "                                                      \r"
     ]
    },
    {
     "name": "stdout",
     "output_type": "stream",
     "text": [
      "Train Loss: 0.054510 | Val Loss: 0.250686\n",
      "Train MAE: 0.0545 | MAPE: 23.78% | Val MAE: 0.2507 | MAPE: 27.77%\n",
      "Epoch 44/50\n"
     ]
    },
    {
     "name": "stderr",
     "output_type": "stream",
     "text": [
      "                                                      \r"
     ]
    },
    {
     "name": "stdout",
     "output_type": "stream",
     "text": [
      "Train Loss: 0.060039 | Val Loss: 0.224233\n",
      "Train MAE: 0.0600 | MAPE: 25.89% | Val MAE: 0.2242 | MAPE: 28.79%\n",
      "Epoch 45/50\n"
     ]
    },
    {
     "name": "stderr",
     "output_type": "stream",
     "text": [
      "                                                      \r"
     ]
    },
    {
     "name": "stdout",
     "output_type": "stream",
     "text": [
      "Train Loss: 0.055711 | Val Loss: 0.233963\n",
      "Train MAE: 0.0557 | MAPE: 24.08% | Val MAE: 0.2340 | MAPE: 31.38%\n",
      "Epoch 46/50\n"
     ]
    },
    {
     "name": "stderr",
     "output_type": "stream",
     "text": [
      "                                                      \r"
     ]
    },
    {
     "name": "stdout",
     "output_type": "stream",
     "text": [
      "Train Loss: 0.057466 | Val Loss: 0.238076\n",
      "Train MAE: 0.0575 | MAPE: 24.04% | Val MAE: 0.2381 | MAPE: 34.79%\n",
      "Epoch 47/50\n"
     ]
    },
    {
     "name": "stderr",
     "output_type": "stream",
     "text": [
      "                                                      \r"
     ]
    },
    {
     "name": "stdout",
     "output_type": "stream",
     "text": [
      "Train Loss: 0.055515 | Val Loss: 0.265195\n",
      "Train MAE: 0.0555 | MAPE: 24.06% | Val MAE: 0.2652 | MAPE: 34.19%\n",
      "Epoch 48/50\n"
     ]
    },
    {
     "name": "stderr",
     "output_type": "stream",
     "text": [
      "                                                      \r"
     ]
    },
    {
     "name": "stdout",
     "output_type": "stream",
     "text": [
      "Train Loss: 0.054692 | Val Loss: 0.251497\n",
      "Train MAE: 0.0547 | MAPE: 23.79% | Val MAE: 0.2515 | MAPE: 31.28%\n",
      "Epoch 49/50\n"
     ]
    },
    {
     "name": "stderr",
     "output_type": "stream",
     "text": [
      "                                                      \r"
     ]
    },
    {
     "name": "stdout",
     "output_type": "stream",
     "text": [
      "Train Loss: 0.054716 | Val Loss: 0.237742\n",
      "Train MAE: 0.0547 | MAPE: 24.26% | Val MAE: 0.2377 | MAPE: 34.31%\n",
      "Epoch 50/50\n"
     ]
    },
    {
     "name": "stderr",
     "output_type": "stream",
     "text": [
      "                                                      "
     ]
    },
    {
     "name": "stdout",
     "output_type": "stream",
     "text": [
      "Train Loss: 0.053643 | Val Loss: 0.250238\n",
      "Train MAE: 0.0536 | MAPE: 23.01% | Val MAE: 0.2502 | MAPE: 36.94%\n"
     ]
    },
    {
     "name": "stderr",
     "output_type": "stream",
     "text": [
      "\r"
     ]
    }
   ],
   "execution_count": 299
  },
  {
   "metadata": {
    "ExecuteTime": {
     "end_time": "2025-05-29T19:50:47.996635Z",
     "start_time": "2025-05-29T19:50:47.458145Z"
    }
   },
   "cell_type": "code",
   "source": [
    "y_true, y_pred = evaluate_model(model, test_loader, device)\n",
    "results = compute_forecast_metrics(y_true, y_pred)\n",
    "results"
   ],
   "id": "bc638bd378cf3a62",
   "outputs": [
    {
     "name": "stderr",
     "output_type": "stream",
     "text": [
      "                                                   \r"
     ]
    },
    {
     "data": {
      "text/plain": [
       "    horizon       MAE      MAPE\n",
       "0         1  0.163377  0.134330\n",
       "1         2  0.172565  0.149339\n",
       "2         3  0.182923  0.151190\n",
       "3         4  0.184322  0.166334\n",
       "4         5  0.195566  0.179294\n",
       "5         6  0.202098  0.197868\n",
       "6         7  0.199574  0.204531\n",
       "7         8  0.208537  0.221392\n",
       "8         9  0.215762  0.234762\n",
       "9        10  0.233382  0.242442\n",
       "10       11  0.238183  0.260959\n",
       "11       12  0.245006  0.290848\n",
       "12       13  0.249846  0.332455\n",
       "13       14  0.264068  0.370473\n",
       "14       15  0.270488  0.406964\n",
       "15       16  0.280266  0.451846\n",
       "16       17  0.286876  0.473758\n",
       "17       18  0.298571  0.515052\n",
       "18       19  0.305819  0.550738\n",
       "19       20  0.310156  0.578414\n",
       "20       21  0.320875  0.605687\n",
       "21       22  0.315549  0.654138\n",
       "22       23  0.328679  0.712795\n",
       "23       24  0.333233  0.779510\n",
       "24  overall  0.250238  0.369380"
      ],
      "text/html": [
       "<div>\n",
       "<style scoped>\n",
       "    .dataframe tbody tr th:only-of-type {\n",
       "        vertical-align: middle;\n",
       "    }\n",
       "\n",
       "    .dataframe tbody tr th {\n",
       "        vertical-align: top;\n",
       "    }\n",
       "\n",
       "    .dataframe thead th {\n",
       "        text-align: right;\n",
       "    }\n",
       "</style>\n",
       "<table border=\"1\" class=\"dataframe\">\n",
       "  <thead>\n",
       "    <tr style=\"text-align: right;\">\n",
       "      <th></th>\n",
       "      <th>horizon</th>\n",
       "      <th>MAE</th>\n",
       "      <th>MAPE</th>\n",
       "    </tr>\n",
       "  </thead>\n",
       "  <tbody>\n",
       "    <tr>\n",
       "      <th>0</th>\n",
       "      <td>1</td>\n",
       "      <td>0.163377</td>\n",
       "      <td>0.134330</td>\n",
       "    </tr>\n",
       "    <tr>\n",
       "      <th>1</th>\n",
       "      <td>2</td>\n",
       "      <td>0.172565</td>\n",
       "      <td>0.149339</td>\n",
       "    </tr>\n",
       "    <tr>\n",
       "      <th>2</th>\n",
       "      <td>3</td>\n",
       "      <td>0.182923</td>\n",
       "      <td>0.151190</td>\n",
       "    </tr>\n",
       "    <tr>\n",
       "      <th>3</th>\n",
       "      <td>4</td>\n",
       "      <td>0.184322</td>\n",
       "      <td>0.166334</td>\n",
       "    </tr>\n",
       "    <tr>\n",
       "      <th>4</th>\n",
       "      <td>5</td>\n",
       "      <td>0.195566</td>\n",
       "      <td>0.179294</td>\n",
       "    </tr>\n",
       "    <tr>\n",
       "      <th>5</th>\n",
       "      <td>6</td>\n",
       "      <td>0.202098</td>\n",
       "      <td>0.197868</td>\n",
       "    </tr>\n",
       "    <tr>\n",
       "      <th>6</th>\n",
       "      <td>7</td>\n",
       "      <td>0.199574</td>\n",
       "      <td>0.204531</td>\n",
       "    </tr>\n",
       "    <tr>\n",
       "      <th>7</th>\n",
       "      <td>8</td>\n",
       "      <td>0.208537</td>\n",
       "      <td>0.221392</td>\n",
       "    </tr>\n",
       "    <tr>\n",
       "      <th>8</th>\n",
       "      <td>9</td>\n",
       "      <td>0.215762</td>\n",
       "      <td>0.234762</td>\n",
       "    </tr>\n",
       "    <tr>\n",
       "      <th>9</th>\n",
       "      <td>10</td>\n",
       "      <td>0.233382</td>\n",
       "      <td>0.242442</td>\n",
       "    </tr>\n",
       "    <tr>\n",
       "      <th>10</th>\n",
       "      <td>11</td>\n",
       "      <td>0.238183</td>\n",
       "      <td>0.260959</td>\n",
       "    </tr>\n",
       "    <tr>\n",
       "      <th>11</th>\n",
       "      <td>12</td>\n",
       "      <td>0.245006</td>\n",
       "      <td>0.290848</td>\n",
       "    </tr>\n",
       "    <tr>\n",
       "      <th>12</th>\n",
       "      <td>13</td>\n",
       "      <td>0.249846</td>\n",
       "      <td>0.332455</td>\n",
       "    </tr>\n",
       "    <tr>\n",
       "      <th>13</th>\n",
       "      <td>14</td>\n",
       "      <td>0.264068</td>\n",
       "      <td>0.370473</td>\n",
       "    </tr>\n",
       "    <tr>\n",
       "      <th>14</th>\n",
       "      <td>15</td>\n",
       "      <td>0.270488</td>\n",
       "      <td>0.406964</td>\n",
       "    </tr>\n",
       "    <tr>\n",
       "      <th>15</th>\n",
       "      <td>16</td>\n",
       "      <td>0.280266</td>\n",
       "      <td>0.451846</td>\n",
       "    </tr>\n",
       "    <tr>\n",
       "      <th>16</th>\n",
       "      <td>17</td>\n",
       "      <td>0.286876</td>\n",
       "      <td>0.473758</td>\n",
       "    </tr>\n",
       "    <tr>\n",
       "      <th>17</th>\n",
       "      <td>18</td>\n",
       "      <td>0.298571</td>\n",
       "      <td>0.515052</td>\n",
       "    </tr>\n",
       "    <tr>\n",
       "      <th>18</th>\n",
       "      <td>19</td>\n",
       "      <td>0.305819</td>\n",
       "      <td>0.550738</td>\n",
       "    </tr>\n",
       "    <tr>\n",
       "      <th>19</th>\n",
       "      <td>20</td>\n",
       "      <td>0.310156</td>\n",
       "      <td>0.578414</td>\n",
       "    </tr>\n",
       "    <tr>\n",
       "      <th>20</th>\n",
       "      <td>21</td>\n",
       "      <td>0.320875</td>\n",
       "      <td>0.605687</td>\n",
       "    </tr>\n",
       "    <tr>\n",
       "      <th>21</th>\n",
       "      <td>22</td>\n",
       "      <td>0.315549</td>\n",
       "      <td>0.654138</td>\n",
       "    </tr>\n",
       "    <tr>\n",
       "      <th>22</th>\n",
       "      <td>23</td>\n",
       "      <td>0.328679</td>\n",
       "      <td>0.712795</td>\n",
       "    </tr>\n",
       "    <tr>\n",
       "      <th>23</th>\n",
       "      <td>24</td>\n",
       "      <td>0.333233</td>\n",
       "      <td>0.779510</td>\n",
       "    </tr>\n",
       "    <tr>\n",
       "      <th>24</th>\n",
       "      <td>overall</td>\n",
       "      <td>0.250238</td>\n",
       "      <td>0.369380</td>\n",
       "    </tr>\n",
       "  </tbody>\n",
       "</table>\n",
       "</div>"
      ]
     },
     "execution_count": 300,
     "metadata": {},
     "output_type": "execute_result"
    }
   ],
   "execution_count": 300
  },
  {
   "metadata": {
    "ExecuteTime": {
     "end_time": "2025-05-29T19:50:49.163327Z",
     "start_time": "2025-05-29T19:50:49.087169Z"
    }
   },
   "cell_type": "code",
   "source": [
    "y_true_inv = inverse_transform(y_true.numpy(), scalers['load']['scaler'], scalers['load'].get('lambda'))\n",
    "y_pred_inv = inverse_transform(y_pred.numpy(), scalers['load']['scaler'], scalers['load'].get('lambda'))\n",
    "metrics_df = compute_forecast_metrics(y_true_inv, y_pred_inv)\n",
    "metrics_df"
   ],
   "id": "b0a4119e700816fa",
   "outputs": [
    {
     "data": {
      "text/plain": [
       "    horizon          MAE      MAPE\n",
       "0         1  1367.088967  0.013825\n",
       "1         2  1444.229095  0.014631\n",
       "2         3  1531.113556  0.015523\n",
       "3         4  1542.745426  0.015622\n",
       "4         5  1637.362151  0.016654\n",
       "5         6  1692.152806  0.017212\n",
       "6         7  1671.258860  0.017055\n",
       "7         8  1746.781813  0.017896\n",
       "8         9  1807.532090  0.018545\n",
       "9        10  1955.812965  0.020157\n",
       "10       11  1996.454381  0.020645\n",
       "11       12  2053.978397  0.021287\n",
       "12       13  2094.916676  0.021768\n",
       "13       14  2214.667354  0.023075\n",
       "14       15  2269.016912  0.023727\n",
       "15       16  2351.504737  0.024659\n",
       "16       17  2407.312137  0.025292\n",
       "17       18  2505.835613  0.026369\n",
       "18       19  2567.300753  0.027129\n",
       "19       20  2604.217007  0.027611\n",
       "20       21  2694.405150  0.028568\n",
       "21       22  2650.333661  0.028252\n",
       "22       23  2761.064089  0.029482\n",
       "23       24  2799.922270  0.030004\n",
       "24  overall  2098.625286  0.021874"
      ],
      "text/html": [
       "<div>\n",
       "<style scoped>\n",
       "    .dataframe tbody tr th:only-of-type {\n",
       "        vertical-align: middle;\n",
       "    }\n",
       "\n",
       "    .dataframe tbody tr th {\n",
       "        vertical-align: top;\n",
       "    }\n",
       "\n",
       "    .dataframe thead th {\n",
       "        text-align: right;\n",
       "    }\n",
       "</style>\n",
       "<table border=\"1\" class=\"dataframe\">\n",
       "  <thead>\n",
       "    <tr style=\"text-align: right;\">\n",
       "      <th></th>\n",
       "      <th>horizon</th>\n",
       "      <th>MAE</th>\n",
       "      <th>MAPE</th>\n",
       "    </tr>\n",
       "  </thead>\n",
       "  <tbody>\n",
       "    <tr>\n",
       "      <th>0</th>\n",
       "      <td>1</td>\n",
       "      <td>1367.088967</td>\n",
       "      <td>0.013825</td>\n",
       "    </tr>\n",
       "    <tr>\n",
       "      <th>1</th>\n",
       "      <td>2</td>\n",
       "      <td>1444.229095</td>\n",
       "      <td>0.014631</td>\n",
       "    </tr>\n",
       "    <tr>\n",
       "      <th>2</th>\n",
       "      <td>3</td>\n",
       "      <td>1531.113556</td>\n",
       "      <td>0.015523</td>\n",
       "    </tr>\n",
       "    <tr>\n",
       "      <th>3</th>\n",
       "      <td>4</td>\n",
       "      <td>1542.745426</td>\n",
       "      <td>0.015622</td>\n",
       "    </tr>\n",
       "    <tr>\n",
       "      <th>4</th>\n",
       "      <td>5</td>\n",
       "      <td>1637.362151</td>\n",
       "      <td>0.016654</td>\n",
       "    </tr>\n",
       "    <tr>\n",
       "      <th>5</th>\n",
       "      <td>6</td>\n",
       "      <td>1692.152806</td>\n",
       "      <td>0.017212</td>\n",
       "    </tr>\n",
       "    <tr>\n",
       "      <th>6</th>\n",
       "      <td>7</td>\n",
       "      <td>1671.258860</td>\n",
       "      <td>0.017055</td>\n",
       "    </tr>\n",
       "    <tr>\n",
       "      <th>7</th>\n",
       "      <td>8</td>\n",
       "      <td>1746.781813</td>\n",
       "      <td>0.017896</td>\n",
       "    </tr>\n",
       "    <tr>\n",
       "      <th>8</th>\n",
       "      <td>9</td>\n",
       "      <td>1807.532090</td>\n",
       "      <td>0.018545</td>\n",
       "    </tr>\n",
       "    <tr>\n",
       "      <th>9</th>\n",
       "      <td>10</td>\n",
       "      <td>1955.812965</td>\n",
       "      <td>0.020157</td>\n",
       "    </tr>\n",
       "    <tr>\n",
       "      <th>10</th>\n",
       "      <td>11</td>\n",
       "      <td>1996.454381</td>\n",
       "      <td>0.020645</td>\n",
       "    </tr>\n",
       "    <tr>\n",
       "      <th>11</th>\n",
       "      <td>12</td>\n",
       "      <td>2053.978397</td>\n",
       "      <td>0.021287</td>\n",
       "    </tr>\n",
       "    <tr>\n",
       "      <th>12</th>\n",
       "      <td>13</td>\n",
       "      <td>2094.916676</td>\n",
       "      <td>0.021768</td>\n",
       "    </tr>\n",
       "    <tr>\n",
       "      <th>13</th>\n",
       "      <td>14</td>\n",
       "      <td>2214.667354</td>\n",
       "      <td>0.023075</td>\n",
       "    </tr>\n",
       "    <tr>\n",
       "      <th>14</th>\n",
       "      <td>15</td>\n",
       "      <td>2269.016912</td>\n",
       "      <td>0.023727</td>\n",
       "    </tr>\n",
       "    <tr>\n",
       "      <th>15</th>\n",
       "      <td>16</td>\n",
       "      <td>2351.504737</td>\n",
       "      <td>0.024659</td>\n",
       "    </tr>\n",
       "    <tr>\n",
       "      <th>16</th>\n",
       "      <td>17</td>\n",
       "      <td>2407.312137</td>\n",
       "      <td>0.025292</td>\n",
       "    </tr>\n",
       "    <tr>\n",
       "      <th>17</th>\n",
       "      <td>18</td>\n",
       "      <td>2505.835613</td>\n",
       "      <td>0.026369</td>\n",
       "    </tr>\n",
       "    <tr>\n",
       "      <th>18</th>\n",
       "      <td>19</td>\n",
       "      <td>2567.300753</td>\n",
       "      <td>0.027129</td>\n",
       "    </tr>\n",
       "    <tr>\n",
       "      <th>19</th>\n",
       "      <td>20</td>\n",
       "      <td>2604.217007</td>\n",
       "      <td>0.027611</td>\n",
       "    </tr>\n",
       "    <tr>\n",
       "      <th>20</th>\n",
       "      <td>21</td>\n",
       "      <td>2694.405150</td>\n",
       "      <td>0.028568</td>\n",
       "    </tr>\n",
       "    <tr>\n",
       "      <th>21</th>\n",
       "      <td>22</td>\n",
       "      <td>2650.333661</td>\n",
       "      <td>0.028252</td>\n",
       "    </tr>\n",
       "    <tr>\n",
       "      <th>22</th>\n",
       "      <td>23</td>\n",
       "      <td>2761.064089</td>\n",
       "      <td>0.029482</td>\n",
       "    </tr>\n",
       "    <tr>\n",
       "      <th>23</th>\n",
       "      <td>24</td>\n",
       "      <td>2799.922270</td>\n",
       "      <td>0.030004</td>\n",
       "    </tr>\n",
       "    <tr>\n",
       "      <th>24</th>\n",
       "      <td>overall</td>\n",
       "      <td>2098.625286</td>\n",
       "      <td>0.021874</td>\n",
       "    </tr>\n",
       "  </tbody>\n",
       "</table>\n",
       "</div>"
      ]
     },
     "execution_count": 301,
     "metadata": {},
     "output_type": "execute_result"
    }
   ],
   "execution_count": 301
  },
  {
   "metadata": {
    "ExecuteTime": {
     "end_time": "2025-05-29T19:50:50.329183Z",
     "start_time": "2025-05-29T19:50:50.004139Z"
    }
   },
   "cell_type": "code",
   "source": "plot_test_vs_pred_time(test_df, y_true, y_pred, horizons=[1,2,3])",
   "id": "3fc318680a6080e3",
   "outputs": [
    {
     "data": {
      "text/plain": [
       "<Figure size 1200x400 with 1 Axes>"
      ],
      "image/png": "[encoded data removed]"
     },
     "metadata": {},
     "output_type": "display_data"
    },
    {
     "data": {
      "text/plain": [
       "<Figure size 1200x400 with 1 Axes>"
      ],
      "image/png": "[encoded data removed]"
     },
     "metadata": {},
     "output_type": "display_data"
    },
    {
     "data": {
      "text/plain": [
       "<Figure size 1200x400 with 1 Axes>"
      ],
      "image/png": "[encoded data removed]"
     },
     "metadata": {},
     "output_type": "display_data"
    }
   ],
   "execution_count": 302
  },
  {
   "metadata": {},
   "cell_type": "code",
   "outputs": [],
   "execution_count": null,
   "source": "",
   "id": "2ef4bdc166082e79"
  }
 ],
 "metadata": {
  "kernelspec": {
   "display_name": "Python 3",
   "language": "python",
   "name": "python3"
  },
  "language_info": {
   "codemirror_mode": {
    "name": "ipython",
    "version": 2
   },
   "file_extension": ".py",
   "mimetype": "text/x-python",
   "name": "python",
   "nbconvert_exporter": "python",
   "pygments_lexer": "ipython2",
   "version": "2.7.6"
  }
 },
 "nbformat": 4,
 "nbformat_minor": 5
}
