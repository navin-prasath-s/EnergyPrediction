{
 "cells": [
  {
   "cell_type": "code",
   "id": "initial_id",
   "metadata": {
    "collapsed": true,
    "ExecuteTime": {
     "end_time": "2025-05-20T12:51:32.134471Z",
     "start_time": "2025-05-20T12:51:31.271043Z"
    }
   },
   "source": [
    "%load_ext autoreload\n",
    "%autoreload 2\n",
    "\n",
    "import pandas as pd\n",
    "\n",
    "from code.evaluation import (compute_horizon_degradation_metrics,\n",
    "                             plot_forecast_degradation,\n",
    "                             plot_selected_horizons,\n",
    "                             plot_forecast_trajectory,\n",
    "                             compute_forecast_metrics)\n",
    "\n",
    "from code.data_utils import clean_actual_data, clean_forecast_data"
   ],
   "outputs": [],
   "execution_count": 1
  },
  {
   "metadata": {
    "ExecuteTime": {
     "end_time": "2025-05-21T07:22:15.492074Z",
     "start_time": "2025-05-21T07:22:15.334951Z"
    }
   },
   "cell_type": "code",
   "source": [
    "actual_df = pd.read_csv(r'../../data/processed/actual_load.csv', parse_dates=['timestamp'])\n",
    "forecast_df = pd.read_csv(r'../../data/processed/forecast_load.csv', parse_dates=['issued_at', 'target_time'])"
   ],
   "id": "14e5bff6e27b9ea2",
   "outputs": [],
   "execution_count": 6
  },
  {
   "metadata": {},
   "cell_type": "code",
   "outputs": [],
   "execution_count": null,
   "source": "",
   "id": "72548a4288090e1c"
  }
 ],
 "metadata": {
  "kernelspec": {
   "display_name": "Python 3",
   "language": "python",
   "name": "python3"
  },
  "language_info": {
   "codemirror_mode": {
    "name": "ipython",
    "version": 2
   },
   "file_extension": ".py",
   "mimetype": "text/x-python",
   "name": "python",
   "nbconvert_exporter": "python",
   "pygments_lexer": "ipython2",
   "version": "2.7.6"
  }
 },
 "nbformat": 4,
 "nbformat_minor": 5
}
